{
 "cells": [
  {
   "cell_type": "markdown",
   "id": "99f191dc",
   "metadata": {},
   "source": [
    "# Preprocessing"
   ]
  },
  {
   "cell_type": "code",
   "execution_count": 1,
   "id": "3005704a",
   "metadata": {},
   "outputs": [],
   "source": [
    "# Please email macw@cmu.edu to gain access to the Pitt corpus from DementiaBank"
   ]
  },
  {
   "cell_type": "code",
   "execution_count": 2,
   "id": "4b32ea4a",
   "metadata": {},
   "outputs": [],
   "source": [
    "import pandas as pd\n",
    "import zipfile\n",
    "import io\n",
    "\n",
    "import re\n",
    "import numpy as np\\\n",
    "\n",
    "from collections import Counter\n",
    "from scipy.stats import ttest_ind\n",
    "from scipy.stats import pearsonr\n",
    "from scipy.stats import shapiro\n",
    "from researchpy import ttest as rp\n",
    "import matplotlib.pyplot as plt\n",
    "import seaborn as sns"
   ]
  },
  {
   "cell_type": "code",
   "execution_count": 3,
   "id": "a9b404da",
   "metadata": {
    "scrolled": true
   },
   "outputs": [
    {
     "data": {
      "text/html": [
       "<div>\n",
       "<style scoped>\n",
       "    .dataframe tbody tr th:only-of-type {\n",
       "        vertical-align: middle;\n",
       "    }\n",
       "\n",
       "    .dataframe tbody tr th {\n",
       "        vertical-align: top;\n",
       "    }\n",
       "\n",
       "    .dataframe thead th {\n",
       "        text-align: right;\n",
       "    }\n",
       "</style>\n",
       "<table border=\"1\" class=\"dataframe\">\n",
       "  <thead>\n",
       "    <tr style=\"text-align: right;\">\n",
       "      <th></th>\n",
       "      <th>File Name</th>\n",
       "      <th>Patient Demographic</th>\n",
       "      <th>Transcript</th>\n",
       "    </tr>\n",
       "  </thead>\n",
       "  <tbody>\n",
       "    <tr>\n",
       "      <th>0</th>\n",
       "      <td>Pitt/Dementia/cookie/711-0.cha</td>\n",
       "      <td>@ID:\\teng|Pitt|PAR|77;|male|PossibleAD||Participant|25||</td>\n",
       "      <td>*INV:\\tI want you to take a look at this picture here and tell me *PAR:\\toh ‡ you want me to tell you . [+ exc] \u00156440_7440\u0015 *INV:\\t+&lt; yeah ‡ just tell me everything that you see going on in that *PAR:\\tthe mother and her two children . [+ gram] \u001510776_12656\u0015 *PAR:\\tand the children are getting in the cookie jar . \u001512738_15758\u0015 *PAR:\\tand she's doing the dishes and spilling the water . \u001515777_18357\u0015 *PAR:\\tand she had the spigot on . \u001518380_19540\u0015 *PAR:\\tand she didn't know it perhaps . \u001519555_21015\u0015 *PAR:\\t&amp;=coughs pardon me . [+ exc] \u001523468_23948\u0015 *PAR:\\tand they're looking out into the garden from the kitchen window . \u001525452_28682\u0015 *PAR:\\tit's open . \u001528700_29390\u0015 *PAR:\\tand the &amp;-uh cookies must be pretty good they're eating . \u001529407_34157\u0015 *PAR:\\t&lt;the tair [: chair] [* p:w-ret]&gt; [//] &amp;-uh the chair [: stool] *PAR:\\tand &amp;-uh &lt;the lady&gt; [//] the mother's splashing her shoes and *PAR:\\tand there's &amp;-um &amp;-uh a window and curtains on the window . \u001547868_53838\u0015 *PAR:\\tand I can see some trees outside there . \u001553855_56105\u0015 *PAR:\\tand [/] and there's dishes that &amp;+h had been washed . \u001557755_58335\u0015 *PAR:\\tand she's dryin(g) them . \u001558335_61585\u0015 *PAR:\\tand there's some shrub out there and +... \u001562110_63300\u0015 *INV:\\tokay very good . \u001565087_67258\u0015</td>\n",
       "    </tr>\n",
       "    <tr>\n",
       "      <th>1</th>\n",
       "      <td>Pitt/Dementia/cookie/007-3.cha</td>\n",
       "      <td>@ID:\\teng|Pitt|PAR|75;|female|ProbableAD||Participant|15||</td>\n",
       "      <td>*INV:\\ton in the picture . \u0015610_1310\u0015 *PAR:\\twell the girl is telling the boy to get the cookies down but don't *PAR:\\tand the boy is also falling over off the stool . \u00159667_13427\u0015 *PAR:\\tand the mother is letting the water run out_of the sink . \u001514362_17802\u0015 *PAR:\\tand she's dryin(g) dishes . \u001518708_20048\u0015 *PAR:\\tI don't quite get that but then &amp;=laughs +... [+ exc] \u001520100_23060\u0015 *PAR:\\t&amp;-uh she has water on the floor and [/] and basically it's kind_of *PAR:\\teverything's goin(g) haywire . \u001535934_37264\u0015 *INV:\\tokay . \u001538620_38830\u0015 *PAR:\\tshe needs to turn off the water . \u001542299_43779\u0015 *PAR:\\tif she turned off the water she'd be a hundred percent better off . *INV:\\tokay . \u001548413_48503\u0015 *INV:\\tokay . \u001552246_52336\u0015</td>\n",
       "    </tr>\n",
       "    <tr>\n",
       "      <th>2</th>\n",
       "      <td>Pitt/Dementia/cookie/001-0.cha</td>\n",
       "      <td>@ID:\\teng|Pitt|PAR|57;|male|ProbableAD||Participant|18||</td>\n",
       "      <td>*INV:\\tthis is the picture . \u0015340_2530\u0015 *PAR:\\tmhm . [+ exc] \u00152581_3211\u0015 *INV:\\tjust tell me everything that you see happening in that picture . \u00153426_6646\u0015 *PAR:\\t+&lt; alright . [+ exc] \u00156650_6820\u0015 *PAR:\\tthere's &amp;-um a young boy that's getting a cookie jar . \u00157277_12027\u0015 *PAR:\\tand it [//] he's &amp;-uh in bad shape because &amp;-uh the thing is *PAR:\\tand in the picture the mother is washin(g) dishes and doesn't see *PAR:\\tand so &lt;is the&gt; [//] the water is overflowing in the sink . \u001525022_29022\u0015 *PAR:\\tand the dishes might &lt;get falled [* +ed] over if you don't&gt; [//] *PAR:\\tand it [//] there [//] it's a picture of a kitchen window . \u001535844_38954\u0015 *PAR:\\tand the curtains are very &amp;-uh distinct . \u001539140_42140\u0015 *PAR:\\tbut the water is &amp;+flow still flowing . \u001544272_46242\u0015 *INV:\\tokay thank_you very much . \u001547005_54755\u0015</td>\n",
       "    </tr>\n",
       "    <tr>\n",
       "      <th>3</th>\n",
       "      <td>Pitt/Dementia/cookie/607-0.cha</td>\n",
       "      <td>@ID:\\teng|Pitt|PAR|79;|female|PossibleAD||Participant|13||</td>\n",
       "      <td>*INV:\\tpicture . \u00150_210\u0015 *INV:\\ttell me what you see going on in that picture . \u0015285_2275\u0015 *INV:\\t(.) can you tell me what's going on in that picture ? \u00153178_8948\u0015 *PAR:\\tyeah . [+ exc] \u00159201_9431\u0015 *PAR:\\tthe [/] the little boy's trying to get into the cookie jar . \u00159447_12277\u0015 *PAR:\\tand a little girl is [//] has her hand out for the cookie . \u001513194_16354\u0015 *PAR:\\tand the mother's &amp;+wa dryin(g) dishes . \u001516376_18256\u0015 *PAR:\\tbut they drop something +//. \u001518792_19772\u0015 *PAR:\\toh_no she [/] &amp;+sp she let the water run over . \u001519818_22658\u0015 *PAR:\\tand the little boy's he's going to fall off the chair [: stool] *PAR:\\toh ‡ I guess that's a &amp;+j cookie jar, that little girl . \u001531203_35093\u0015 *PAR:\\tthe little boy is gonna fall off the chair [: stool] [* s:r] if he *INV:\\twhat's happening over here ? \u001539374_40494\u0015 *PAR:\\tit's the water . \u001540678_41558\u0015 *PAR:\\tI said that . [+ exc] \u001541675_43935\u0015 *PAR:\\tthe water was running over the sink . \u001544035_45645\u0015 *INV:\\t+&lt; okay . \u001545045_45185\u0015 *PAR:\\tyou_know sinks xxx . \u001545666_46726\u0015 *INV:\\tokay . \u001546132_46682\u0015 *PAR:\\tand &amp;-uh what else is there ? [+ exc] \u001548096_49876\u0015 *PAR:\\tthere are a few dishes there . \u001549900_51060\u0015 *INV:\\t(.) okay that's fine . \u001551110_54370\u0015</td>\n",
       "    </tr>\n",
       "    <tr>\n",
       "      <th>4</th>\n",
       "      <td>Pitt/Dementia/cookie/134-0.cha</td>\n",
       "      <td>@ID:\\teng|Pitt|PAR|77;|female|ProbableAD||Participant|24||</td>\n",
       "      <td>*INV:\\tthere it is . \u0015370_1050\u0015 *PAR:\\twell ‡ there's a boy trying to get some cookies in [//] from the *PAR:\\tand then the little girl has her hand up for one . \u001510349_13719\u0015 *PAR:\\tand (.) there's &amp;-um a stool that's ready to fall &amp;-uh that he's *PAR:\\tand there's a lady washing dishes . \u001524931_26411\u0015 *PAR:\\t&lt;and she spilled&gt; [//] and her sink is filled up full of water and *PAR:\\tshe's standing by the window . \u001536047_37337\u0015 *PAR:\\txxx . [+ exc] *PAR:\\tsee the grass and the shrubbery outside . \u001540250_44750\u0015 *PAR:\\tand &lt;the two is&gt; [//] two cups and a plate to be &amp;-uh [//] that's *PAR:\\tI don't know if it's to be dried or what . \u001555820_57420\u0015 *INV:\\tokay thank_you . \u001559529_60999\u0015</td>\n",
       "    </tr>\n",
       "    <tr>\n",
       "      <th>...</th>\n",
       "      <td>...</td>\n",
       "      <td>...</td>\n",
       "      <td>...</td>\n",
       "    </tr>\n",
       "    <tr>\n",
       "      <th>121</th>\n",
       "      <td>Pitt/Dementia/cookie/615-0.cha</td>\n",
       "      <td>@ID:\\teng|Pitt|PAR|76;|female|ProbableAD||Participant|16||</td>\n",
       "      <td>*INV:\\tme everything you see happening in that picture . \u001530_2510\u0015 *INV:\\teverything that's going on in that picture . \u00152664_4694\u0015 *PAR:\\tI see the [//] a boy stretching out for &lt;I don't know whether it's&gt; *PAR:\\t&lt;and it look&gt; [//] he was standing on a stool . \u001513269_15909\u0015 *PAR:\\this little sister was reaching out her hand . \u001516507_18967\u0015 *PAR:\\tand the ladder [: stool] [* s:r] was beginning to (.) go over . \u001519448_22718\u0015 *PAR:\\tmother was at the dishwasher . \u001523290_25350\u0015 *PAR:\\tand &amp;+sh she left the &amp;+s faucet . \u001525822_27342\u0015</td>\n",
       "    </tr>\n",
       "    <tr>\n",
       "      <th>122</th>\n",
       "      <td>Pitt/Dementia/cookie/134-1.cha</td>\n",
       "      <td>@ID:\\teng|Pitt|PAR|78;|female|ProbableAD||Participant|23||</td>\n",
       "      <td>*INV:\\twhat do you see goin(g) on there ? \u00150_3060\u0015 *PAR:\\ta little boy is &lt;tryin(g) to get the&gt; [//] &amp;-uh gettin(g) cookies *PAR:\\tand his &amp;-um stool is gettin(g) ready to fall . \u001513812_19242\u0015 *PAR:\\tand the mother is washing dishes . \u001520719_23649\u0015 *PAR:\\tand she would let [/] let the water run over the sink on the floor *INV:\\t(.) anything else ? \u001530649_31489\u0015 *PAR:\\t(..) &amp;-hm I guess that's all . [+ exc] \u001535642_42912\u0015 *INV:\\tokay . \u001543360_43850\u0015</td>\n",
       "    </tr>\n",
       "    <tr>\n",
       "      <th>123</th>\n",
       "      <td>Pitt/Dementia/cookie/488-1.cha</td>\n",
       "      <td>@ID:\\teng|Pitt|PAR|65;|female|ProbableAD||Participant|17||</td>\n",
       "      <td>*INV:\\thappening . \u0015140_680\u0015 *INV:\\teverything that you see happening in that picture . \u0015731_3151\u0015 *INV:\\twhat's going on in that picture ? \u00153238_5288\u0015 *PAR:\\tthe [/] the water's flowing on the floor . \u00156114_8234\u0015 *INV:\\tuhhuh . \u00158659_8929\u0015 *INV:\\twhat else ? \u00159000_9750\u0015 *PAR:\\tand she's drying dishes . \u001511716_12956\u0015 *INV:\\tmhm . \u001513384_13694\u0015 *PAR:\\tand he's up in the cookie jar . \u001514699_16409\u0015 *PAR:\\t(...) and she's drying dishes . \u001527763_29573\u0015 *INV:\\tmhm . \u001530428_30628\u0015 *INV:\\tokay good . \u001531501_32211\u0015 *PAR:\\tthank_you very much . [+ exc] \u001532439_33100\u0015</td>\n",
       "    </tr>\n",
       "    <tr>\n",
       "      <th>124</th>\n",
       "      <td>Pitt/Dementia/cookie/097-1.cha</td>\n",
       "      <td>@ID:\\teng|Pitt|PAR|79;|female|ProbableAD||Participant|10||</td>\n",
       "      <td>*INV:\\ttell me what's going on . \u0015340_1880\u0015 *PAR:\\tall the action . [+ exc] \u00152189_3179\u0015 *PAR:\\twhat's going on in this picture ? [+ exc] \u00153522_5192\u0015 *PAR:\\toh the boy is up tryin(g) to cake [: take] [* p:w] . \u00155214_9184\u0015 *PAR:\\tand the woman's sink is running over . \u001510190_13590\u0015 *INV:\\tmhm . \u001513898_14568\u0015 *PAR:\\tand these are curtains . \u001516585_18215\u0015 *PAR:\\tand his stool is tumbling over . \u001519480_23800\u0015 *INV:\\tmhm . \u001524094_24944\u0015 *INV:\\tanything else going on in the picture ? \u001525314_27284\u0015 *PAR:\\tanything else wrong with the picture ? [+ exc] \u001528502_30332\u0015 *INV:\\tgoing on . \u001530819_31499\u0015 *INV:\\tany more action in the picture . \u001531519_33169\u0015 *INV:\\t(.) okay . \u001540304_41064\u0015</td>\n",
       "    </tr>\n",
       "    <tr>\n",
       "      <th>125</th>\n",
       "      <td>Pitt/Dementia/cookie/065-0.cha</td>\n",
       "      <td>@ID:\\teng|Pitt|PAR|75;|female|MCI||Participant|29||</td>\n",
       "      <td>*INV:\\tokay here's the picture . \u0015780_1880\u0015 *PAR:\\t&amp;-um a [/] &amp;+g a girl is putting her finger up to her mouth and her *PAR:\\tthe boy is on a ladder [: stool] [* s:r] and the ladder [* s:r] is *PAR:\\tand he has &amp;-uh something [//] a cookie in his left hand . \u001523390_26930\u0015 *PAR:\\tand he has his right hand is in the cookie jar . \u001527331_31191\u0015 *PAR:\\tthe [/] &amp;+c the lid of the &amp;+c cookie jar is off the jar . \u001531487_35407\u0015 *PAR:\\t&amp;-uh &amp;+h he's [//] and the cupboard door is open . \u001537385_40905\u0015 *PAR:\\tbut that's not an action is it ? [+ exc] \u001542491_43801\u0015 *PAR:\\t&amp;-uh the [//] &amp;-um &amp;+g there's a girl standing in front of the &amp;-uh *PAR:\\t&amp;-uh and the water is running &lt;in the&gt; [/] in the sink and onto the *PAR:\\tand (.) it's [/] it's [/] &amp;+j it's [//] I can't tell if it's raining *INV:\\t+&lt; &amp;=laughs . *PAR:\\tguess I wouldn't get it outside the window . [+ exc] \u001577050_78810\u0015 *PAR:\\tokay . [+ exc] \u001579029_79189\u0015 *INV:\\tokay great . \u001579433_80273\u0015</td>\n",
       "    </tr>\n",
       "  </tbody>\n",
       "</table>\n",
       "<p>126 rows × 3 columns</p>\n",
       "</div>"
      ],
      "text/plain": [
       "                          File Name  \\\n",
       "0    Pitt/Dementia/cookie/711-0.cha   \n",
       "1    Pitt/Dementia/cookie/007-3.cha   \n",
       "2    Pitt/Dementia/cookie/001-0.cha   \n",
       "3    Pitt/Dementia/cookie/607-0.cha   \n",
       "4    Pitt/Dementia/cookie/134-0.cha   \n",
       "..                              ...   \n",
       "121  Pitt/Dementia/cookie/615-0.cha   \n",
       "122  Pitt/Dementia/cookie/134-1.cha   \n",
       "123  Pitt/Dementia/cookie/488-1.cha   \n",
       "124  Pitt/Dementia/cookie/097-1.cha   \n",
       "125  Pitt/Dementia/cookie/065-0.cha   \n",
       "\n",
       "                                            Patient Demographic  \\\n",
       "0      @ID:\\teng|Pitt|PAR|77;|male|PossibleAD||Participant|25||   \n",
       "1    @ID:\\teng|Pitt|PAR|75;|female|ProbableAD||Participant|15||   \n",
       "2      @ID:\\teng|Pitt|PAR|57;|male|ProbableAD||Participant|18||   \n",
       "3    @ID:\\teng|Pitt|PAR|79;|female|PossibleAD||Participant|13||   \n",
       "4    @ID:\\teng|Pitt|PAR|77;|female|ProbableAD||Participant|24||   \n",
       "..                                                          ...   \n",
       "121  @ID:\\teng|Pitt|PAR|76;|female|ProbableAD||Participant|16||   \n",
       "122  @ID:\\teng|Pitt|PAR|78;|female|ProbableAD||Participant|23||   \n",
       "123  @ID:\\teng|Pitt|PAR|65;|female|ProbableAD||Participant|17||   \n",
       "124  @ID:\\teng|Pitt|PAR|79;|female|ProbableAD||Participant|10||   \n",
       "125         @ID:\\teng|Pitt|PAR|75;|female|MCI||Participant|29||   \n",
       "\n",
       "                                                                                                                                                                                                                                                                                                                                                                                                                                                                                                                                                                                                                                                                                                                                                                                                                                                                                                                                                                                                                                                                                                                                                                                                                                                                                                     Transcript  \n",
       "0    *INV:\\tI want you to take a look at this picture here and tell me *PAR:\\toh ‡ you want me to tell you . [+ exc] \u00156440_7440\u0015 *INV:\\t+< yeah ‡ just tell me everything that you see going on in that *PAR:\\tthe mother and her two children . [+ gram] \u001510776_12656\u0015 *PAR:\\tand the children are getting in the cookie jar . \u001512738_15758\u0015 *PAR:\\tand she's doing the dishes and spilling the water . \u001515777_18357\u0015 *PAR:\\tand she had the spigot on . \u001518380_19540\u0015 *PAR:\\tand she didn't know it perhaps . \u001519555_21015\u0015 *PAR:\\t&=coughs pardon me . [+ exc] \u001523468_23948\u0015 *PAR:\\tand they're looking out into the garden from the kitchen window . \u001525452_28682\u0015 *PAR:\\tit's open . \u001528700_29390\u0015 *PAR:\\tand the &-uh cookies must be pretty good they're eating . \u001529407_34157\u0015 *PAR:\\t<the tair [: chair] [* p:w-ret]> [//] &-uh the chair [: stool] *PAR:\\tand &-uh <the lady> [//] the mother's splashing her shoes and *PAR:\\tand there's &-um &-uh a window and curtains on the window . \u001547868_53838\u0015 *PAR:\\tand I can see some trees outside there . \u001553855_56105\u0015 *PAR:\\tand [/] and there's dishes that &+h had been washed . \u001557755_58335\u0015 *PAR:\\tand she's dryin(g) them . \u001558335_61585\u0015 *PAR:\\tand there's some shrub out there and +... \u001562110_63300\u0015 *INV:\\tokay very good . \u001565087_67258\u0015  \n",
       "1                                                                                                                                                                                                                                                                                                                                                                                                                                                                                                                                                           *INV:\\ton in the picture . \u0015610_1310\u0015 *PAR:\\twell the girl is telling the boy to get the cookies down but don't *PAR:\\tand the boy is also falling over off the stool . \u00159667_13427\u0015 *PAR:\\tand the mother is letting the water run out_of the sink . \u001514362_17802\u0015 *PAR:\\tand she's dryin(g) dishes . \u001518708_20048\u0015 *PAR:\\tI don't quite get that but then &=laughs +... [+ exc] \u001520100_23060\u0015 *PAR:\\t&-uh she has water on the floor and [/] and basically it's kind_of *PAR:\\teverything's goin(g) haywire . \u001535934_37264\u0015 *INV:\\tokay . \u001538620_38830\u0015 *PAR:\\tshe needs to turn off the water . \u001542299_43779\u0015 *PAR:\\tif she turned off the water she'd be a hundred percent better off . *INV:\\tokay . \u001548413_48503\u0015 *INV:\\tokay . \u001552246_52336\u0015  \n",
       "2                                                                                                                                                                                                                                                                                                                                                                                                                                                            *INV:\\tthis is the picture . \u0015340_2530\u0015 *PAR:\\tmhm . [+ exc] \u00152581_3211\u0015 *INV:\\tjust tell me everything that you see happening in that picture . \u00153426_6646\u0015 *PAR:\\t+< alright . [+ exc] \u00156650_6820\u0015 *PAR:\\tthere's &-um a young boy that's getting a cookie jar . \u00157277_12027\u0015 *PAR:\\tand it [//] he's &-uh in bad shape because &-uh the thing is *PAR:\\tand in the picture the mother is washin(g) dishes and doesn't see *PAR:\\tand so <is the> [//] the water is overflowing in the sink . \u001525022_29022\u0015 *PAR:\\tand the dishes might <get falled [* +ed] over if you don't> [//] *PAR:\\tand it [//] there [//] it's a picture of a kitchen window . \u001535844_38954\u0015 *PAR:\\tand the curtains are very &-uh distinct . \u001539140_42140\u0015 *PAR:\\tbut the water is &+flow still flowing . \u001544272_46242\u0015 *INV:\\tokay thank_you very much . \u001547005_54755\u0015  \n",
       "3                                                      *INV:\\tpicture . \u00150_210\u0015 *INV:\\ttell me what you see going on in that picture . \u0015285_2275\u0015 *INV:\\t(.) can you tell me what's going on in that picture ? \u00153178_8948\u0015 *PAR:\\tyeah . [+ exc] \u00159201_9431\u0015 *PAR:\\tthe [/] the little boy's trying to get into the cookie jar . \u00159447_12277\u0015 *PAR:\\tand a little girl is [//] has her hand out for the cookie . \u001513194_16354\u0015 *PAR:\\tand the mother's &+wa dryin(g) dishes . \u001516376_18256\u0015 *PAR:\\tbut they drop something +//. \u001518792_19772\u0015 *PAR:\\toh_no she [/] &+sp she let the water run over . \u001519818_22658\u0015 *PAR:\\tand the little boy's he's going to fall off the chair [: stool] *PAR:\\toh ‡ I guess that's a &+j cookie jar, that little girl . \u001531203_35093\u0015 *PAR:\\tthe little boy is gonna fall off the chair [: stool] [* s:r] if he *INV:\\twhat's happening over here ? \u001539374_40494\u0015 *PAR:\\tit's the water . \u001540678_41558\u0015 *PAR:\\tI said that . [+ exc] \u001541675_43935\u0015 *PAR:\\tthe water was running over the sink . \u001544035_45645\u0015 *INV:\\t+< okay . \u001545045_45185\u0015 *PAR:\\tyou_know sinks xxx . \u001545666_46726\u0015 *INV:\\tokay . \u001546132_46682\u0015 *PAR:\\tand &-uh what else is there ? [+ exc] \u001548096_49876\u0015 *PAR:\\tthere are a few dishes there . \u001549900_51060\u0015 *INV:\\t(.) okay that's fine . \u001551110_54370\u0015  \n",
       "4                                                                                                                                                                                                                                                                                                                                                                                                                                                                                                                                                                                             *INV:\\tthere it is . \u0015370_1050\u0015 *PAR:\\twell ‡ there's a boy trying to get some cookies in [//] from the *PAR:\\tand then the little girl has her hand up for one . \u001510349_13719\u0015 *PAR:\\tand (.) there's &-um a stool that's ready to fall &-uh that he's *PAR:\\tand there's a lady washing dishes . \u001524931_26411\u0015 *PAR:\\t<and she spilled> [//] and her sink is filled up full of water and *PAR:\\tshe's standing by the window . \u001536047_37337\u0015 *PAR:\\txxx . [+ exc] *PAR:\\tsee the grass and the shrubbery outside . \u001540250_44750\u0015 *PAR:\\tand <the two is> [//] two cups and a plate to be &-uh [//] that's *PAR:\\tI don't know if it's to be dried or what . \u001555820_57420\u0015 *INV:\\tokay thank_you . \u001559529_60999\u0015  \n",
       "..                                                                                                                                                                                                                                                                                                                                                                                                                                                                                                                                                                                                                                                                                                                                                                                                                                                                                                                                                                                                                                                                                                                                                                                                                                                                                                          ...  \n",
       "121                                                                                                                                                                                                                                                                                                                                                                                                                                                                                                                                                                                                                                                                                                                                                      *INV:\\tme everything you see happening in that picture . \u001530_2510\u0015 *INV:\\teverything that's going on in that picture . \u00152664_4694\u0015 *PAR:\\tI see the [//] a boy stretching out for <I don't know whether it's> *PAR:\\t<and it look> [//] he was standing on a stool . \u001513269_15909\u0015 *PAR:\\this little sister was reaching out her hand . \u001516507_18967\u0015 *PAR:\\tand the ladder [: stool] [* s:r] was beginning to (.) go over . \u001519448_22718\u0015 *PAR:\\tmother was at the dishwasher . \u001523290_25350\u0015 *PAR:\\tand &+sh she left the &+s faucet . \u001525822_27342\u0015  \n",
       "122                                                                                                                                                                                                                                                                                                                                                                                                                                                                                                                                                                                                                                                                                                                                                                                                                                         *INV:\\twhat do you see goin(g) on there ? \u00150_3060\u0015 *PAR:\\ta little boy is <tryin(g) to get the> [//] &-uh gettin(g) cookies *PAR:\\tand his &-um stool is gettin(g) ready to fall . \u001513812_19242\u0015 *PAR:\\tand the mother is washing dishes . \u001520719_23649\u0015 *PAR:\\tand she would let [/] let the water run over the sink on the floor *INV:\\t(.) anything else ? \u001530649_31489\u0015 *PAR:\\t(..) &-hm I guess that's all . [+ exc] \u001535642_42912\u0015 *INV:\\tokay . \u001543360_43850\u0015  \n",
       "123                                                                                                                                                                                                                                                                                                                                                                                                                                                                                                                                                                                                                                                                                                                          *INV:\\thappening . \u0015140_680\u0015 *INV:\\teverything that you see happening in that picture . \u0015731_3151\u0015 *INV:\\twhat's going on in that picture ? \u00153238_5288\u0015 *PAR:\\tthe [/] the water's flowing on the floor . \u00156114_8234\u0015 *INV:\\tuhhuh . \u00158659_8929\u0015 *INV:\\twhat else ? \u00159000_9750\u0015 *PAR:\\tand she's drying dishes . \u001511716_12956\u0015 *INV:\\tmhm . \u001513384_13694\u0015 *PAR:\\tand he's up in the cookie jar . \u001514699_16409\u0015 *PAR:\\t(...) and she's drying dishes . \u001527763_29573\u0015 *INV:\\tmhm . \u001530428_30628\u0015 *INV:\\tokay good . \u001531501_32211\u0015 *PAR:\\tthank_you very much . [+ exc] \u001532439_33100\u0015  \n",
       "124                                                                                                                                                                                                                                                                                                                                                                                                                                                                                                                                                                                                   *INV:\\ttell me what's going on . \u0015340_1880\u0015 *PAR:\\tall the action . [+ exc] \u00152189_3179\u0015 *PAR:\\twhat's going on in this picture ? [+ exc] \u00153522_5192\u0015 *PAR:\\toh the boy is up tryin(g) to cake [: take] [* p:w] . \u00155214_9184\u0015 *PAR:\\tand the woman's sink is running over . \u001510190_13590\u0015 *INV:\\tmhm . \u001513898_14568\u0015 *PAR:\\tand these are curtains . \u001516585_18215\u0015 *PAR:\\tand his stool is tumbling over . \u001519480_23800\u0015 *INV:\\tmhm . \u001524094_24944\u0015 *INV:\\tanything else going on in the picture ? \u001525314_27284\u0015 *PAR:\\tanything else wrong with the picture ? [+ exc] \u001528502_30332\u0015 *INV:\\tgoing on . \u001530819_31499\u0015 *INV:\\tany more action in the picture . \u001531519_33169\u0015 *INV:\\t(.) okay . \u001540304_41064\u0015  \n",
       "125                                                                                                                                                                                                                                                                                                                         *INV:\\tokay here's the picture . \u0015780_1880\u0015 *PAR:\\t&-um a [/] &+g a girl is putting her finger up to her mouth and her *PAR:\\tthe boy is on a ladder [: stool] [* s:r] and the ladder [* s:r] is *PAR:\\tand he has &-uh something [//] a cookie in his left hand . \u001523390_26930\u0015 *PAR:\\tand he has his right hand is in the cookie jar . \u001527331_31191\u0015 *PAR:\\tthe [/] &+c the lid of the &+c cookie jar is off the jar . \u001531487_35407\u0015 *PAR:\\t&-uh &+h he's [//] and the cupboard door is open . \u001537385_40905\u0015 *PAR:\\tbut that's not an action is it ? [+ exc] \u001542491_43801\u0015 *PAR:\\t&-uh the [//] &-um &+g there's a girl standing in front of the &-uh *PAR:\\t&-uh and the water is running <in the> [/] in the sink and onto the *PAR:\\tand (.) it's [/] it's [/] &+j it's [//] I can't tell if it's raining *INV:\\t+< &=laughs . *PAR:\\tguess I wouldn't get it outside the window . [+ exc] \u001577050_78810\u0015 *PAR:\\tokay . [+ exc] \u001579029_79189\u0015 *INV:\\tokay great . \u001579433_80273\u0015  \n",
       "\n",
       "[126 rows x 3 columns]"
      ]
     },
     "execution_count": 3,
     "metadata": {},
     "output_type": "execute_result"
    }
   ],
   "source": [
    "data = []\n",
    "\n",
    "zip_filename = 'Pitt.zip'\n",
    "with zipfile.ZipFile(zip_filename, 'r') as zip_ref:\n",
    "    cha_files = [file for file in zip_ref.namelist() if file.endswith('.cha')]\n",
    "\n",
    "    for file_name in cha_files:\n",
    "        with zip_ref.open(file_name) as file:\n",
    "            lines = io.TextIOWrapper(file, 'utf-8', newline='', line_buffering=True).readlines()\n",
    "\n",
    "        participant_id = None\n",
    "        transcript = []\n",
    "        patient_data = None\n",
    "\n",
    "        for line in lines:\n",
    "            if line.startswith('@ID:') and 'PAR' in line: \n",
    "                if participant_id and transcript:\n",
    "                    data.append({'Participant ID': participant_id, 'Transcript': ' '.join(transcript), 'Patient Data': patient_data, 'File Name': file_name})\n",
    "                    transcript = []\n",
    "                participant_id = line.strip().split()[-1]\n",
    "                patient_data = line.strip() \n",
    "            elif line.startswith('*'):\n",
    "                transcript.append(line.strip())\n",
    "\n",
    "        if participant_id and transcript:\n",
    "            data.append({'File Name': file_name,'Patient Demographic': patient_data, 'Transcript': ' '.join(transcript)})\n",
    "\n",
    "\n",
    "pd.set_option('display.max_colwidth', None)\n",
    "df = pd.DataFrame(data)\n",
    "\n",
    "def process_transcript(text):\n",
    "    return re.sub(r'(\\w+)\\s*:\\[(\\w+)]', r'[\\2]', text)\n",
    "df.head(126)"
   ]
  },
  {
   "cell_type": "code",
   "execution_count": 4,
   "id": "61c54612",
   "metadata": {},
   "outputs": [
    {
     "name": "stdout",
     "output_type": "stream",
     "text": [
      "                          File Name  \\\n",
      "277  Pitt/Dementia/cookie/053-1.cha   \n",
      "\n",
      "                                         Patient Demographic  \\\n",
      "277  @ID:\\teng|Pitt|PAR|59;|male|ProbableAD||Participant|8||   \n",
      "\n",
      "                                                                                                                                                                                                                                                                                                                                                                                                                                                                                                                                                                                                                                                                                                                                                                                                                                                                                                                                                                                                                                                                                                                                                                                                                                                                                                                                                                                                                                                                                                                                                                                                                                                                                                                                                                                                                                                                                                                                                                                                                                                                                                                                                                                                                                                                                                                                                                                                                                            Transcript  \n",
      "277  *INV:\\tI'm going to show you a picture . \u001530_1460\u0015 *INV:\\tand I want you to look at the picture . \u00152108_3678\u0015 *INV:\\tI want you to tell me everything that you see happening in the *PAR:\\tmhm . [+ exc] \u00158838_8958\u0015 *INV:\\tjust tell me everything that you see going on . \u00159159_11059\u0015 *INV:\\tnow there's the picture . \u001512832_13842\u0015 *INV:\\tlook down here Mister_Lastname . \u001514282_15482\u0015 *PAR:\\toh I see a part of the whole kitchen . \u001516454_18424\u0015 *PAR:\\tis that all the kitchen or isn't it ? [+ exc] \u001519285_20665\u0015 *PAR:\\t&+s &-uh (..) oh I can't read +... [+ exc] \u001520716_29146\u0015 *PAR:\\ta lady a mother were in her kitchen . [+ gram] \u001530678_32607\u0015 *PAR:\\tin her kɪtʃə˞@u [: kitchen] [* p:n-ret] [//] kitchen doing some *PAR:\\tand the [//] &-uh &+s there's another woman there sharing their *INV:\\tokay there it is . \u001547297_50017\u0015 *PAR:\\toh <have you> [/] have you checked [//] heard of that new game that *INV:\\tyes you were telling me about that Mister_Lastname . \u001559413_61463\u0015 *PAR:\\t+< did you ? [+ exc] \u001560840_60950\u0015 *INV:\\tTrivial_Pursuit mhm . \u001561548_63278\u0015 *PAR:\\t+< xxx is a +/. [+ exc] \u001563870_64290\u0015 *INV:\\t+< just tell me do you see anything else happening in this picture *INV:\\twhat else do you see happening ? \u001568441_69461\u0015 *INV:\\twhat's going on there ? \u001570289_71099\u0015 *PAR:\\twell it looks like +... \u001571305_72205\u0015 *PAR:\\tI'd say this is +... \u001575349_76529\u0015 *PAR:\\twell let's see . [+ exc] \u001577770_78690\u0015 *PAR:\\tit looks like +... \u001580300_81090\u0015 *PAR:\\toh +... [+ exc] \u001583490_84250\u0015 *PAR:\\t<bʌmbʌdɪ@u [: x@n] [* n:uk] bʌmbʌdɪ@u [: x@n] [* n:uk]> [=! sings] *PAR:\\t<my mother will beat me by> [//] my wife will beat me by a couple *INV:\\twhat's happening over here Mister_Lastname ? \u001593963_95423\u0015 *PAR:\\tthat's [/] that's like the <washing would say> [//] washing machine *PAR:\\tor let me see . [+ exc] \u001599100_100340\u0015 *PAR:\\tI can't +... [+ exc] \u0015100652_101022\u0015 *PAR:\\toh ‡ that's the son come out_of [//] from school maybe or something *INV:\\tmhm . \u0015104157_104477\u0015 *PAR:\\tthat's a youngster there . \u0015104695_105675\u0015 *INV:\\twhat's going on here ? \u0015106116_106956\u0015 *PAR:\\twell that's just as though they (.) getting ready to go to school *INV:\\tokay and what's happening here ? \u0015114304_116834\u0015 *PAR:\\tand right there he's &-uh same as back there except for down there *PAR:\\t&-uh that's a little xxx . [+ jar] \u0015124197_127257\u0015 *INV:\\tokay . \u0015129997_130467\u0015  \n"
     ]
    }
   ],
   "source": [
    "print(df[df['File Name'] == 'Pitt/Dementia/cookie/053-1.cha'])"
   ]
  },
  {
   "cell_type": "code",
   "execution_count": 5,
   "id": "2bb30fa7",
   "metadata": {},
   "outputs": [],
   "source": [
    "demo = pd.read_csv(\"PItt-demo.csv\")\n",
    "\n",
    "demo.columns = demo.iloc[1] \n",
    "demo = demo.drop(df.index[1])\n",
    "demo = demo.drop(df.index[0])\n"
   ]
  },
  {
   "cell_type": "code",
   "execution_count": 6,
   "id": "76c89e39",
   "metadata": {},
   "outputs": [],
   "source": [
    "def extract_word_after_format(text):\n",
    "    pattern = r'\\w+\\s+\\[: ([^\\]]+?)\\]'\n",
    "    replacement = r'\\1'\n",
    "    return re.sub(pattern, replacement, text)\n",
    "\n",
    "df['Transcript'] = df['Transcript'].apply(extract_word_after_format)"
   ]
  },
  {
   "cell_type": "code",
   "execution_count": 7,
   "id": "8c5d17a5",
   "metadata": {},
   "outputs": [],
   "source": [
    "df['Transcript'] = df['Transcript'].str.replace(r'&\\+hp|&\\+s|&\\+c|&\\+wa|&\\+m|&\\+w|&\\+t|&\\+a|&\\+prob|&\\+house|&\\+k|&\\+fauc|&\\+r|&\\+pa|&\\+th|&\\+sh|&\\+y|&\\+diffi|&\\+ree|&\\+laun|&\\+het|&\\+fri|&\\+liv|&\\+op|&\\+des|&\\+go|&\\+i|&\\+ha', '', regex=True)\n",
    "df['Transcript'] = df['Transcript'].str.replace(r'&=laughs|&=mumbles', '', regex=True)\n"
   ]
  },
  {
   "cell_type": "code",
   "execution_count": 8,
   "id": "ff6752b4",
   "metadata": {},
   "outputs": [
    {
     "name": "stderr",
     "output_type": "stream",
     "text": [
      "C:\\Users\\kaiso\\AppData\\Local\\Temp\\ipykernel_7832\\33270281.py:8: FutureWarning: The default value of regex will change from True to False in a future version.\n",
      "  df['Transcript'] = df['Transcript'].str.replace(r'[\\d_]', '') # remove numbers and underscores\n"
     ]
    }
   ],
   "source": [
    "df['Transcript'] = df['Transcript'].str.replace(r'\\[* p:n\\]', '', regex=True)\n",
    "df['Transcript'] = df['Transcript'].str.replace(r'\\[* p:n]', '', regex=True)\n",
    "df['Transcript'] = df['Transcript'].str.replace(r'\\[* s:r]', '', regex=True)\n",
    "df['Transcript'] = df['Transcript'].str.replace(r'\\[* s:uk]', '', regex=True)\n",
    "df['Transcript'] = df['Transcript'].str.replace(r'\\[* n:uk]', '', regex=True)\n",
    "df['Transcript'] = df['Transcript'].str.replace(r'&-(um|uh)\\b', '', regex=True)\n",
    "df['Transcript'] = df['Transcript'].str.replace(r'[^\\w\\s\\.,?!;]', '', regex=True)# remove punctuation expect .,!?;\n",
    "df['Transcript'] = df['Transcript'].str.replace(r'[\\d_]', '') # remove numbers and underscores\n",
    "df['Transcript'] = df['Transcript'].str.replace(r'INV.*?PAR', '', regex=True) # remove interviewer dialoge\n",
    "df['Transcript'] = df['Transcript'].str.replace(r'PAR\\t', '', regex=True)# remove PAR tag\n",
    "df['Transcript'] = df['Transcript'].str.replace(r'\\t', '', regex=True)# remove /t tag\n",
    "df['Transcript'] = df['Transcript'].str.replace(r'xxx', '', regex=True)# remove xxx\n",
    "df['Transcript'] = df['Transcript'].str.replace(r'exc', '', regex=True)# remove exe"
   ]
  },
  {
   "cell_type": "code",
   "execution_count": 9,
   "id": "0d863621",
   "metadata": {},
   "outputs": [],
   "source": [
    "def remove_words_after_inv(text):\n",
    "    pattern = r'INV.*'\n",
    "    replaced_text = re.sub(pattern, 'INV ', text)\n",
    "    return replaced_text\n",
    "\n",
    "df['Transcript'] = df['Transcript'].apply(remove_words_after_inv)\n",
    "df['Transcript'] = df['Transcript'].str.replace(r'INV\\t', '', regex=True)"
   ]
  },
  {
   "cell_type": "code",
   "execution_count": 10,
   "id": "12856612",
   "metadata": {},
   "outputs": [],
   "source": [
    "df['Transcript'] = df['Transcript'].str.replace(r'\\bINV\\b', '', regex=True)\n",
    "df['Transcript'] = df['Transcript'].str.replace(r'\\b&=coughs\\b', '', regex=True)"
   ]
  },
  {
   "cell_type": "code",
   "execution_count": 11,
   "id": "1d9d1349",
   "metadata": {},
   "outputs": [],
   "source": [
    "pd.set_option('display.html.use_mathjax', False)"
   ]
  },
  {
   "cell_type": "code",
   "execution_count": 12,
   "id": "667017f2",
   "metadata": {},
   "outputs": [
    {
     "data": {
      "text/html": [
       "<div>\n",
       "<style scoped>\n",
       "    .dataframe tbody tr th:only-of-type {\n",
       "        vertical-align: middle;\n",
       "    }\n",
       "\n",
       "    .dataframe tbody tr th {\n",
       "        vertical-align: top;\n",
       "    }\n",
       "\n",
       "    .dataframe thead th {\n",
       "        text-align: right;\n",
       "    }\n",
       "</style>\n",
       "<table border=\"1\" class=\"dataframe tex2jax_ignore\">\n",
       "  <thead>\n",
       "    <tr style=\"text-align: right;\">\n",
       "      <th></th>\n",
       "      <th>File Name</th>\n",
       "      <th>Patient Demographic</th>\n",
       "      <th>Transcript</th>\n",
       "    </tr>\n",
       "  </thead>\n",
       "  <tbody>\n",
       "    <tr>\n",
       "      <th>0</th>\n",
       "      <td>Pitt/Dementia/cookie/711-0.cha</td>\n",
       "      <td>@ID:\\teng|Pitt|PAR|77;|male|PossibleAD||Participant|25||</td>\n",
       "      <td>oh  you want me to tell you .    the mother and her two children .  gram  and the children are getting in the cookie jar .  and shes doing the dishes and spilling the water .  and she had the spigot on .  and she didnt know it perhaps .  coughs pardon me .    and theyre looking out into the garden from the kitchen window .  its open .  and the  cookies must be pretty good theyre eating .  the chair  pwret   the stool and  the lady  the mothers splashing her shoes and and theres   a window and curtains on the window .  and I can see some trees outside there .  and  and theres dishes that h had been washed .  and shes drying them .  and theres some shrub out there and ...</td>\n",
       "    </tr>\n",
       "    <tr>\n",
       "      <th>1</th>\n",
       "      <td>Pitt/Dementia/cookie/007-3.cha</td>\n",
       "      <td>@ID:\\teng|Pitt|PAR|75;|female|ProbableAD||Participant|15||</td>\n",
       "      <td>well the girl is telling the boy to get the cookies down but dont and the boy is also falling over off the stool .  and the mother is letting the water run outof the sink .  and shes drying dishes .  I dont quite get that but then  ...     she has water on the floor and  and basically its kindof everythings going haywire .  she needs to turn off the water .  if she turned off the water shed be a hundred percent better off .</td>\n",
       "    </tr>\n",
       "    <tr>\n",
       "      <th>2</th>\n",
       "      <td>Pitt/Dementia/cookie/001-0.cha</td>\n",
       "      <td>@ID:\\teng|Pitt|PAR|57;|male|ProbableAD||Participant|18||</td>\n",
       "      <td>mhm .     alright .    theres  a young boy thats getting a cookie jar .  and it  hes  in bad shape because  the thing is and in the picture the mother is washing dishes and doesnt see and so is the  the water is overflowing in the sink .  and the dishes might get falled  ed over if you dont  and it  there  its a picture of a kitchen window .  and the curtains are very  distinct .  but the water is flow still flowing .</td>\n",
       "    </tr>\n",
       "    <tr>\n",
       "      <th>3</th>\n",
       "      <td>Pitt/Dementia/cookie/607-0.cha</td>\n",
       "      <td>@ID:\\teng|Pitt|PAR|79;|female|PossibleAD||Participant|13||</td>\n",
       "      <td>yeah .    the  the little boys trying to get into the cookie jar .  and a little girl is  has her hand out for the cookie .  and the mothers  drying dishes .  but they drop something .  ohno she  p she let the water run over .  and the little boys hes going to fall off the stool oh  I guess thats a j cookie jar, that little girl .  the little boy is gonna fall off the stool  if he its the water .  I said that .    the water was running over the sink .  youknow sinks  .  and  what else is there ?    there are a few dishes there .</td>\n",
       "    </tr>\n",
       "    <tr>\n",
       "      <th>4</th>\n",
       "      <td>Pitt/Dementia/cookie/134-0.cha</td>\n",
       "      <td>@ID:\\teng|Pitt|PAR|77;|female|ProbableAD||Participant|24||</td>\n",
       "      <td>well  theres a boy trying to get some cookies in  from the and then the little girl has her hand up for one .  and . theres  a stool thats ready to fall  that hes and theres a lady washing dishes .  and she spilled  and her sink is filled up full of water and shes standing by the window .   .   see the grass and the shrubbery outside .  and the two is  two cups and a plate to be   thats I dont know if its to be dried or what .</td>\n",
       "    </tr>\n",
       "  </tbody>\n",
       "</table>\n",
       "</div>"
      ],
      "text/plain": [
       "                        File Name  \\\n",
       "0  Pitt/Dementia/cookie/711-0.cha   \n",
       "1  Pitt/Dementia/cookie/007-3.cha   \n",
       "2  Pitt/Dementia/cookie/001-0.cha   \n",
       "3  Pitt/Dementia/cookie/607-0.cha   \n",
       "4  Pitt/Dementia/cookie/134-0.cha   \n",
       "\n",
       "                                          Patient Demographic  \\\n",
       "0    @ID:\\teng|Pitt|PAR|77;|male|PossibleAD||Participant|25||   \n",
       "1  @ID:\\teng|Pitt|PAR|75;|female|ProbableAD||Participant|15||   \n",
       "2    @ID:\\teng|Pitt|PAR|57;|male|ProbableAD||Participant|18||   \n",
       "3  @ID:\\teng|Pitt|PAR|79;|female|PossibleAD||Participant|13||   \n",
       "4  @ID:\\teng|Pitt|PAR|77;|female|ProbableAD||Participant|24||   \n",
       "\n",
       "                                                                                                                                                                                                                                                                                                                                                                                                                                                                                                                                                                                                                                                                                                  Transcript  \n",
       "0  oh  you want me to tell you .    the mother and her two children .  gram  and the children are getting in the cookie jar .  and shes doing the dishes and spilling the water .  and she had the spigot on .  and she didnt know it perhaps .  coughs pardon me .    and theyre looking out into the garden from the kitchen window .  its open .  and the  cookies must be pretty good theyre eating .  the chair  pwret   the stool and  the lady  the mothers splashing her shoes and and theres   a window and curtains on the window .  and I can see some trees outside there .  and  and theres dishes that h had been washed .  and shes drying them .  and theres some shrub out there and ...     \n",
       "1                                                                                                                                                                                                                                                              well the girl is telling the boy to get the cookies down but dont and the boy is also falling over off the stool .  and the mother is letting the water run outof the sink .  and shes drying dishes .  I dont quite get that but then  ...     she has water on the floor and  and basically its kindof everythings going haywire .  she needs to turn off the water .  if she turned off the water shed be a hundred percent better off .    \n",
       "2                                                                                                                                                                                                                                                                   mhm .     alright .    theres  a young boy thats getting a cookie jar .  and it  hes  in bad shape because  the thing is and in the picture the mother is washing dishes and doesnt see and so is the  the water is overflowing in the sink .  and the dishes might get falled  ed over if you dont  and it  there  its a picture of a kitchen window .  and the curtains are very  distinct .  but the water is flow still flowing .     \n",
       "3                                                                                                                                                  yeah .    the  the little boys trying to get into the cookie jar .  and a little girl is  has her hand out for the cookie .  and the mothers  drying dishes .  but they drop something .  ohno she  p she let the water run over .  and the little boys hes going to fall off the stool oh  I guess thats a j cookie jar, that little girl .  the little boy is gonna fall off the stool  if he its the water .  I said that .    the water was running over the sink .  youknow sinks  .  and  what else is there ?    there are a few dishes there .     \n",
       "4                                                                                                                                                                                                                                                          well  theres a boy trying to get some cookies in  from the and then the little girl has her hand up for one .  and . theres  a stool thats ready to fall  that hes and theres a lady washing dishes .  and she spilled  and her sink is filled up full of water and shes standing by the window .   .   see the grass and the shrubbery outside .  and the two is  two cups and a plate to be   thats I dont know if its to be dried or what .     "
      ]
     },
     "execution_count": 12,
     "metadata": {},
     "output_type": "execute_result"
    }
   ],
   "source": [
    "df.head()"
   ]
  },
  {
   "cell_type": "code",
   "execution_count": 13,
   "id": "881296da",
   "metadata": {},
   "outputs": [],
   "source": [
    "regex_dementia = r'Pitt/Dementia/cookie/'\n",
    "regex_control = r'Pitt/Control/cookie/'\n",
    "\n",
    "\n",
    "df['File Name'] = df['File Name'].str.replace(regex_dementia, '', regex=True)\n",
    "df['File Name'] = df['File Name'].str.replace(regex_control, '', regex=True)\n"
   ]
  },
  {
   "cell_type": "code",
   "execution_count": 14,
   "id": "1659fc7f",
   "metadata": {},
   "outputs": [],
   "source": [
    "#MSS score\n",
    "regex_last_number = r'(\\d{2})(?=[^\\d]*$)'\n",
    "\n",
    "df['MSS Score'] = df['Patient Demographic'].str.extract(regex_last_number)"
   ]
  },
  {
   "cell_type": "code",
   "execution_count": 15,
   "id": "82b9dcc4",
   "metadata": {},
   "outputs": [],
   "source": [
    "#Age\n",
    "regex_last_number = r'\\|(\\d{2})(?=;|\\.\\|)'\n",
    "\n",
    "df['Age'] = df['Patient Demographic'].str.extract(regex_last_number)"
   ]
  },
  {
   "cell_type": "code",
   "execution_count": 16,
   "id": "29de42da",
   "metadata": {},
   "outputs": [],
   "source": [
    "#id\n",
    "regex_last_number = r'(\\d{3})'\n",
    "\n",
    "df['id'] = df['File Name'].str.extract(regex_last_number)"
   ]
  },
  {
   "cell_type": "code",
   "execution_count": 17,
   "id": "9a873932",
   "metadata": {},
   "outputs": [],
   "source": [
    "#meet number\n",
    "pattern = r'-(\\d+)\\.cha'\n",
    "\n",
    "df['Meet Num'] = df['File Name'].str.extract(pattern)\n",
    "df['Meet Num'] = pd.to_numeric(df['Meet Num'])"
   ]
  },
  {
   "cell_type": "code",
   "execution_count": 18,
   "id": "1a4408b7",
   "metadata": {
    "scrolled": true
   },
   "outputs": [
    {
     "data": {
      "text/html": [
       "<div>\n",
       "<style scoped>\n",
       "    .dataframe tbody tr th:only-of-type {\n",
       "        vertical-align: middle;\n",
       "    }\n",
       "\n",
       "    .dataframe tbody tr th {\n",
       "        vertical-align: top;\n",
       "    }\n",
       "\n",
       "    .dataframe thead th {\n",
       "        text-align: right;\n",
       "    }\n",
       "</style>\n",
       "<table border=\"1\" class=\"dataframe tex2jax_ignore\">\n",
       "  <thead>\n",
       "    <tr style=\"text-align: right;\">\n",
       "      <th></th>\n",
       "      <th>File Name</th>\n",
       "      <th>Patient Demographic</th>\n",
       "      <th>Transcript</th>\n",
       "      <th>MSS Score</th>\n",
       "      <th>Age</th>\n",
       "      <th>id</th>\n",
       "      <th>Meet Num</th>\n",
       "    </tr>\n",
       "  </thead>\n",
       "  <tbody>\n",
       "    <tr>\n",
       "      <th>0</th>\n",
       "      <td>711-0.cha</td>\n",
       "      <td>@ID:\\teng|Pitt|PAR|77;|male|PossibleAD||Participant|25||</td>\n",
       "      <td>oh  you want me to tell you .    the mother and her two children .  gram  and the children are getting in the cookie jar .  and shes doing the dishes and spilling the water .  and she had the spigot on .  and she didnt know it perhaps .  coughs pardon me .    and theyre looking out into the garden from the kitchen window .  its open .  and the  cookies must be pretty good theyre eating .  the chair  pwret   the stool and  the lady  the mothers splashing her shoes and and theres   a window and curtains on the window .  and I can see some trees outside there .  and  and theres dishes that h had been washed .  and shes drying them .  and theres some shrub out there and ...</td>\n",
       "      <td>25</td>\n",
       "      <td>77</td>\n",
       "      <td>711</td>\n",
       "      <td>0</td>\n",
       "    </tr>\n",
       "    <tr>\n",
       "      <th>1</th>\n",
       "      <td>007-3.cha</td>\n",
       "      <td>@ID:\\teng|Pitt|PAR|75;|female|ProbableAD||Participant|15||</td>\n",
       "      <td>well the girl is telling the boy to get the cookies down but dont and the boy is also falling over off the stool .  and the mother is letting the water run outof the sink .  and shes drying dishes .  I dont quite get that but then  ...     she has water on the floor and  and basically its kindof everythings going haywire .  she needs to turn off the water .  if she turned off the water shed be a hundred percent better off .</td>\n",
       "      <td>15</td>\n",
       "      <td>75</td>\n",
       "      <td>007</td>\n",
       "      <td>3</td>\n",
       "    </tr>\n",
       "    <tr>\n",
       "      <th>2</th>\n",
       "      <td>001-0.cha</td>\n",
       "      <td>@ID:\\teng|Pitt|PAR|57;|male|ProbableAD||Participant|18||</td>\n",
       "      <td>mhm .     alright .    theres  a young boy thats getting a cookie jar .  and it  hes  in bad shape because  the thing is and in the picture the mother is washing dishes and doesnt see and so is the  the water is overflowing in the sink .  and the dishes might get falled  ed over if you dont  and it  there  its a picture of a kitchen window .  and the curtains are very  distinct .  but the water is flow still flowing .</td>\n",
       "      <td>18</td>\n",
       "      <td>57</td>\n",
       "      <td>001</td>\n",
       "      <td>0</td>\n",
       "    </tr>\n",
       "    <tr>\n",
       "      <th>3</th>\n",
       "      <td>607-0.cha</td>\n",
       "      <td>@ID:\\teng|Pitt|PAR|79;|female|PossibleAD||Participant|13||</td>\n",
       "      <td>yeah .    the  the little boys trying to get into the cookie jar .  and a little girl is  has her hand out for the cookie .  and the mothers  drying dishes .  but they drop something .  ohno she  p she let the water run over .  and the little boys hes going to fall off the stool oh  I guess thats a j cookie jar, that little girl .  the little boy is gonna fall off the stool  if he its the water .  I said that .    the water was running over the sink .  youknow sinks  .  and  what else is there ?    there are a few dishes there .</td>\n",
       "      <td>13</td>\n",
       "      <td>79</td>\n",
       "      <td>607</td>\n",
       "      <td>0</td>\n",
       "    </tr>\n",
       "    <tr>\n",
       "      <th>4</th>\n",
       "      <td>134-0.cha</td>\n",
       "      <td>@ID:\\teng|Pitt|PAR|77;|female|ProbableAD||Participant|24||</td>\n",
       "      <td>well  theres a boy trying to get some cookies in  from the and then the little girl has her hand up for one .  and . theres  a stool thats ready to fall  that hes and theres a lady washing dishes .  and she spilled  and her sink is filled up full of water and shes standing by the window .   .   see the grass and the shrubbery outside .  and the two is  two cups and a plate to be   thats I dont know if its to be dried or what .</td>\n",
       "      <td>24</td>\n",
       "      <td>77</td>\n",
       "      <td>134</td>\n",
       "      <td>0</td>\n",
       "    </tr>\n",
       "  </tbody>\n",
       "</table>\n",
       "</div>"
      ],
      "text/plain": [
       "   File Name                                         Patient Demographic  \\\n",
       "0  711-0.cha    @ID:\\teng|Pitt|PAR|77;|male|PossibleAD||Participant|25||   \n",
       "1  007-3.cha  @ID:\\teng|Pitt|PAR|75;|female|ProbableAD||Participant|15||   \n",
       "2  001-0.cha    @ID:\\teng|Pitt|PAR|57;|male|ProbableAD||Participant|18||   \n",
       "3  607-0.cha  @ID:\\teng|Pitt|PAR|79;|female|PossibleAD||Participant|13||   \n",
       "4  134-0.cha  @ID:\\teng|Pitt|PAR|77;|female|ProbableAD||Participant|24||   \n",
       "\n",
       "                                                                                                                                                                                                                                                                                                                                                                                                                                                                                                                                                                                                                                                                                                  Transcript  \\\n",
       "0  oh  you want me to tell you .    the mother and her two children .  gram  and the children are getting in the cookie jar .  and shes doing the dishes and spilling the water .  and she had the spigot on .  and she didnt know it perhaps .  coughs pardon me .    and theyre looking out into the garden from the kitchen window .  its open .  and the  cookies must be pretty good theyre eating .  the chair  pwret   the stool and  the lady  the mothers splashing her shoes and and theres   a window and curtains on the window .  and I can see some trees outside there .  and  and theres dishes that h had been washed .  and shes drying them .  and theres some shrub out there and ...      \n",
       "1                                                                                                                                                                                                                                                              well the girl is telling the boy to get the cookies down but dont and the boy is also falling over off the stool .  and the mother is letting the water run outof the sink .  and shes drying dishes .  I dont quite get that but then  ...     she has water on the floor and  and basically its kindof everythings going haywire .  she needs to turn off the water .  if she turned off the water shed be a hundred percent better off .     \n",
       "2                                                                                                                                                                                                                                                                   mhm .     alright .    theres  a young boy thats getting a cookie jar .  and it  hes  in bad shape because  the thing is and in the picture the mother is washing dishes and doesnt see and so is the  the water is overflowing in the sink .  and the dishes might get falled  ed over if you dont  and it  there  its a picture of a kitchen window .  and the curtains are very  distinct .  but the water is flow still flowing .      \n",
       "3                                                                                                                                                  yeah .    the  the little boys trying to get into the cookie jar .  and a little girl is  has her hand out for the cookie .  and the mothers  drying dishes .  but they drop something .  ohno she  p she let the water run over .  and the little boys hes going to fall off the stool oh  I guess thats a j cookie jar, that little girl .  the little boy is gonna fall off the stool  if he its the water .  I said that .    the water was running over the sink .  youknow sinks  .  and  what else is there ?    there are a few dishes there .      \n",
       "4                                                                                                                                                                                                                                                          well  theres a boy trying to get some cookies in  from the and then the little girl has her hand up for one .  and . theres  a stool thats ready to fall  that hes and theres a lady washing dishes .  and she spilled  and her sink is filled up full of water and shes standing by the window .   .   see the grass and the shrubbery outside .  and the two is  two cups and a plate to be   thats I dont know if its to be dried or what .      \n",
       "\n",
       "  MSS Score Age   id  Meet Num  \n",
       "0        25  77  711         0  \n",
       "1        15  75  007         3  \n",
       "2        18  57  001         0  \n",
       "3        13  79  607         0  \n",
       "4        24  77  134         0  "
      ]
     },
     "execution_count": 18,
     "metadata": {},
     "output_type": "execute_result"
    }
   ],
   "source": [
    "df.head() #df \\|(\\d{2})(?=;|\\.\\|) r'\\|(\\d{2});\\|' (\\d{3})(?=-\\d\\.cha$)"
   ]
  },
  {
   "cell_type": "code",
   "execution_count": 19,
   "id": "7efff0e3",
   "metadata": {
    "scrolled": true
   },
   "outputs": [
    {
     "name": "stdout",
     "output_type": "stream",
     "text": [
      "There are rows with the same value in column 'A':\n",
      "     File Name                                         Patient Demographic  \\\n",
      "1    007-3.cha  @ID:\\teng|Pitt|PAR|75;|female|ProbableAD||Participant|15||   \n",
      "2    001-0.cha    @ID:\\teng|Pitt|PAR|57;|male|ProbableAD||Participant|18||   \n",
      "4    134-0.cha  @ID:\\teng|Pitt|PAR|77;|female|ProbableAD||Participant|24||   \n",
      "5    057-1.cha  @ID:\\teng|Pitt|PAR|84;|female|ProbableAD||Participant|24||   \n",
      "6    356-1.cha  @ID:\\teng|Pitt|PAR|58;|female|ProbableAD||Participant|18||   \n",
      "..         ...                                                         ...   \n",
      "544  056-4.cha      @ID:\\teng|Pitt|PAR|78;00.|male|Control||Participant|||   \n",
      "545  015-2.cha     @ID:\\teng|Pitt|PAR|68;|female|Control||Participant|30||   \n",
      "546  128-3.cha     @ID:\\teng|Pitt|PAR|73;|female|Control||Participant|29||   \n",
      "547  132-0.cha       @ID:\\teng|Pitt|PAR|58;|male|Control||Participant|30||   \n",
      "548  140-0.cha     @ID:\\teng|Pitt|PAR|58;|female|Control||Participant|30||   \n",
      "\n",
      "                                                                                                                                                                                                                                                                                                                                                                                                                                                                                                                                                                                                                                                                                                                                                                                                                                                                                                                                                                                                                                                                                                                                                                                                                                                                                                                                                                                                                                                                                                                                                                                                                                                                                                                                                                                                                                                                                                                                                                                                                                              Transcript  \\\n",
      "1                                                                                                                                                                                                                                                                                                                                                                                                                                                                                                                                                                                                                                                                                                                                                                                                                                                                                                                                                                                                                                                                                                                                                                                                                                                                                                                                                                                                                                                                                                                                                                                                          well the girl is telling the boy to get the cookies down but dont and the boy is also falling over off the stool .  and the mother is letting the water run outof the sink .  and shes drying dishes .  I dont quite get that but then  ...     she has water on the floor and  and basically its kindof everythings going haywire .  she needs to turn off the water .  if she turned off the water shed be a hundred percent better off .     \n",
      "2                                                                                                                                                                                                                                                                                                                                                                                                                                                                                                                                                                                                                                                                                                                                                                                                                                                                                                                                                                                                                                                                                                                                                                                                                                                                                                                                                                                                                                                                                                                                                                                                               mhm .     alright .    theres  a young boy thats getting a cookie jar .  and it  hes  in bad shape because  the thing is and in the picture the mother is washing dishes and doesnt see and so is the  the water is overflowing in the sink .  and the dishes might get falled  ed over if you dont  and it  there  its a picture of a kitchen window .  and the curtains are very  distinct .  but the water is flow still flowing .      \n",
      "4                                                                                                                                                                                                                                                                                                                                                                                                                                                                                                                                                                                                                                                                                                                                                                                                                                                                                                                                                                                                                                                                                                                                                                                                                                                                                                                                                                                                                                                                                                                                                                                                      well  theres a boy trying to get some cookies in  from the and then the little girl has her hand up for one .  and . theres  a stool thats ready to fall  that hes and theres a lady washing dishes .  and she spilled  and her sink is filled up full of water and shes standing by the window .   .   see the grass and the shrubbery outside .  and the two is  two cups and a plate to be   thats I dont know if its to be dried or what .      \n",
      "5                                                                                                                                                                                                                                                                                                                                                                                                                                                                                                                                                                                                                                                                                                                                                                                                                                                                                                                                                                                                                                                                                                                                                                                                                                                                                                                                                                                                                                                                                     you ready ?    the little girls going shh .  and shes also  reaching up to get a  cookie .  and the  l the little boy is reaching for a cookie .  and hes going to  his  the   the stool and hes holding a   a cookie in his  left hand .  and  the mothers drying dishes .  and  the water  the dish water is on and its pouring and  . the curtains are blowing .  the  the windows up .  ee let me see .    .. shes drying the dishes .  I dont know whether I said that or not .    ... I cant see any other  ...     the leaves are blowing on the trees .      \n",
      "6                                                                                                                                                                                                                                                                                                                                                                                                                                                                                                                                                                                                                                                                                                                                                                                                                                                                                                                                                                                                                                                                                                                                                                                                                                                                                                                                                                                                                                                                                                                                                                                                                                                                                 a cookie jar .  gram  and the kids  the boys going to get from the cookie jar .  and the mothers washing  drying dishes .  ohboy !    and then in here what happens  ?    where all that waters coming outof there  .  gram ohgosh .    and the little one I dont know what heshes  srret oy oy .    . hm that was it .    oh .    okay  what do I hafta do now ?        \n",
      "..                                                                                                                                                                                                                                                                                                                                                                                                                                                                                                                                                                                                                                                                                                                                                                                                                                                                                                                                                                                                                                                                                                                                                                                                                                                                                                                                                                                                                                                                                                                                                                                                                                                                                                                                                                                                                                                                                                                                                                                                                                                   ...   \n",
      "544                                                                                                                                                                                                                                                                                                                                                                                                                                                                                                                                                                                                                                                                                                                                                                                                                                                                                                                                                                                                                                                                                                                                                                                                                                                                                                                                                                                                                                                                                                                                                                                                                                                                                                well the wife is  letting the sink overflow and slop on the shes wiping a dish .   shes apparently looking out the window .  the kid thats  reaching for  the boy thats reaching  the sister is reaching up for a cookie .  shes got her finger pointed sort of at her nose .   . outside I see nothing thats going on, action .   .. thats it .        \n",
      "545                                                                                                                                                                                                                                                                                                                                                                                                                                                                                                                                                                                                                                                                                                                                                                                                                                                                                                                                                                 this is the one where I insisted the tree doesnt have a trunk and okay what do you want me to do ?    tell a  ?    this is a tree and it  d if it had a trunk it would continue . this is the top sash of the window and it hasta have a trunk down  so what ?    well whats this ?     isnt that a tree ?    looks like a tree to me .    okay what do you want me to ?    do you  all the action ?     okay .    theres a little boy in short pants with short sleeves who is and the lid is falling off the cookie jar .  and the stool is upsetting .  and its a three legged stool .  and the little girl is shushing because the mother is standing and shes wiping a dish instead of the mess .  and shes wearing an apron and she has on sleeveless clothes .    I dont know .    I could go on .    there are two cups and a plate and shes drying another plate .  and  she has short hair thats parted on the left hand side .  and the little boy has a high pompadour .  and the little girl has long hair and a long  low waisted dress how long should I go on ?        \n",
      "546  oh  its the same picture .    you should give me a different one .    why  ?    it would be more fun if you had some variety .    okay .    we have here a scene in a kitchen .  and it looks as though thats a mama who is working at the sink and and the two children are hoping that mama will not notice because so  the boy climbs up on a stool to reach the cookie jar .  and as hes getting up there the   the stool and he looks as though he were about to fall over .  and the little girl is telling him to be quiet by putting her he has one cookie in his hand, is reaching for another one .  the lid is off the cookie jar .  the cupboard door is open .  hes supposedly going to hand one cookie it looks as though he is on the other  around the corner of the kitchen   there are cupboards below the counter and above the counter where then when you get over and have turned a corner in the kitchen you and then you have a window above that which is looking out into there are things growing out there .  theres a walk .  theres   some shrubbery underneath another window that theres a tree beyond .  there are tie back curtains at the window .  the mother is working at the sink .  and the faucet is left on .  and apparently theres no overflow in the sink .  so  its overflowing right onto the floor splasho  splasho . and  she has on a sleeveless dress which also indicates that and it looks though she has an apron on .  she has short hair .   she is drying a dish with a tea towel  a plate with a  beside the sink there are two cups and a plate .  looks as though theres some suds and some dishes in the sink . and two faucets with xl type handles one on either side and a she has shoes on with no ties, just sort of slipon shoes .  theres a little scallop valance across the top of the curtains .  hm . I think thats all Im gonna tell you .    well  the handles on the door are the kind that are just  and whats really strange is that you cant see any handles on the     \n",
      "547                                                                                                                                                                                                                                                                                                                                                                                                                                                                                                                                                                                                                                                                                                                                                                                                                                                                                                                                                                                                                                                                                                                                                                                                                                                                                                                                                                                                                                                                                              thats it .    okay  the boy is in the cookie jar and giving them to his sister mothers washing the dishes .  the waters overflowing in the sink .  the boy is falling off the stool .   the girl is eating a cookie asking for another .   the covers off the cookie jar .  door to the cabinet is open .  gram   the window outside is open .  the yard .  gram  the mother is impervious of whats going on .  shes unconscious just standing in the water and wiping the dishes . thats about it .    the wind might be blowing near the curtain .      \n",
      "548                                                                                                                                                                                                                                                                                                                                                                                                                                                                                                                                                                                                                                                                                                                                                                                                                                                                                                                                                                                                                                                                                                                                                                                                                                          doesnt matter where you start then right ?    alright .    theres  a little boy on a  stepstool which is tilted .  and hes getting some cookies .  now do you want descriptive as far as the cookie lids or  or how  just the action .    okay .    and looks like hes trying to hand a cookie to his sister .  she kindof has her finger up towards her mouth or something like  the mothers drying dishes but the water is overflowing onto .  .. I dont know, the silk  pwret  the .. now we should call the   the  au the cup and the thats not action right is it ?      the breeze might be blowing .  the curtains look like they might be ...  . any other action .    I dont see anything else .    I just see into the outdoors but I dont see anything moving .   thats about it  I guess .        \n",
      "\n",
      "    MSS Score Age   id  Meet Num  \n",
      "1          15  75  007         3  \n",
      "2          18  57  001         0  \n",
      "4          24  77  134         0  \n",
      "5          24  84  057         1  \n",
      "6          18  58  356         1  \n",
      "..        ...  ..  ...       ...  \n",
      "544        00  78  056         4  \n",
      "545        30  68  015         2  \n",
      "546        29  73  128         3  \n",
      "547        30  58  132         0  \n",
      "548        30  58  140         0  \n",
      "\n",
      "[407 rows x 7 columns]\n"
     ]
    }
   ],
   "source": [
    "duplicates = df.duplicated(subset=['id'], keep=False)\n",
    "\n",
    "if duplicates.any():\n",
    "    print(\"There are rows with the same value in column 'A':\")\n",
    "    print(df[duplicates])\n",
    "else:\n",
    "    print(\"There are no rows with the same value in column 'A'.\")"
   ]
  },
  {
   "cell_type": "code",
   "execution_count": 20,
   "id": "49cd99a3",
   "metadata": {
    "scrolled": true
   },
   "outputs": [
    {
     "data": {
      "text/html": [
       "<div>\n",
       "<style scoped>\n",
       "    .dataframe tbody tr th:only-of-type {\n",
       "        vertical-align: middle;\n",
       "    }\n",
       "\n",
       "    .dataframe tbody tr th {\n",
       "        vertical-align: top;\n",
       "    }\n",
       "\n",
       "    .dataframe thead th {\n",
       "        text-align: right;\n",
       "    }\n",
       "</style>\n",
       "<table border=\"1\" class=\"dataframe tex2jax_ignore\">\n",
       "  <thead>\n",
       "    <tr style=\"text-align: right;\">\n",
       "      <th>1</th>\n",
       "      <th>id</th>\n",
       "      <th>idate</th>\n",
       "      <th>testigo</th>\n",
       "      <th>year</th>\n",
       "      <th>yearache</th>\n",
       "      <th>pwml</th>\n",
       "      <th>basedx</th>\n",
       "      <th>dx1</th>\n",
       "      <th>dx2</th>\n",
       "      <th>dx3</th>\n",
       "      <th>...</th>\n",
       "      <th>lhamilto</th>\n",
       "      <th>lasthrs</th>\n",
       "      <th>lastcdr</th>\n",
       "      <th>lastnyu</th>\n",
       "      <th>eps</th>\n",
       "      <th>lastmms</th>\n",
       "      <th>lamattis</th>\n",
       "      <th>lastbless</th>\n",
       "      <th>autopsy results</th>\n",
       "      <th>autopsy date</th>\n",
       "    </tr>\n",
       "  </thead>\n",
       "  <tbody>\n",
       "    <tr>\n",
       "      <th>2</th>\n",
       "      <td>1</td>\n",
       "      <td>29-Jul-83</td>\n",
       "      <td>1</td>\n",
       "      <td>0</td>\n",
       "      <td>0</td>\n",
       "      <td>0</td>\n",
       "      <td>1</td>\n",
       "      <td>100</td>\n",
       "      <td>NaN</td>\n",
       "      <td>NaN</td>\n",
       "      <td>...</td>\n",
       "      <td>NaN</td>\n",
       "      <td>0</td>\n",
       "      <td>3</td>\n",
       "      <td>5</td>\n",
       "      <td>NaN</td>\n",
       "      <td>11</td>\n",
       "      <td>NaN</td>\n",
       "      <td>15</td>\n",
       "      <td>NaN</td>\n",
       "      <td>NaN</td>\n",
       "    </tr>\n",
       "    <tr>\n",
       "      <th>3</th>\n",
       "      <td>2</td>\n",
       "      <td>17-Aug-83</td>\n",
       "      <td>1</td>\n",
       "      <td>0</td>\n",
       "      <td>0</td>\n",
       "      <td>NaN</td>\n",
       "      <td>8</td>\n",
       "      <td>800</td>\n",
       "      <td>-2</td>\n",
       "      <td>-2</td>\n",
       "      <td>...</td>\n",
       "      <td>NaN</td>\n",
       "      <td>1</td>\n",
       "      <td>0</td>\n",
       "      <td>NaN</td>\n",
       "      <td>NaN</td>\n",
       "      <td>28</td>\n",
       "      <td>NaN</td>\n",
       "      <td>NaN</td>\n",
       "      <td>NaN</td>\n",
       "      <td>NaN</td>\n",
       "    </tr>\n",
       "    <tr>\n",
       "      <th>4</th>\n",
       "      <td>3</td>\n",
       "      <td>25-Aug-83</td>\n",
       "      <td>1</td>\n",
       "      <td>0</td>\n",
       "      <td>0</td>\n",
       "      <td>0</td>\n",
       "      <td>1</td>\n",
       "      <td>100</td>\n",
       "      <td>NaN</td>\n",
       "      <td>NaN</td>\n",
       "      <td>...</td>\n",
       "      <td>10</td>\n",
       "      <td>2</td>\n",
       "      <td>3</td>\n",
       "      <td>NaN</td>\n",
       "      <td>NaN</td>\n",
       "      <td>5</td>\n",
       "      <td>NaN</td>\n",
       "      <td>NaN</td>\n",
       "      <td>NaN</td>\n",
       "      <td>NaN</td>\n",
       "    </tr>\n",
       "    <tr>\n",
       "      <th>5</th>\n",
       "      <td>5</td>\n",
       "      <td>23-Aug-83</td>\n",
       "      <td>1</td>\n",
       "      <td>0</td>\n",
       "      <td>0</td>\n",
       "      <td>0</td>\n",
       "      <td>1</td>\n",
       "      <td>100</td>\n",
       "      <td>730</td>\n",
       "      <td>NaN</td>\n",
       "      <td>...</td>\n",
       "      <td>18</td>\n",
       "      <td>1</td>\n",
       "      <td>1</td>\n",
       "      <td>34</td>\n",
       "      <td>NaN</td>\n",
       "      <td>19</td>\n",
       "      <td>NaN</td>\n",
       "      <td>4</td>\n",
       "      <td>NaN</td>\n",
       "      <td>NaN</td>\n",
       "    </tr>\n",
       "    <tr>\n",
       "      <th>6</th>\n",
       "      <td>6</td>\n",
       "      <td>26-Aug-83</td>\n",
       "      <td>1</td>\n",
       "      <td>0</td>\n",
       "      <td>0</td>\n",
       "      <td>NaN</td>\n",
       "      <td>8</td>\n",
       "      <td>800</td>\n",
       "      <td>-2</td>\n",
       "      <td>-2</td>\n",
       "      <td>...</td>\n",
       "      <td>NaN</td>\n",
       "      <td>2</td>\n",
       "      <td>0</td>\n",
       "      <td>0</td>\n",
       "      <td>NaN</td>\n",
       "      <td>30</td>\n",
       "      <td>142</td>\n",
       "      <td>0</td>\n",
       "      <td>NaN</td>\n",
       "      <td>NaN</td>\n",
       "    </tr>\n",
       "  </tbody>\n",
       "</table>\n",
       "<p>5 rows × 108 columns</p>\n",
       "</div>"
      ],
      "text/plain": [
       "1 id      idate testigo year yearache pwml basedx  dx1  dx2  dx3  ...  \\\n",
       "2  1  29-Jul-83       1    0        0    0      1  100  NaN  NaN  ...   \n",
       "3  2  17-Aug-83       1    0        0  NaN      8  800   -2   -2  ...   \n",
       "4  3  25-Aug-83       1    0        0    0      1  100  NaN  NaN  ...   \n",
       "5  5  23-Aug-83       1    0        0    0      1  100  730  NaN  ...   \n",
       "6  6  26-Aug-83       1    0        0  NaN      8  800   -2   -2  ...   \n",
       "\n",
       "1 lhamilto lasthrs lastcdr lastnyu  eps lastmms lamattis lastbless  \\\n",
       "2      NaN       0       3       5  NaN      11      NaN        15   \n",
       "3      NaN       1       0     NaN  NaN      28      NaN       NaN   \n",
       "4       10       2       3     NaN  NaN       5      NaN       NaN   \n",
       "5       18       1       1      34  NaN      19      NaN         4   \n",
       "6      NaN       2       0       0  NaN      30      142         0   \n",
       "\n",
       "1 autopsy results autopsy date  \n",
       "2             NaN          NaN  \n",
       "3             NaN          NaN  \n",
       "4             NaN          NaN  \n",
       "5             NaN          NaN  \n",
       "6             NaN          NaN  \n",
       "\n",
       "[5 rows x 108 columns]"
      ]
     },
     "execution_count": 20,
     "metadata": {},
     "output_type": "execute_result"
    }
   ],
   "source": [
    "demo.head()"
   ]
  },
  {
   "cell_type": "code",
   "execution_count": 21,
   "id": "429c19d5",
   "metadata": {},
   "outputs": [
    {
     "name": "stdout",
     "output_type": "stream",
     "text": [
      "Value '007' does not exist in the 'id' column of DataFrame 'demo'\n"
     ]
    }
   ],
   "source": [
    "if '9' in df['id'].values:\n",
    "    print(\"Value '007' exists in the 'id' column of DataFrame 'demo'\")\n",
    "else:\n",
    "    print(\"Value '007' does not exist in the 'id' column of DataFrame 'demo'\")"
   ]
  },
  {
   "cell_type": "code",
   "execution_count": 22,
   "id": "cf35b37b",
   "metadata": {},
   "outputs": [],
   "source": [
    "df['id'] = df['id'].astype(str).str.lstrip('0')\n",
    "\n",
    "demo['id'] = demo['id'].astype(str).str.lstrip('0')\n",
    "\n",
    "df1 = pd.merge(df, demo, on='id', how='outer')"
   ]
  },
  {
   "cell_type": "code",
   "execution_count": 23,
   "id": "89f0e631",
   "metadata": {},
   "outputs": [
    {
     "data": {
      "text/html": [
       "<div>\n",
       "<style scoped>\n",
       "    .dataframe tbody tr th:only-of-type {\n",
       "        vertical-align: middle;\n",
       "    }\n",
       "\n",
       "    .dataframe tbody tr th {\n",
       "        vertical-align: top;\n",
       "    }\n",
       "\n",
       "    .dataframe thead th {\n",
       "        text-align: right;\n",
       "    }\n",
       "</style>\n",
       "<table border=\"1\" class=\"dataframe tex2jax_ignore\">\n",
       "  <thead>\n",
       "    <tr style=\"text-align: right;\">\n",
       "      <th></th>\n",
       "      <th>File Name</th>\n",
       "      <th>Patient Demographic</th>\n",
       "      <th>Transcript</th>\n",
       "      <th>MSS Score</th>\n",
       "      <th>Age</th>\n",
       "      <th>id</th>\n",
       "      <th>Meet Num</th>\n",
       "      <th>idate</th>\n",
       "      <th>testigo</th>\n",
       "      <th>year</th>\n",
       "      <th>...</th>\n",
       "      <th>lhamilto</th>\n",
       "      <th>lasthrs</th>\n",
       "      <th>lastcdr</th>\n",
       "      <th>lastnyu</th>\n",
       "      <th>eps</th>\n",
       "      <th>lastmms</th>\n",
       "      <th>lamattis</th>\n",
       "      <th>lastbless</th>\n",
       "      <th>autopsy results</th>\n",
       "      <th>autopsy date</th>\n",
       "    </tr>\n",
       "  </thead>\n",
       "  <tbody>\n",
       "    <tr>\n",
       "      <th>0</th>\n",
       "      <td>711-0.cha</td>\n",
       "      <td>@ID:\\teng|Pitt|PAR|77;|male|PossibleAD||Participant|25||</td>\n",
       "      <td>oh  you want me to tell you .    the mother and her two children .  gram  and the children are getting in the cookie jar .  and shes doing the dishes and spilling the water .  and she had the spigot on .  and she didnt know it perhaps .  coughs pardon me .    and theyre looking out into the garden from the kitchen window .  its open .  and the  cookies must be pretty good theyre eating .  the chair  pwret   the stool and  the lady  the mothers splashing her shoes and and theres   a window and curtains on the window .  and I can see some trees outside there .  and  and theres dishes that h had been washed .  and shes drying them .  and theres some shrub out there and ...</td>\n",
       "      <td>25</td>\n",
       "      <td>77</td>\n",
       "      <td>711</td>\n",
       "      <td>0.0</td>\n",
       "      <td>25-Feb-88</td>\n",
       "      <td>1</td>\n",
       "      <td>0</td>\n",
       "      <td>...</td>\n",
       "      <td>2</td>\n",
       "      <td>10</td>\n",
       "      <td>1</td>\n",
       "      <td>8</td>\n",
       "      <td>NaN</td>\n",
       "      <td>21</td>\n",
       "      <td>113</td>\n",
       "      <td>3.5</td>\n",
       "      <td>NaN</td>\n",
       "      <td>NaN</td>\n",
       "    </tr>\n",
       "    <tr>\n",
       "      <th>1</th>\n",
       "      <td>007-3.cha</td>\n",
       "      <td>@ID:\\teng|Pitt|PAR|75;|female|ProbableAD||Participant|15||</td>\n",
       "      <td>well the girl is telling the boy to get the cookies down but dont and the boy is also falling over off the stool .  and the mother is letting the water run outof the sink .  and shes drying dishes .  I dont quite get that but then  ...     she has water on the floor and  and basically its kindof everythings going haywire .  she needs to turn off the water .  if she turned off the water shed be a hundred percent better off .</td>\n",
       "      <td>15</td>\n",
       "      <td>75</td>\n",
       "      <td>7</td>\n",
       "      <td>3.0</td>\n",
       "      <td>26-Aug-83</td>\n",
       "      <td>1</td>\n",
       "      <td>0</td>\n",
       "      <td>...</td>\n",
       "      <td>6</td>\n",
       "      <td>3</td>\n",
       "      <td>3</td>\n",
       "      <td>22</td>\n",
       "      <td>NaN</td>\n",
       "      <td>15</td>\n",
       "      <td>NaN</td>\n",
       "      <td>6</td>\n",
       "      <td>NaN</td>\n",
       "      <td>NaN</td>\n",
       "    </tr>\n",
       "    <tr>\n",
       "      <th>2</th>\n",
       "      <td>007-1.cha</td>\n",
       "      <td>@ID:\\teng|Pitt|PAR|73;|female|ProbableAD||Participant|19||</td>\n",
       "      <td>.   can I look at it and tell you ?     oh okay .    well theres a girl and a boy and the boys in the cookie jar .  and hes standing on a stool thats tipping over .  and hes in the kitchen .  and the mothers in the kitchen running the water at the sink .  and the waters running over and its all over the floor .  and there are curtains at the windows .  and there are cups and a plate on the  pantry .  and   the  the  outside the window theres a path and there are curtains there .  and  thats about all there .</td>\n",
       "      <td>19</td>\n",
       "      <td>73</td>\n",
       "      <td>7</td>\n",
       "      <td>1.0</td>\n",
       "      <td>26-Aug-83</td>\n",
       "      <td>1</td>\n",
       "      <td>0</td>\n",
       "      <td>...</td>\n",
       "      <td>6</td>\n",
       "      <td>3</td>\n",
       "      <td>3</td>\n",
       "      <td>22</td>\n",
       "      <td>NaN</td>\n",
       "      <td>15</td>\n",
       "      <td>NaN</td>\n",
       "      <td>6</td>\n",
       "      <td>NaN</td>\n",
       "      <td>NaN</td>\n",
       "    </tr>\n",
       "    <tr>\n",
       "      <th>3</th>\n",
       "      <td>001-0.cha</td>\n",
       "      <td>@ID:\\teng|Pitt|PAR|57;|male|ProbableAD||Participant|18||</td>\n",
       "      <td>mhm .     alright .    theres  a young boy thats getting a cookie jar .  and it  hes  in bad shape because  the thing is and in the picture the mother is washing dishes and doesnt see and so is the  the water is overflowing in the sink .  and the dishes might get falled  ed over if you dont  and it  there  its a picture of a kitchen window .  and the curtains are very  distinct .  but the water is flow still flowing .</td>\n",
       "      <td>18</td>\n",
       "      <td>57</td>\n",
       "      <td>1</td>\n",
       "      <td>0.0</td>\n",
       "      <td>29-Jul-83</td>\n",
       "      <td>1</td>\n",
       "      <td>0</td>\n",
       "      <td>...</td>\n",
       "      <td>NaN</td>\n",
       "      <td>0</td>\n",
       "      <td>3</td>\n",
       "      <td>5</td>\n",
       "      <td>NaN</td>\n",
       "      <td>11</td>\n",
       "      <td>NaN</td>\n",
       "      <td>15</td>\n",
       "      <td>NaN</td>\n",
       "      <td>NaN</td>\n",
       "    </tr>\n",
       "    <tr>\n",
       "      <th>4</th>\n",
       "      <td>001-2.cha</td>\n",
       "      <td>@ID:\\teng|Pitt|PAR|59;|male|ProbableAD||Participant|11||</td>\n",
       "      <td>mhm .  theres a young boy  going in a cookie jar .  and theres a  lit a girl  young girl .  and Im saying hes a boy because you can  rd its  and hes  hes in the   cookie jar .  and theres a  stool that he is on and it already is starting to and so is the water in the sink  is ev overflowing in the sink hm I  I dont know about the  this hickey here I   like it  the wife or g Imean   the  the and shes     h she has   has .  oh  I  I cant think of the ...  she has  the shes trying to wipe   wipe dishes .  oh  and stop the water from going out .</td>\n",
       "      <td>11</td>\n",
       "      <td>59</td>\n",
       "      <td>1</td>\n",
       "      <td>2.0</td>\n",
       "      <td>29-Jul-83</td>\n",
       "      <td>1</td>\n",
       "      <td>0</td>\n",
       "      <td>...</td>\n",
       "      <td>NaN</td>\n",
       "      <td>0</td>\n",
       "      <td>3</td>\n",
       "      <td>5</td>\n",
       "      <td>NaN</td>\n",
       "      <td>11</td>\n",
       "      <td>NaN</td>\n",
       "      <td>15</td>\n",
       "      <td>NaN</td>\n",
       "      <td>NaN</td>\n",
       "    </tr>\n",
       "  </tbody>\n",
       "</table>\n",
       "<p>5 rows × 114 columns</p>\n",
       "</div>"
      ],
      "text/plain": [
       "   File Name                                         Patient Demographic  \\\n",
       "0  711-0.cha    @ID:\\teng|Pitt|PAR|77;|male|PossibleAD||Participant|25||   \n",
       "1  007-3.cha  @ID:\\teng|Pitt|PAR|75;|female|ProbableAD||Participant|15||   \n",
       "2  007-1.cha  @ID:\\teng|Pitt|PAR|73;|female|ProbableAD||Participant|19||   \n",
       "3  001-0.cha    @ID:\\teng|Pitt|PAR|57;|male|ProbableAD||Participant|18||   \n",
       "4  001-2.cha    @ID:\\teng|Pitt|PAR|59;|male|ProbableAD||Participant|11||   \n",
       "\n",
       "                                                                                                                                                                                                                                                                                                                                                                                                                                                                                                                                                                                                                                                                                                  Transcript  \\\n",
       "0  oh  you want me to tell you .    the mother and her two children .  gram  and the children are getting in the cookie jar .  and shes doing the dishes and spilling the water .  and she had the spigot on .  and she didnt know it perhaps .  coughs pardon me .    and theyre looking out into the garden from the kitchen window .  its open .  and the  cookies must be pretty good theyre eating .  the chair  pwret   the stool and  the lady  the mothers splashing her shoes and and theres   a window and curtains on the window .  and I can see some trees outside there .  and  and theres dishes that h had been washed .  and shes drying them .  and theres some shrub out there and ...      \n",
       "1                                                                                                                                                                                                                                                              well the girl is telling the boy to get the cookies down but dont and the boy is also falling over off the stool .  and the mother is letting the water run outof the sink .  and shes drying dishes .  I dont quite get that but then  ...     she has water on the floor and  and basically its kindof everythings going haywire .  she needs to turn off the water .  if she turned off the water shed be a hundred percent better off .     \n",
       "2                                                                                                                                                                     .   can I look at it and tell you ?     oh okay .    well theres a girl and a boy and the boys in the cookie jar .  and hes standing on a stool thats tipping over .  and hes in the kitchen .  and the mothers in the kitchen running the water at the sink .  and the waters running over and its all over the floor .  and there are curtains at the windows .  and there are cups and a plate on the  pantry .  and   the  the  outside the window theres a path and there are curtains there .  and  thats about all there .        \n",
       "3                                                                                                                                                                                                                                                                   mhm .     alright .    theres  a young boy thats getting a cookie jar .  and it  hes  in bad shape because  the thing is and in the picture the mother is washing dishes and doesnt see and so is the  the water is overflowing in the sink .  and the dishes might get falled  ed over if you dont  and it  there  its a picture of a kitchen window .  and the curtains are very  distinct .  but the water is flow still flowing .      \n",
       "4                                                                                                                                     mhm .  theres a young boy  going in a cookie jar .  and theres a  lit a girl  young girl .  and Im saying hes a boy because you can  rd its  and hes  hes in the   cookie jar .  and theres a  stool that he is on and it already is starting to and so is the water in the sink  is ev overflowing in the sink hm I  I dont know about the  this hickey here I   like it  the wife or g Imean   the  the and shes     h she has   has .  oh  I  I cant think of the ...  she has  the shes trying to wipe   wipe dishes .  oh  and stop the water from going out .      \n",
       "\n",
       "  MSS Score Age   id  Meet Num      idate testigo year  ... lhamilto lasthrs  \\\n",
       "0        25  77  711       0.0  25-Feb-88       1    0  ...        2      10   \n",
       "1        15  75    7       3.0  26-Aug-83       1    0  ...        6       3   \n",
       "2        19  73    7       1.0  26-Aug-83       1    0  ...        6       3   \n",
       "3        18  57    1       0.0  29-Jul-83       1    0  ...      NaN       0   \n",
       "4        11  59    1       2.0  29-Jul-83       1    0  ...      NaN       0   \n",
       "\n",
       "  lastcdr lastnyu  eps lastmms lamattis lastbless autopsy results autopsy date  \n",
       "0       1       8  NaN      21      113       3.5             NaN          NaN  \n",
       "1       3      22  NaN      15      NaN         6             NaN          NaN  \n",
       "2       3      22  NaN      15      NaN         6             NaN          NaN  \n",
       "3       3       5  NaN      11      NaN        15             NaN          NaN  \n",
       "4       3       5  NaN      11      NaN        15             NaN          NaN  \n",
       "\n",
       "[5 rows x 114 columns]"
      ]
     },
     "execution_count": 23,
     "metadata": {},
     "output_type": "execute_result"
    }
   ],
   "source": [
    "df1.head()"
   ]
  },
  {
   "cell_type": "code",
   "execution_count": 24,
   "id": "a534b221",
   "metadata": {},
   "outputs": [],
   "source": [
    "df1 = df1.dropna(subset=['File Name'])\n",
    "\n",
    "df1.reset_index(drop=True, inplace=True)"
   ]
  },
  {
   "cell_type": "code",
   "execution_count": 25,
   "id": "18235cbc",
   "metadata": {},
   "outputs": [],
   "source": [
    "df1.loc[df1['MSS Score'] == '00', 'MSS Score'] = 'na'"
   ]
  },
  {
   "cell_type": "code",
   "execution_count": 26,
   "id": "c516c00c",
   "metadata": {},
   "outputs": [
    {
     "name": "stdout",
     "output_type": "stream",
     "text": [
      "Number of rows with 'edu' column value less than 10: 87\n"
     ]
    }
   ],
   "source": [
    "df1['educ'] = df1['educ'].astype(int)\n",
    "count = df1[df1['educ'] < 12].shape[0]\n",
    "\n",
    "print(\"Number of rows with 'edu' column value less than 10:\", count)"
   ]
  },
  {
   "cell_type": "code",
   "execution_count": 27,
   "id": "7c8edddc",
   "metadata": {
    "scrolled": true
   },
   "outputs": [
    {
     "name": "stdout",
     "output_type": "stream",
     "text": [
      "Unique values in 'edu' column: ['1' '2']\n"
     ]
    },
    {
     "data": {
      "text/html": [
       "<div>\n",
       "<style scoped>\n",
       "    .dataframe tbody tr th:only-of-type {\n",
       "        vertical-align: middle;\n",
       "    }\n",
       "\n",
       "    .dataframe tbody tr th {\n",
       "        vertical-align: top;\n",
       "    }\n",
       "\n",
       "    .dataframe thead th {\n",
       "        text-align: right;\n",
       "    }\n",
       "</style>\n",
       "<table border=\"1\" class=\"dataframe tex2jax_ignore\">\n",
       "  <thead>\n",
       "    <tr style=\"text-align: right;\">\n",
       "      <th></th>\n",
       "      <th>File Name</th>\n",
       "      <th>Patient Demographic</th>\n",
       "      <th>Transcript</th>\n",
       "      <th>MSS Score</th>\n",
       "      <th>Age</th>\n",
       "      <th>id</th>\n",
       "      <th>Meet Num</th>\n",
       "    </tr>\n",
       "  </thead>\n",
       "  <tbody>\n",
       "    <tr>\n",
       "      <th>0</th>\n",
       "      <td>711-0.cha</td>\n",
       "      <td>@ID:\\teng|Pitt|PAR|77;|male|PossibleAD||Participant|25||</td>\n",
       "      <td>oh  you want me to tell you .    the mother and her two children .  gram  and the children are getting in the cookie jar .  and shes doing the dishes and spilling the water .  and she had the spigot on .  and she didnt know it perhaps .  coughs pardon me .    and theyre looking out into the garden from the kitchen window .  its open .  and the  cookies must be pretty good theyre eating .  the chair  pwret   the stool and  the lady  the mothers splashing her shoes and and theres   a window and curtains on the window .  and I can see some trees outside there .  and  and theres dishes that h had been washed .  and shes drying them .  and theres some shrub out there and ...</td>\n",
       "      <td>25</td>\n",
       "      <td>77</td>\n",
       "      <td>711</td>\n",
       "      <td>0</td>\n",
       "    </tr>\n",
       "    <tr>\n",
       "      <th>1</th>\n",
       "      <td>007-3.cha</td>\n",
       "      <td>@ID:\\teng|Pitt|PAR|75;|female|ProbableAD||Participant|15||</td>\n",
       "      <td>well the girl is telling the boy to get the cookies down but dont and the boy is also falling over off the stool .  and the mother is letting the water run outof the sink .  and shes drying dishes .  I dont quite get that but then  ...     she has water on the floor and  and basically its kindof everythings going haywire .  she needs to turn off the water .  if she turned off the water shed be a hundred percent better off .</td>\n",
       "      <td>15</td>\n",
       "      <td>75</td>\n",
       "      <td>7</td>\n",
       "      <td>3</td>\n",
       "    </tr>\n",
       "    <tr>\n",
       "      <th>2</th>\n",
       "      <td>001-0.cha</td>\n",
       "      <td>@ID:\\teng|Pitt|PAR|57;|male|ProbableAD||Participant|18||</td>\n",
       "      <td>mhm .     alright .    theres  a young boy thats getting a cookie jar .  and it  hes  in bad shape because  the thing is and in the picture the mother is washing dishes and doesnt see and so is the  the water is overflowing in the sink .  and the dishes might get falled  ed over if you dont  and it  there  its a picture of a kitchen window .  and the curtains are very  distinct .  but the water is flow still flowing .</td>\n",
       "      <td>18</td>\n",
       "      <td>57</td>\n",
       "      <td>1</td>\n",
       "      <td>0</td>\n",
       "    </tr>\n",
       "    <tr>\n",
       "      <th>3</th>\n",
       "      <td>607-0.cha</td>\n",
       "      <td>@ID:\\teng|Pitt|PAR|79;|female|PossibleAD||Participant|13||</td>\n",
       "      <td>yeah .    the  the little boys trying to get into the cookie jar .  and a little girl is  has her hand out for the cookie .  and the mothers  drying dishes .  but they drop something .  ohno she  p she let the water run over .  and the little boys hes going to fall off the stool oh  I guess thats a j cookie jar, that little girl .  the little boy is gonna fall off the stool  if he its the water .  I said that .    the water was running over the sink .  youknow sinks  .  and  what else is there ?    there are a few dishes there .</td>\n",
       "      <td>13</td>\n",
       "      <td>79</td>\n",
       "      <td>607</td>\n",
       "      <td>0</td>\n",
       "    </tr>\n",
       "    <tr>\n",
       "      <th>4</th>\n",
       "      <td>134-0.cha</td>\n",
       "      <td>@ID:\\teng|Pitt|PAR|77;|female|ProbableAD||Participant|24||</td>\n",
       "      <td>well  theres a boy trying to get some cookies in  from the and then the little girl has her hand up for one .  and . theres  a stool thats ready to fall  that hes and theres a lady washing dishes .  and she spilled  and her sink is filled up full of water and shes standing by the window .   .   see the grass and the shrubbery outside .  and the two is  two cups and a plate to be   thats I dont know if its to be dried or what .</td>\n",
       "      <td>24</td>\n",
       "      <td>77</td>\n",
       "      <td>134</td>\n",
       "      <td>0</td>\n",
       "    </tr>\n",
       "    <tr>\n",
       "      <th>...</th>\n",
       "      <td>...</td>\n",
       "      <td>...</td>\n",
       "      <td>...</td>\n",
       "      <td>...</td>\n",
       "      <td>...</td>\n",
       "      <td>...</td>\n",
       "      <td>...</td>\n",
       "    </tr>\n",
       "    <tr>\n",
       "      <th>544</th>\n",
       "      <td>056-4.cha</td>\n",
       "      <td>@ID:\\teng|Pitt|PAR|78;00.|male|Control||Participant|||</td>\n",
       "      <td>well the wife is  letting the sink overflow and slop on the shes wiping a dish .   shes apparently looking out the window .  the kid thats  reaching for  the boy thats reaching  the sister is reaching up for a cookie .  shes got her finger pointed sort of at her nose .   . outside I see nothing thats going on, action .   .. thats it .</td>\n",
       "      <td>00</td>\n",
       "      <td>78</td>\n",
       "      <td>56</td>\n",
       "      <td>4</td>\n",
       "    </tr>\n",
       "    <tr>\n",
       "      <th>545</th>\n",
       "      <td>015-2.cha</td>\n",
       "      <td>@ID:\\teng|Pitt|PAR|68;|female|Control||Participant|30||</td>\n",
       "      <td>this is the one where I insisted the tree doesnt have a trunk and okay what do you want me to do ?    tell a  ?    this is a tree and it  d if it had a trunk it would continue . this is the top sash of the window and it hasta have a trunk down  so what ?    well whats this ?     isnt that a tree ?    looks like a tree to me .    okay what do you want me to ?    do you  all the action ?     okay .    theres a little boy in short pants with short sleeves who is and the lid is falling off the cookie jar .  and the stool is upsetting .  and its a three legged stool .  and the little girl is shushing because the mother is standing and shes wiping a dish instead of the mess .  and shes wearing an apron and she has on sleeveless clothes .    I dont know .    I could go on .    there are two cups and a plate and shes drying another plate .  and  she has short hair thats parted on the left hand side .  and the little boy has a high pompadour .  and the little girl has long hair and a long  low waisted dress how long should I go on ?</td>\n",
       "      <td>30</td>\n",
       "      <td>68</td>\n",
       "      <td>15</td>\n",
       "      <td>2</td>\n",
       "    </tr>\n",
       "    <tr>\n",
       "      <th>546</th>\n",
       "      <td>128-3.cha</td>\n",
       "      <td>@ID:\\teng|Pitt|PAR|73;|female|Control||Participant|29||</td>\n",
       "      <td>oh  its the same picture .    you should give me a different one .    why  ?    it would be more fun if you had some variety .    okay .    we have here a scene in a kitchen .  and it looks as though thats a mama who is working at the sink and and the two children are hoping that mama will not notice because so  the boy climbs up on a stool to reach the cookie jar .  and as hes getting up there the   the stool and he looks as though he were about to fall over .  and the little girl is telling him to be quiet by putting her he has one cookie in his hand, is reaching for another one .  the lid is off the cookie jar .  the cupboard door is open .  hes supposedly going to hand one cookie it looks as though he is on the other  around the corner of the kitchen   there are cupboards below the counter and above the counter where then when you get over and have turned a corner in the kitchen you and then you have a window above that which is looking out into there are things growing out there .  theres a walk .  theres   some shrubbery underneath another window that theres a tree beyond .  there are tie back curtains at the window .  the mother is working at the sink .  and the faucet is left on .  and apparently theres no overflow in the sink .  so  its overflowing right onto the floor splasho  splasho . and  she has on a sleeveless dress which also indicates that and it looks though she has an apron on .  she has short hair .   she is drying a dish with a tea towel  a plate with a  beside the sink there are two cups and a plate .  looks as though theres some suds and some dishes in the sink . and two faucets with xl type handles one on either side and a she has shoes on with no ties, just sort of slipon shoes .  theres a little scallop valance across the top of the curtains .  hm . I think thats all Im gonna tell you .    well  the handles on the door are the kind that are just  and whats really strange is that you cant see any handles on the</td>\n",
       "      <td>29</td>\n",
       "      <td>73</td>\n",
       "      <td>128</td>\n",
       "      <td>3</td>\n",
       "    </tr>\n",
       "    <tr>\n",
       "      <th>547</th>\n",
       "      <td>132-0.cha</td>\n",
       "      <td>@ID:\\teng|Pitt|PAR|58;|male|Control||Participant|30||</td>\n",
       "      <td>thats it .    okay  the boy is in the cookie jar and giving them to his sister mothers washing the dishes .  the waters overflowing in the sink .  the boy is falling off the stool .   the girl is eating a cookie asking for another .   the covers off the cookie jar .  door to the cabinet is open .  gram   the window outside is open .  the yard .  gram  the mother is impervious of whats going on .  shes unconscious just standing in the water and wiping the dishes . thats about it .    the wind might be blowing near the curtain .</td>\n",
       "      <td>30</td>\n",
       "      <td>58</td>\n",
       "      <td>132</td>\n",
       "      <td>0</td>\n",
       "    </tr>\n",
       "    <tr>\n",
       "      <th>548</th>\n",
       "      <td>140-0.cha</td>\n",
       "      <td>@ID:\\teng|Pitt|PAR|58;|female|Control||Participant|30||</td>\n",
       "      <td>doesnt matter where you start then right ?    alright .    theres  a little boy on a  stepstool which is tilted .  and hes getting some cookies .  now do you want descriptive as far as the cookie lids or  or how  just the action .    okay .    and looks like hes trying to hand a cookie to his sister .  she kindof has her finger up towards her mouth or something like  the mothers drying dishes but the water is overflowing onto .  .. I dont know, the silk  pwret  the .. now we should call the   the  au the cup and the thats not action right is it ?      the breeze might be blowing .  the curtains look like they might be ...  . any other action .    I dont see anything else .    I just see into the outdoors but I dont see anything moving .   thats about it  I guess .</td>\n",
       "      <td>30</td>\n",
       "      <td>58</td>\n",
       "      <td>140</td>\n",
       "      <td>0</td>\n",
       "    </tr>\n",
       "  </tbody>\n",
       "</table>\n",
       "<p>549 rows × 7 columns</p>\n",
       "</div>"
      ],
      "text/plain": [
       "     File Name                                         Patient Demographic  \\\n",
       "0    711-0.cha    @ID:\\teng|Pitt|PAR|77;|male|PossibleAD||Participant|25||   \n",
       "1    007-3.cha  @ID:\\teng|Pitt|PAR|75;|female|ProbableAD||Participant|15||   \n",
       "2    001-0.cha    @ID:\\teng|Pitt|PAR|57;|male|ProbableAD||Participant|18||   \n",
       "3    607-0.cha  @ID:\\teng|Pitt|PAR|79;|female|PossibleAD||Participant|13||   \n",
       "4    134-0.cha  @ID:\\teng|Pitt|PAR|77;|female|ProbableAD||Participant|24||   \n",
       "..         ...                                                         ...   \n",
       "544  056-4.cha      @ID:\\teng|Pitt|PAR|78;00.|male|Control||Participant|||   \n",
       "545  015-2.cha     @ID:\\teng|Pitt|PAR|68;|female|Control||Participant|30||   \n",
       "546  128-3.cha     @ID:\\teng|Pitt|PAR|73;|female|Control||Participant|29||   \n",
       "547  132-0.cha       @ID:\\teng|Pitt|PAR|58;|male|Control||Participant|30||   \n",
       "548  140-0.cha     @ID:\\teng|Pitt|PAR|58;|female|Control||Participant|30||   \n",
       "\n",
       "                                                                                                                                                                                                                                                                                                                                                                                                                                                                                                                                                                                                                                                                                                                                                                                                                                                                                                                                                                                                                                                                                                                                                                                                                                                                                                                                                                                                                                                                                                                                                                                                                                                                                                                                                                                                                                                                                                                                                                                                                                              Transcript  \\\n",
       "0                                                                                                                                                                                                                                                                                                                                                                                                                                                                                                                                                                                                                                                                                                                                                                                                                                                                                                                                                                                                                                                                                                                                                                                                                                                                                                                                              oh  you want me to tell you .    the mother and her two children .  gram  and the children are getting in the cookie jar .  and shes doing the dishes and spilling the water .  and she had the spigot on .  and she didnt know it perhaps .  coughs pardon me .    and theyre looking out into the garden from the kitchen window .  its open .  and the  cookies must be pretty good theyre eating .  the chair  pwret   the stool and  the lady  the mothers splashing her shoes and and theres   a window and curtains on the window .  and I can see some trees outside there .  and  and theres dishes that h had been washed .  and shes drying them .  and theres some shrub out there and ...      \n",
       "1                                                                                                                                                                                                                                                                                                                                                                                                                                                                                                                                                                                                                                                                                                                                                                                                                                                                                                                                                                                                                                                                                                                                                                                                                                                                                                                                                                                                                                                                                                                                                                                                          well the girl is telling the boy to get the cookies down but dont and the boy is also falling over off the stool .  and the mother is letting the water run outof the sink .  and shes drying dishes .  I dont quite get that but then  ...     she has water on the floor and  and basically its kindof everythings going haywire .  she needs to turn off the water .  if she turned off the water shed be a hundred percent better off .     \n",
       "2                                                                                                                                                                                                                                                                                                                                                                                                                                                                                                                                                                                                                                                                                                                                                                                                                                                                                                                                                                                                                                                                                                                                                                                                                                                                                                                                                                                                                                                                                                                                                                                                               mhm .     alright .    theres  a young boy thats getting a cookie jar .  and it  hes  in bad shape because  the thing is and in the picture the mother is washing dishes and doesnt see and so is the  the water is overflowing in the sink .  and the dishes might get falled  ed over if you dont  and it  there  its a picture of a kitchen window .  and the curtains are very  distinct .  but the water is flow still flowing .      \n",
       "3                                                                                                                                                                                                                                                                                                                                                                                                                                                                                                                                                                                                                                                                                                                                                                                                                                                                                                                                                                                                                                                                                                                                                                                                                                                                                                                                                                                                                                                                                              yeah .    the  the little boys trying to get into the cookie jar .  and a little girl is  has her hand out for the cookie .  and the mothers  drying dishes .  but they drop something .  ohno she  p she let the water run over .  and the little boys hes going to fall off the stool oh  I guess thats a j cookie jar, that little girl .  the little boy is gonna fall off the stool  if he its the water .  I said that .    the water was running over the sink .  youknow sinks  .  and  what else is there ?    there are a few dishes there .      \n",
       "4                                                                                                                                                                                                                                                                                                                                                                                                                                                                                                                                                                                                                                                                                                                                                                                                                                                                                                                                                                                                                                                                                                                                                                                                                                                                                                                                                                                                                                                                                                                                                                                                      well  theres a boy trying to get some cookies in  from the and then the little girl has her hand up for one .  and . theres  a stool thats ready to fall  that hes and theres a lady washing dishes .  and she spilled  and her sink is filled up full of water and shes standing by the window .   .   see the grass and the shrubbery outside .  and the two is  two cups and a plate to be   thats I dont know if its to be dried or what .      \n",
       "..                                                                                                                                                                                                                                                                                                                                                                                                                                                                                                                                                                                                                                                                                                                                                                                                                                                                                                                                                                                                                                                                                                                                                                                                                                                                                                                                                                                                                                                                                                                                                                                                                                                                                                                                                                                                                                                                                                                                                                                                                                                   ...   \n",
       "544                                                                                                                                                                                                                                                                                                                                                                                                                                                                                                                                                                                                                                                                                                                                                                                                                                                                                                                                                                                                                                                                                                                                                                                                                                                                                                                                                                                                                                                                                                                                                                                                                                                                                                well the wife is  letting the sink overflow and slop on the shes wiping a dish .   shes apparently looking out the window .  the kid thats  reaching for  the boy thats reaching  the sister is reaching up for a cookie .  shes got her finger pointed sort of at her nose .   . outside I see nothing thats going on, action .   .. thats it .        \n",
       "545                                                                                                                                                                                                                                                                                                                                                                                                                                                                                                                                                                                                                                                                                                                                                                                                                                                                                                                                                                 this is the one where I insisted the tree doesnt have a trunk and okay what do you want me to do ?    tell a  ?    this is a tree and it  d if it had a trunk it would continue . this is the top sash of the window and it hasta have a trunk down  so what ?    well whats this ?     isnt that a tree ?    looks like a tree to me .    okay what do you want me to ?    do you  all the action ?     okay .    theres a little boy in short pants with short sleeves who is and the lid is falling off the cookie jar .  and the stool is upsetting .  and its a three legged stool .  and the little girl is shushing because the mother is standing and shes wiping a dish instead of the mess .  and shes wearing an apron and she has on sleeveless clothes .    I dont know .    I could go on .    there are two cups and a plate and shes drying another plate .  and  she has short hair thats parted on the left hand side .  and the little boy has a high pompadour .  and the little girl has long hair and a long  low waisted dress how long should I go on ?        \n",
       "546  oh  its the same picture .    you should give me a different one .    why  ?    it would be more fun if you had some variety .    okay .    we have here a scene in a kitchen .  and it looks as though thats a mama who is working at the sink and and the two children are hoping that mama will not notice because so  the boy climbs up on a stool to reach the cookie jar .  and as hes getting up there the   the stool and he looks as though he were about to fall over .  and the little girl is telling him to be quiet by putting her he has one cookie in his hand, is reaching for another one .  the lid is off the cookie jar .  the cupboard door is open .  hes supposedly going to hand one cookie it looks as though he is on the other  around the corner of the kitchen   there are cupboards below the counter and above the counter where then when you get over and have turned a corner in the kitchen you and then you have a window above that which is looking out into there are things growing out there .  theres a walk .  theres   some shrubbery underneath another window that theres a tree beyond .  there are tie back curtains at the window .  the mother is working at the sink .  and the faucet is left on .  and apparently theres no overflow in the sink .  so  its overflowing right onto the floor splasho  splasho . and  she has on a sleeveless dress which also indicates that and it looks though she has an apron on .  she has short hair .   she is drying a dish with a tea towel  a plate with a  beside the sink there are two cups and a plate .  looks as though theres some suds and some dishes in the sink . and two faucets with xl type handles one on either side and a she has shoes on with no ties, just sort of slipon shoes .  theres a little scallop valance across the top of the curtains .  hm . I think thats all Im gonna tell you .    well  the handles on the door are the kind that are just  and whats really strange is that you cant see any handles on the     \n",
       "547                                                                                                                                                                                                                                                                                                                                                                                                                                                                                                                                                                                                                                                                                                                                                                                                                                                                                                                                                                                                                                                                                                                                                                                                                                                                                                                                                                                                                                                                                              thats it .    okay  the boy is in the cookie jar and giving them to his sister mothers washing the dishes .  the waters overflowing in the sink .  the boy is falling off the stool .   the girl is eating a cookie asking for another .   the covers off the cookie jar .  door to the cabinet is open .  gram   the window outside is open .  the yard .  gram  the mother is impervious of whats going on .  shes unconscious just standing in the water and wiping the dishes . thats about it .    the wind might be blowing near the curtain .      \n",
       "548                                                                                                                                                                                                                                                                                                                                                                                                                                                                                                                                                                                                                                                                                                                                                                                                                                                                                                                                                                                                                                                                                                                                                                                                                                          doesnt matter where you start then right ?    alright .    theres  a little boy on a  stepstool which is tilted .  and hes getting some cookies .  now do you want descriptive as far as the cookie lids or  or how  just the action .    okay .    and looks like hes trying to hand a cookie to his sister .  she kindof has her finger up towards her mouth or something like  the mothers drying dishes but the water is overflowing onto .  .. I dont know, the silk  pwret  the .. now we should call the   the  au the cup and the thats not action right is it ?      the breeze might be blowing .  the curtains look like they might be ...  . any other action .    I dont see anything else .    I just see into the outdoors but I dont see anything moving .   thats about it  I guess .        \n",
       "\n",
       "    MSS Score Age   id  Meet Num  \n",
       "0          25  77  711         0  \n",
       "1          15  75    7         3  \n",
       "2          18  57    1         0  \n",
       "3          13  79  607         0  \n",
       "4          24  77  134         0  \n",
       "..        ...  ..  ...       ...  \n",
       "544        00  78   56         4  \n",
       "545        30  68   15         2  \n",
       "546        29  73  128         3  \n",
       "547        30  58  132         0  \n",
       "548        30  58  140         0  \n",
       "\n",
       "[549 rows x 7 columns]"
      ]
     },
     "execution_count": 27,
     "metadata": {},
     "output_type": "execute_result"
    }
   ],
   "source": [
    "unique_values = df1['race'].unique()\n",
    "\n",
    "print(\"Unique values in 'edu' column:\", unique_values)\n",
    "df"
   ]
  },
  {
   "cell_type": "code",
   "execution_count": 28,
   "id": "3785fdd1",
   "metadata": {
    "scrolled": true
   },
   "outputs": [
    {
     "name": "stdout",
     "output_type": "stream",
     "text": [
      "    MSS Score mms\n",
      "0          25  25\n",
      "1          15  22\n",
      "2          19  22\n",
      "3          18  18\n",
      "4          11  18\n",
      "..        ...  ..\n",
      "544        30  30\n",
      "545        27  27\n",
      "546        26  26\n",
      "547        na  26\n",
      "548        29  29\n",
      "\n",
      "[549 rows x 2 columns]\n"
     ]
    }
   ],
   "source": [
    "selected_cols = df1[['MSS Score', 'mms']]\n",
    "\n",
    "print(selected_cols)"
   ]
  },
  {
   "cell_type": "code",
   "execution_count": 29,
   "id": "7136a743",
   "metadata": {
    "scrolled": false
   },
   "outputs": [
    {
     "name": "stderr",
     "output_type": "stream",
     "text": [
      "C:\\Users\\kaiso\\AppData\\Local\\Temp\\ipykernel_7832\\2174309227.py:5: SettingWithCopyWarning: \n",
      "A value is trying to be set on a copy of a slice from a DataFrame.\n",
      "Try using .loc[row_indexer,col_indexer] = value instead\n",
      "\n",
      "See the caveats in the documentation: https://pandas.pydata.org/pandas-docs/stable/user_guide/indexing.html#returning-a-view-versus-a-copy\n",
      "  df['Transcript'] = df['Transcript'].str.replace('gram', '')\n"
     ]
    },
    {
     "data": {
      "text/html": [
       "<div>\n",
       "<style scoped>\n",
       "    .dataframe tbody tr th:only-of-type {\n",
       "        vertical-align: middle;\n",
       "    }\n",
       "\n",
       "    .dataframe tbody tr th {\n",
       "        vertical-align: top;\n",
       "    }\n",
       "\n",
       "    .dataframe thead th {\n",
       "        text-align: right;\n",
       "    }\n",
       "</style>\n",
       "<table border=\"1\" class=\"dataframe tex2jax_ignore\">\n",
       "  <thead>\n",
       "    <tr style=\"text-align: right;\">\n",
       "      <th></th>\n",
       "      <th>File Name</th>\n",
       "      <th>Transcript</th>\n",
       "      <th>MSS Score</th>\n",
       "      <th>Age</th>\n",
       "      <th>id</th>\n",
       "      <th>Meet Num</th>\n",
       "      <th>basedx</th>\n",
       "      <th>dx2</th>\n",
       "      <th>onsetage</th>\n",
       "      <th>sex</th>\n",
       "      <th>race</th>\n",
       "      <th>educ</th>\n",
       "    </tr>\n",
       "  </thead>\n",
       "  <tbody>\n",
       "    <tr>\n",
       "      <th>0</th>\n",
       "      <td>711-0.cha</td>\n",
       "      <td>oh  you want me to tell you .    the mother and her two children .    and the children are getting in the cookie jar .  and shes doing the dishes and spilling the water .  and she had the spigot on .  and she didnt know it perhaps .  coughs pardon me .    and theyre looking out into the garden from the kitchen window .  its open .  and the  cookies must be pretty good theyre eating .  the chair  pwret   the stool and  the lady  the mothers splashing her shoes and and theres   a window and curtains on the window .  and I can see some trees outside there .  and  and theres dishes that h had been washed .  and shes drying them .  and theres some shrub out there and ...</td>\n",
       "      <td>25</td>\n",
       "      <td>77</td>\n",
       "      <td>711</td>\n",
       "      <td>0.0</td>\n",
       "      <td>2</td>\n",
       "      <td>-2</td>\n",
       "      <td>76</td>\n",
       "      <td>1</td>\n",
       "      <td>1</td>\n",
       "      <td>16</td>\n",
       "    </tr>\n",
       "    <tr>\n",
       "      <th>1</th>\n",
       "      <td>007-3.cha</td>\n",
       "      <td>well the girl is telling the boy to get the cookies down but dont and the boy is also falling over off the stool .  and the mother is letting the water run outof the sink .  and shes drying dishes .  I dont quite get that but then  ...     she has water on the floor and  and basically its kindof everythings going haywire .  she needs to turn off the water .  if she turned off the water shed be a hundred percent better off .</td>\n",
       "      <td>15</td>\n",
       "      <td>75</td>\n",
       "      <td>7</td>\n",
       "      <td>3.0</td>\n",
       "      <td>1</td>\n",
       "      <td>730</td>\n",
       "      <td>63</td>\n",
       "      <td>0</td>\n",
       "      <td>1</td>\n",
       "      <td>14</td>\n",
       "    </tr>\n",
       "    <tr>\n",
       "      <th>2</th>\n",
       "      <td>007-1.cha</td>\n",
       "      <td>.   can I look at it and tell you ?     oh okay .    well theres a girl and a boy and the boys in the cookie jar .  and hes standing on a stool thats tipping over .  and hes in the kitchen .  and the mothers in the kitchen running the water at the sink .  and the waters running over and its all over the floor .  and there are curtains at the windows .  and there are cups and a plate on the  pantry .  and   the  the  outside the window theres a path and there are curtains there .  and  thats about all there .</td>\n",
       "      <td>19</td>\n",
       "      <td>73</td>\n",
       "      <td>7</td>\n",
       "      <td>1.0</td>\n",
       "      <td>1</td>\n",
       "      <td>730</td>\n",
       "      <td>63</td>\n",
       "      <td>0</td>\n",
       "      <td>1</td>\n",
       "      <td>14</td>\n",
       "    </tr>\n",
       "    <tr>\n",
       "      <th>3</th>\n",
       "      <td>001-0.cha</td>\n",
       "      <td>mhm .     alright .    theres  a young boy thats getting a cookie jar .  and it  hes  in bad shape because  the thing is and in the picture the mother is washing dishes and doesnt see and so is the  the water is overflowing in the sink .  and the dishes might get falled  ed over if you dont  and it  there  its a picture of a kitchen window .  and the curtains are very  distinct .  but the water is flow still flowing .</td>\n",
       "      <td>18</td>\n",
       "      <td>57</td>\n",
       "      <td>1</td>\n",
       "      <td>0.0</td>\n",
       "      <td>1</td>\n",
       "      <td>NaN</td>\n",
       "      <td>54</td>\n",
       "      <td>1</td>\n",
       "      <td>1</td>\n",
       "      <td>14</td>\n",
       "    </tr>\n",
       "    <tr>\n",
       "      <th>4</th>\n",
       "      <td>001-2.cha</td>\n",
       "      <td>mhm .  theres a young boy  going in a cookie jar .  and theres a  lit a girl  young girl .  and Im saying hes a boy because you can  rd its  and hes  hes in the   cookie jar .  and theres a  stool that he is on and it already is starting to and so is the water in the sink  is ev overflowing in the sink hm I  I dont know about the  this hickey here I   like it  the wife or g Imean   the  the and shes     h she has   has .  oh  I  I cant think of the ...  she has  the shes trying to wipe   wipe dishes .  oh  and stop the water from going out .</td>\n",
       "      <td>11</td>\n",
       "      <td>59</td>\n",
       "      <td>1</td>\n",
       "      <td>2.0</td>\n",
       "      <td>1</td>\n",
       "      <td>NaN</td>\n",
       "      <td>54</td>\n",
       "      <td>1</td>\n",
       "      <td>1</td>\n",
       "      <td>14</td>\n",
       "    </tr>\n",
       "  </tbody>\n",
       "</table>\n",
       "</div>"
      ],
      "text/plain": [
       "   File Name  \\\n",
       "0  711-0.cha   \n",
       "1  007-3.cha   \n",
       "2  007-1.cha   \n",
       "3  001-0.cha   \n",
       "4  001-2.cha   \n",
       "\n",
       "                                                                                                                                                                                                                                                                                                                                                                                                                                                                                                                                                                                                                                                                                              Transcript  \\\n",
       "0  oh  you want me to tell you .    the mother and her two children .    and the children are getting in the cookie jar .  and shes doing the dishes and spilling the water .  and she had the spigot on .  and she didnt know it perhaps .  coughs pardon me .    and theyre looking out into the garden from the kitchen window .  its open .  and the  cookies must be pretty good theyre eating .  the chair  pwret   the stool and  the lady  the mothers splashing her shoes and and theres   a window and curtains on the window .  and I can see some trees outside there .  and  and theres dishes that h had been washed .  and shes drying them .  and theres some shrub out there and ...      \n",
       "1                                                                                                                                                                                                                                                          well the girl is telling the boy to get the cookies down but dont and the boy is also falling over off the stool .  and the mother is letting the water run outof the sink .  and shes drying dishes .  I dont quite get that but then  ...     she has water on the floor and  and basically its kindof everythings going haywire .  she needs to turn off the water .  if she turned off the water shed be a hundred percent better off .     \n",
       "2                                                                                                                                                                 .   can I look at it and tell you ?     oh okay .    well theres a girl and a boy and the boys in the cookie jar .  and hes standing on a stool thats tipping over .  and hes in the kitchen .  and the mothers in the kitchen running the water at the sink .  and the waters running over and its all over the floor .  and there are curtains at the windows .  and there are cups and a plate on the  pantry .  and   the  the  outside the window theres a path and there are curtains there .  and  thats about all there .        \n",
       "3                                                                                                                                                                                                                                                               mhm .     alright .    theres  a young boy thats getting a cookie jar .  and it  hes  in bad shape because  the thing is and in the picture the mother is washing dishes and doesnt see and so is the  the water is overflowing in the sink .  and the dishes might get falled  ed over if you dont  and it  there  its a picture of a kitchen window .  and the curtains are very  distinct .  but the water is flow still flowing .      \n",
       "4                                                                                                                                 mhm .  theres a young boy  going in a cookie jar .  and theres a  lit a girl  young girl .  and Im saying hes a boy because you can  rd its  and hes  hes in the   cookie jar .  and theres a  stool that he is on and it already is starting to and so is the water in the sink  is ev overflowing in the sink hm I  I dont know about the  this hickey here I   like it  the wife or g Imean   the  the and shes     h she has   has .  oh  I  I cant think of the ...  she has  the shes trying to wipe   wipe dishes .  oh  and stop the water from going out .      \n",
       "\n",
       "  MSS Score Age   id  Meet Num basedx  dx2 onsetage sex race  educ  \n",
       "0        25  77  711       0.0      2   -2       76   1    1    16  \n",
       "1        15  75    7       3.0      1  730       63   0    1    14  \n",
       "2        19  73    7       1.0      1  730       63   0    1    14  \n",
       "3        18  57    1       0.0      1  NaN       54   1    1    14  \n",
       "4        11  59    1       2.0      1  NaN       54   1    1    14  "
      ]
     },
     "execution_count": 29,
     "metadata": {},
     "output_type": "execute_result"
    }
   ],
   "source": [
    "df1 = df1.dropna(subset=['File Name'])\n",
    "columns_to_keep = ['File Name', 'id', 'Transcript', 'MSS Score', 'Age', 'educ', 'sex','race', 'onsetage', 'basedx', 'dx2','Meet Num']\n",
    "\n",
    "df = df1[df1.columns.intersection(columns_to_keep)]\n",
    "df['Transcript'] = df['Transcript'].str.replace('gram', '')\n",
    "df.head()"
   ]
  },
  {
   "cell_type": "code",
   "execution_count": 30,
   "id": "5bd3a3a3",
   "metadata": {
    "scrolled": false
   },
   "outputs": [
    {
     "name": "stdout",
     "output_type": "stream",
     "text": [
      "No rows with the same id found.\n",
      "\n",
      "DataFrame after reindexing:\n",
      "   File Name  \\\n",
      "0  001-2.cha   \n",
      "1  010-4.cha   \n",
      "2  105-2.cha   \n",
      "3  107-2.cha   \n",
      "4  109-4.cha   \n",
      "\n",
      "                                                                                                                                                                                                                                                                                                                                                                                                                                                                                                                                                                                                                       Transcript  \\\n",
      "0                                                          mhm .  theres a young boy  going in a cookie jar .  and theres a  lit a girl  young girl .  and Im saying hes a boy because you can  rd its  and hes  hes in the   cookie jar .  and theres a  stool that he is on and it already is starting to and so is the water in the sink  is ev overflowing in the sink hm I  I dont know about the  this hickey here I   like it  the wife or g Imean   the  the and shes     h she has   has .  oh  I  I cant think of the ...  she has  the shes trying to wipe   wipe dishes .  oh  and stop the water from going out .      \n",
      "1                                                                                                                                                                                                                                                                                                                                                    kids are trying to get a       ...  its full of  its full of  mistakes .  its full of mistakes .  its full of mistakes .  hes changing  surret  taking cookie jar . thats all .    the mothers just drying the dishes .  n n n n n n   n   from the from  .  this is  ...      \n",
      "2  what do I tell you when I see it ?     as I see it ?     is there something going on here or  ..?    oh its just ...    well the first bad thing I see is the water running outof the and the little boy up stealing cookies and giving one to his and mamas drying the dishes and standing in the water .  shes looking the other direction .  and the little boys falling off the stool  standing up on hes gonna get hurt . when he hits that sink .   like an airplane going crazy .    hmhunh no .    . you can see out the window . out into the yard .  and you can see  a window over there on the other side of the     \n",
      "3                                                                                                                                                                                                                                                                                                                                                              a girls reaching for a cookie .  the boys taking a cookie outof the cookie jar .  the bench is tumbling .  the sink is running over water .  the mothers wiping the plate .  shes also looking out the window .  and shes standing in water .  and thats it .        \n",
      "4                    the boy is taking  cookies .   the girl is  is saying .   quiet .  hes  hes  the boy is falling off the stool .   the mother is drying dishes .  the water is running over the sink .   the curtains are blowing in the breeze .   hm  hm  hm .    the girl is putting her hand up to have him pass the cookies .   shes drying the dishes .  the waters running over .  its splashing on the floor .  . well the windows open but thats not action .  thats the curtain blowing right ?    I guess thats it .    hes passing her the cookies .  did I say that ?    and hes taking them out of the jar .      \n",
      "\n",
      "  MSS Score Age   id  Meet Num basedx  dx2 onsetage sex race  educ  \n",
      "0        11  59    1       2.0      1  NaN       54   1    1    14  \n",
      "1        na  70   10       4.0      1  730       63   1    1    12  \n",
      "2        na  58  105       2.0      8   -2       56   0    1    20  \n",
      "3        na  59  107       2.0      8   -2       57   1    2    12  \n",
      "4        30  64  109       4.0      8   -2       60   0    1    12  \n"
     ]
    }
   ],
   "source": [
    "df = df.sort_values(by=['id', 'Meet Num'], ascending=[True, False])\n",
    "df = df.drop_duplicates(subset='id', keep='first')\n",
    "df = df.reset_index(drop=True)\n",
    "\n",
    "duplicated_ids = df[df.duplicated(subset='id', keep=False)]\n",
    "\n",
    "if not duplicated_ids.empty:\n",
    "    print(\"Rows with the same id found:\")\n",
    "    print(duplicated_ids)\n",
    "else:\n",
    "    print(\"No rows with the same id found.\")\n",
    "\n",
    "print(\"\\nDataFrame after reindexing:\")\n",
    "print(df.head())"
   ]
  },
  {
   "cell_type": "code",
   "execution_count": 31,
   "id": "d3b53a0f",
   "metadata": {
    "scrolled": false
   },
   "outputs": [
    {
     "name": "stdout",
     "output_type": "stream",
     "text": [
      "Unique values in 'edu' column: ['1' '10' '105' '107' '109' '113' '114' '118' '120' '121' '122' '124'\n",
      " '125' '127' '128' '129' '13' '130' '132' '134' '137' '138' '139' '14'\n",
      " '140' '141' '142' '143' '144' '145' '146' '148' '15' '150' '154' '155'\n",
      " '157' '158' '16' '164' '166' '167' '168' '17' '171' '172' '173' '175'\n",
      " '178' '18' '181' '182' '183' '184' '192' '196' '2' '203' '205' '206'\n",
      " '207' '208' '209' '21' '210' '211' '212' '213' '216' '218' '22' '220'\n",
      " '221' '222' '223' '225' '226' '227' '229' '23' '232' '234' '235' '236'\n",
      " '237' '238' '24' '242' '243' '244' '245' '247' '248' '252' '255' '256'\n",
      " '257' '260' '264' '266' '267' '268' '269' '270' '271' '274' '275' '276'\n",
      " '279' '28' '280' '282' '283' '289' '29' '291' '292' '293' '295' '296'\n",
      " '297' '298' '299' '3' '30' '302' '304' '306' '310' '311' '318' '319'\n",
      " '322' '323' '325' '329' '33' '332' '334' '336' '337' '338' '339' '34'\n",
      " '340' '341' '342' '343' '344' '346' '349' '35' '350' '354' '355' '356'\n",
      " '357' '358' '360' '361' '362' '368' '369' '381' '39' '42' '43' '45' '450'\n",
      " '458' '46' '461' '465' '466' '468' '470' '471' '472' '474' '476' '488'\n",
      " '49' '492' '493' '497' '5' '50' '504' '506' '508' '51' '511' '515' '52'\n",
      " '526' '527' '528' '529' '53' '530' '539' '54' '544' '55' '551' '559' '56'\n",
      " '562' '563' '57' '573' '578' '579' '58' '580' '581' '585' '587' '59'\n",
      " '591' '592' '594' '595' '598' '6' '601' '607' '609' '61' '610' '612'\n",
      " '615' '62' '620' '624' '627' '631' '635' '636' '639' '640' '642' '648'\n",
      " '65' '650' '651' '656' '657' '66' '660' '661' '663' '668' '67' '672'\n",
      " '674' '676' '678' '68' '681' '684' '686' '688' '689' '690' '691' '695'\n",
      " '698' '7' '70' '702' '703' '704' '705' '707' '709' '71' '711' '714' '73'\n",
      " '76' '78' '86' '87' '89' '91' '92' '93' '94' '96' '97']\n"
     ]
    }
   ],
   "source": [
    "unique_values = df['id'].unique()\n",
    "print(\"Unique values in 'edu' column:\", unique_values)"
   ]
  },
  {
   "cell_type": "code",
   "execution_count": 32,
   "id": "5b0b56c7",
   "metadata": {},
   "outputs": [
    {
     "name": "stdout",
     "output_type": "stream",
     "text": [
      "Unique values in 'basedx' column: ['1' '8' '6' '3' '2' '5' '7' '4']\n"
     ]
    }
   ],
   "source": [
    "unique_values_basedx = df['basedx'].unique()\n",
    "print(\"Unique values in 'basedx' column:\", unique_values_basedx)"
   ]
  },
  {
   "cell_type": "code",
   "execution_count": 33,
   "id": "cbe8a231",
   "metadata": {},
   "outputs": [
    {
     "name": "stdout",
     "output_type": "stream",
     "text": [
      "Number of rows with 'basedx' equal to 8: 99\n"
     ]
    }
   ],
   "source": [
    "#CONTROL\n",
    "\n",
    "df['basedx'] = df['basedx'].astype(str).str.strip()\n",
    "num_rows_with_8 = (df['basedx'] == '8').sum()\n",
    "\n",
    "print(\"Number of rows with 'basedx' equal to 8:\", num_rows_with_8)"
   ]
  },
  {
   "cell_type": "code",
   "execution_count": 34,
   "id": "3f1ac5a6",
   "metadata": {},
   "outputs": [
    {
     "name": "stdout",
     "output_type": "stream",
     "text": [
      "Number of rows with 'basedx' equal to 1: 146\n"
     ]
    }
   ],
   "source": [
    "df['basedx'] = df['basedx'].astype(str).str.strip()\n",
    "num_rows_with_8 = (df['basedx'] == '1').sum()\n",
    "\n",
    "print(\"Number of rows with 'basedx' equal to 1:\", num_rows_with_8)"
   ]
  },
  {
   "cell_type": "code",
   "execution_count": 35,
   "id": "703da35a",
   "metadata": {},
   "outputs": [
    {
     "name": "stdout",
     "output_type": "stream",
     "text": [
      "Number of rows with 'basedx' equal to 6: 14\n"
     ]
    }
   ],
   "source": [
    "df['basedx'] = df['basedx'].astype(str).str.strip()\n",
    "num_rows_with_8 = (df['basedx'] == '6').sum()\n",
    "\n",
    "print(\"Number of rows with 'basedx' equal to 6:\", num_rows_with_8)"
   ]
  },
  {
   "cell_type": "code",
   "execution_count": 36,
   "id": "29ba6f9b",
   "metadata": {},
   "outputs": [
    {
     "name": "stdout",
     "output_type": "stream",
     "text": [
      "Number of rows with 'basedx' equal to 3: 4\n"
     ]
    }
   ],
   "source": [
    "df['basedx'] = df['basedx'].astype(str).str.strip()\n",
    "num_rows_with_8 = (df['basedx'] == '3').sum()\n",
    "\n",
    "print(\"Number of rows with 'basedx' equal to 3:\", num_rows_with_8)"
   ]
  },
  {
   "cell_type": "code",
   "execution_count": 37,
   "id": "9955ed23",
   "metadata": {},
   "outputs": [
    {
     "name": "stdout",
     "output_type": "stream",
     "text": [
      "Number of rows with 'basedx' equal to 2: 21\n"
     ]
    }
   ],
   "source": [
    "df['basedx'] = df['basedx'].astype(str).str.strip()\n",
    "num_rows_with_8 = (df['basedx'] == '2').sum()\n",
    "\n",
    "print(\"Number of rows with 'basedx' equal to 2:\", num_rows_with_8)"
   ]
  },
  {
   "cell_type": "code",
   "execution_count": 38,
   "id": "96bb242d",
   "metadata": {},
   "outputs": [
    {
     "name": "stdout",
     "output_type": "stream",
     "text": [
      "Number of rows with 'basedx' equal to 5: 5\n"
     ]
    }
   ],
   "source": [
    "df['basedx'] = df['basedx'].astype(str).str.strip()\n",
    "num_rows_with_8 = (df['basedx'] == '5').sum()\n",
    "\n",
    "print(\"Number of rows with 'basedx' equal to 5:\", num_rows_with_8)"
   ]
  },
  {
   "cell_type": "code",
   "execution_count": 39,
   "id": "3369e716",
   "metadata": {},
   "outputs": [
    {
     "name": "stdout",
     "output_type": "stream",
     "text": [
      "Number of rows with 'basedx' equal to 7: 1\n"
     ]
    }
   ],
   "source": [
    "df['basedx'] = df['basedx'].astype(str).str.strip()\n",
    "num_rows_with_8 = (df['basedx'] == '7').sum()\n",
    "\n",
    "print(\"Number of rows with 'basedx' equal to 7:\", num_rows_with_8)"
   ]
  },
  {
   "cell_type": "code",
   "execution_count": 40,
   "id": "2493b5de",
   "metadata": {},
   "outputs": [
    {
     "name": "stdout",
     "output_type": "stream",
     "text": [
      "Number of rows with 'basedx' equal to 4: 1\n"
     ]
    }
   ],
   "source": [
    "df['basedx'] = df['basedx'].astype(str).str.strip()\n",
    "num_rowswith_8 = (df['basedx'] == '4').sum()\n",
    "\n",
    "print(\"Number of rows with 'basedx' equal to 4:\", num_rows_with_8)"
   ]
  },
  {
   "cell_type": "code",
   "execution_count": 41,
   "id": "a0ff5f2e",
   "metadata": {},
   "outputs": [
    {
     "name": "stdout",
     "output_type": "stream",
     "text": [
      "Number of rows with 'edu' column value less than 10: 1\n"
     ]
    }
   ],
   "source": [
    "df1['basedx'] = df1['basedx'].astype(int)\n",
    "count = df1[df1['basedx'] == 7].shape[0]\n",
    "\n",
    "print(\"Number of rows with 'edu' column value less than 10:\", count)"
   ]
  },
  {
   "cell_type": "code",
   "execution_count": 42,
   "id": "44098813",
   "metadata": {},
   "outputs": [],
   "source": [
    "#Total word count\n",
    "def count_total_words(sentence):\n",
    "    if isinstance(sentence, str):\n",
    "        \n",
    "        words = sentence.split()\n",
    "        return len(words)\n",
    "    else:\n",
    "        return 0  \n",
    "\n",
    "df['Total Word Count'] = df['Transcript'].apply(count_total_words)\n",
    "\n",
    "#Unique words\n",
    "\n",
    "def count_unique_words(text):\n",
    "    words = text.split()\n",
    "    word_counts = Counter(words)\n",
    "    unique_word_count = sum(1 for word, count in word_counts.items() if count == 1)\n",
    "    return unique_word_count\n",
    "df['Unique_Word_Count'] = df['Transcript'].apply(count_unique_words)\n",
    "#TTR\n",
    "\n",
    "df['TTR'] = df['Unique_Word_Count']/df['Total Word Count']"
   ]
  },
  {
   "cell_type": "code",
   "execution_count": 43,
   "id": "3fb17972",
   "metadata": {},
   "outputs": [
    {
     "data": {
      "text/html": [
       "<div>\n",
       "<style scoped>\n",
       "    .dataframe tbody tr th:only-of-type {\n",
       "        vertical-align: middle;\n",
       "    }\n",
       "\n",
       "    .dataframe tbody tr th {\n",
       "        vertical-align: top;\n",
       "    }\n",
       "\n",
       "    .dataframe thead th {\n",
       "        text-align: right;\n",
       "    }\n",
       "</style>\n",
       "<table border=\"1\" class=\"dataframe tex2jax_ignore\">\n",
       "  <thead>\n",
       "    <tr style=\"text-align: right;\">\n",
       "      <th></th>\n",
       "      <th>File Name</th>\n",
       "      <th>Transcript</th>\n",
       "      <th>MSS Score</th>\n",
       "      <th>Age</th>\n",
       "      <th>id</th>\n",
       "      <th>Meet Num</th>\n",
       "      <th>basedx</th>\n",
       "      <th>dx2</th>\n",
       "      <th>onsetage</th>\n",
       "      <th>sex</th>\n",
       "      <th>race</th>\n",
       "      <th>educ</th>\n",
       "      <th>Total Word Count</th>\n",
       "      <th>Unique_Word_Count</th>\n",
       "      <th>TTR</th>\n",
       "    </tr>\n",
       "  </thead>\n",
       "  <tbody>\n",
       "    <tr>\n",
       "      <th>0</th>\n",
       "      <td>001-2.cha</td>\n",
       "      <td>mhm .  theres a young boy  going in a cookie jar .  and theres a  lit a girl  young girl .  and Im saying hes a boy because you can  rd its  and hes  hes in the   cookie jar .  and theres a  stool that he is on and it already is starting to and so is the water in the sink  is ev overflowing in the sink hm I  I dont know about the  this hickey here I   like it  the wife or g Imean   the  the and shes     h she has   has .  oh  I  I cant think of the ...  she has  the shes trying to wipe   wipe dishes .  oh  and stop the water from going out .</td>\n",
       "      <td>11</td>\n",
       "      <td>59</td>\n",
       "      <td>1</td>\n",
       "      <td>2.0</td>\n",
       "      <td>1</td>\n",
       "      <td>NaN</td>\n",
       "      <td>54</td>\n",
       "      <td>1</td>\n",
       "      <td>1</td>\n",
       "      <td>14</td>\n",
       "      <td>122</td>\n",
       "      <td>40</td>\n",
       "      <td>0.327869</td>\n",
       "    </tr>\n",
       "    <tr>\n",
       "      <th>1</th>\n",
       "      <td>010-4.cha</td>\n",
       "      <td>kids are trying to get a       ...  its full of  its full of  mistakes .  its full of mistakes .  its full of mistakes .  hes changing  surret  taking cookie jar . thats all .    the mothers just drying the dishes .  n n n n n n   n   from the from  .  this is  ...</td>\n",
       "      <td>na</td>\n",
       "      <td>70</td>\n",
       "      <td>10</td>\n",
       "      <td>4.0</td>\n",
       "      <td>1</td>\n",
       "      <td>730</td>\n",
       "      <td>63</td>\n",
       "      <td>1</td>\n",
       "      <td>1</td>\n",
       "      <td>12</td>\n",
       "      <td>56</td>\n",
       "      <td>20</td>\n",
       "      <td>0.357143</td>\n",
       "    </tr>\n",
       "    <tr>\n",
       "      <th>2</th>\n",
       "      <td>105-2.cha</td>\n",
       "      <td>what do I tell you when I see it ?     as I see it ?     is there something going on here or  ..?    oh its just ...    well the first bad thing I see is the water running outof the and the little boy up stealing cookies and giving one to his and mamas drying the dishes and standing in the water .  shes looking the other direction .  and the little boys falling off the stool  standing up on hes gonna get hurt . when he hits that sink .   like an airplane going crazy .    hmhunh no .    . you can see out the window . out into the yard .  and you can see  a window over there on the other side of the</td>\n",
       "      <td>na</td>\n",
       "      <td>58</td>\n",
       "      <td>105</td>\n",
       "      <td>2.0</td>\n",
       "      <td>8</td>\n",
       "      <td>-2</td>\n",
       "      <td>56</td>\n",
       "      <td>0</td>\n",
       "      <td>1</td>\n",
       "      <td>20</td>\n",
       "      <td>127</td>\n",
       "      <td>56</td>\n",
       "      <td>0.440945</td>\n",
       "    </tr>\n",
       "    <tr>\n",
       "      <th>3</th>\n",
       "      <td>107-2.cha</td>\n",
       "      <td>a girls reaching for a cookie .  the boys taking a cookie outof the cookie jar .  the bench is tumbling .  the sink is running over water .  the mothers wiping the plate .  shes also looking out the window .  and shes standing in water .  and thats it .</td>\n",
       "      <td>na</td>\n",
       "      <td>59</td>\n",
       "      <td>107</td>\n",
       "      <td>2.0</td>\n",
       "      <td>8</td>\n",
       "      <td>-2</td>\n",
       "      <td>57</td>\n",
       "      <td>1</td>\n",
       "      <td>2</td>\n",
       "      <td>12</td>\n",
       "      <td>52</td>\n",
       "      <td>23</td>\n",
       "      <td>0.442308</td>\n",
       "    </tr>\n",
       "    <tr>\n",
       "      <th>4</th>\n",
       "      <td>109-4.cha</td>\n",
       "      <td>the boy is taking  cookies .   the girl is  is saying .   quiet .  hes  hes  the boy is falling off the stool .   the mother is drying dishes .  the water is running over the sink .   the curtains are blowing in the breeze .   hm  hm  hm .    the girl is putting her hand up to have him pass the cookies .   shes drying the dishes .  the waters running over .  its splashing on the floor .  . well the windows open but thats not action .  thats the curtain blowing right ?    I guess thats it .    hes passing her the cookies .  did I say that ?    and hes taking them out of the jar .</td>\n",
       "      <td>30</td>\n",
       "      <td>64</td>\n",
       "      <td>109</td>\n",
       "      <td>4.0</td>\n",
       "      <td>8</td>\n",
       "      <td>-2</td>\n",
       "      <td>60</td>\n",
       "      <td>0</td>\n",
       "      <td>1</td>\n",
       "      <td>12</td>\n",
       "      <td>121</td>\n",
       "      <td>44</td>\n",
       "      <td>0.363636</td>\n",
       "    </tr>\n",
       "  </tbody>\n",
       "</table>\n",
       "</div>"
      ],
      "text/plain": [
       "   File Name  \\\n",
       "0  001-2.cha   \n",
       "1  010-4.cha   \n",
       "2  105-2.cha   \n",
       "3  107-2.cha   \n",
       "4  109-4.cha   \n",
       "\n",
       "                                                                                                                                                                                                                                                                                                                                                                                                                                                                                                                                                                                                                       Transcript  \\\n",
       "0                                                          mhm .  theres a young boy  going in a cookie jar .  and theres a  lit a girl  young girl .  and Im saying hes a boy because you can  rd its  and hes  hes in the   cookie jar .  and theres a  stool that he is on and it already is starting to and so is the water in the sink  is ev overflowing in the sink hm I  I dont know about the  this hickey here I   like it  the wife or g Imean   the  the and shes     h she has   has .  oh  I  I cant think of the ...  she has  the shes trying to wipe   wipe dishes .  oh  and stop the water from going out .      \n",
       "1                                                                                                                                                                                                                                                                                                                                                    kids are trying to get a       ...  its full of  its full of  mistakes .  its full of mistakes .  its full of mistakes .  hes changing  surret  taking cookie jar . thats all .    the mothers just drying the dishes .  n n n n n n   n   from the from  .  this is  ...      \n",
       "2  what do I tell you when I see it ?     as I see it ?     is there something going on here or  ..?    oh its just ...    well the first bad thing I see is the water running outof the and the little boy up stealing cookies and giving one to his and mamas drying the dishes and standing in the water .  shes looking the other direction .  and the little boys falling off the stool  standing up on hes gonna get hurt . when he hits that sink .   like an airplane going crazy .    hmhunh no .    . you can see out the window . out into the yard .  and you can see  a window over there on the other side of the     \n",
       "3                                                                                                                                                                                                                                                                                                                                                              a girls reaching for a cookie .  the boys taking a cookie outof the cookie jar .  the bench is tumbling .  the sink is running over water .  the mothers wiping the plate .  shes also looking out the window .  and shes standing in water .  and thats it .        \n",
       "4                    the boy is taking  cookies .   the girl is  is saying .   quiet .  hes  hes  the boy is falling off the stool .   the mother is drying dishes .  the water is running over the sink .   the curtains are blowing in the breeze .   hm  hm  hm .    the girl is putting her hand up to have him pass the cookies .   shes drying the dishes .  the waters running over .  its splashing on the floor .  . well the windows open but thats not action .  thats the curtain blowing right ?    I guess thats it .    hes passing her the cookies .  did I say that ?    and hes taking them out of the jar .      \n",
       "\n",
       "  MSS Score Age   id  Meet Num basedx  dx2 onsetage sex race  educ  \\\n",
       "0        11  59    1       2.0      1  NaN       54   1    1    14   \n",
       "1        na  70   10       4.0      1  730       63   1    1    12   \n",
       "2        na  58  105       2.0      8   -2       56   0    1    20   \n",
       "3        na  59  107       2.0      8   -2       57   1    2    12   \n",
       "4        30  64  109       4.0      8   -2       60   0    1    12   \n",
       "\n",
       "   Total Word Count  Unique_Word_Count       TTR  \n",
       "0               122                 40  0.327869  \n",
       "1                56                 20  0.357143  \n",
       "2               127                 56  0.440945  \n",
       "3                52                 23  0.442308  \n",
       "4               121                 44  0.363636  "
      ]
     },
     "execution_count": 43,
     "metadata": {},
     "output_type": "execute_result"
    }
   ],
   "source": [
    "df.head()"
   ]
  },
  {
   "cell_type": "code",
   "execution_count": 44,
   "id": "acb4a784",
   "metadata": {},
   "outputs": [],
   "source": [
    "df = df[df['basedx'].isin(['1', '8'])]\n",
    "\n",
    "df.reset_index(drop=True, inplace=True)"
   ]
  },
  {
   "cell_type": "code",
   "execution_count": 45,
   "id": "c2b8ffdd",
   "metadata": {
    "scrolled": false
   },
   "outputs": [
    {
     "data": {
      "text/html": [
       "<div>\n",
       "<style scoped>\n",
       "    .dataframe tbody tr th:only-of-type {\n",
       "        vertical-align: middle;\n",
       "    }\n",
       "\n",
       "    .dataframe tbody tr th {\n",
       "        vertical-align: top;\n",
       "    }\n",
       "\n",
       "    .dataframe thead th {\n",
       "        text-align: right;\n",
       "    }\n",
       "</style>\n",
       "<table border=\"1\" class=\"dataframe tex2jax_ignore\">\n",
       "  <thead>\n",
       "    <tr style=\"text-align: right;\">\n",
       "      <th></th>\n",
       "      <th>File Name</th>\n",
       "      <th>Transcript</th>\n",
       "      <th>MSS Score</th>\n",
       "      <th>Age</th>\n",
       "      <th>id</th>\n",
       "      <th>Meet Num</th>\n",
       "      <th>basedx</th>\n",
       "      <th>dx2</th>\n",
       "      <th>onsetage</th>\n",
       "      <th>sex</th>\n",
       "      <th>race</th>\n",
       "      <th>educ</th>\n",
       "      <th>Total Word Count</th>\n",
       "      <th>Unique_Word_Count</th>\n",
       "      <th>TTR</th>\n",
       "    </tr>\n",
       "  </thead>\n",
       "  <tbody>\n",
       "    <tr>\n",
       "      <th>0</th>\n",
       "      <td>001-2.cha</td>\n",
       "      <td>mhm .  theres a young boy  going in a cookie jar .  and theres a  lit a girl  young girl .  and Im saying hes a boy because you can  rd its  and hes  hes in the   cookie jar .  and theres a  stool that he is on and it already is starting to and so is the water in the sink  is ev overflowing in the sink hm I  I dont know about the  this hickey here I   like it  the wife or g Imean   the  the and shes     h she has   has .  oh  I  I cant think of the ...  she has  the shes trying to wipe   wipe dishes .  oh  and stop the water from going out .</td>\n",
       "      <td>11</td>\n",
       "      <td>59</td>\n",
       "      <td>1</td>\n",
       "      <td>2.0</td>\n",
       "      <td>1</td>\n",
       "      <td>NaN</td>\n",
       "      <td>54</td>\n",
       "      <td>1</td>\n",
       "      <td>1</td>\n",
       "      <td>14</td>\n",
       "      <td>122</td>\n",
       "      <td>40</td>\n",
       "      <td>0.327869</td>\n",
       "    </tr>\n",
       "    <tr>\n",
       "      <th>1</th>\n",
       "      <td>010-4.cha</td>\n",
       "      <td>kids are trying to get a       ...  its full of  its full of  mistakes .  its full of mistakes .  its full of mistakes .  hes changing  surret  taking cookie jar . thats all .    the mothers just drying the dishes .  n n n n n n   n   from the from  .  this is  ...</td>\n",
       "      <td>na</td>\n",
       "      <td>70</td>\n",
       "      <td>10</td>\n",
       "      <td>4.0</td>\n",
       "      <td>1</td>\n",
       "      <td>730</td>\n",
       "      <td>63</td>\n",
       "      <td>1</td>\n",
       "      <td>1</td>\n",
       "      <td>12</td>\n",
       "      <td>56</td>\n",
       "      <td>20</td>\n",
       "      <td>0.357143</td>\n",
       "    </tr>\n",
       "    <tr>\n",
       "      <th>2</th>\n",
       "      <td>105-2.cha</td>\n",
       "      <td>what do I tell you when I see it ?     as I see it ?     is there something going on here or  ..?    oh its just ...    well the first bad thing I see is the water running outof the and the little boy up stealing cookies and giving one to his and mamas drying the dishes and standing in the water .  shes looking the other direction .  and the little boys falling off the stool  standing up on hes gonna get hurt . when he hits that sink .   like an airplane going crazy .    hmhunh no .    . you can see out the window . out into the yard .  and you can see  a window over there on the other side of the</td>\n",
       "      <td>na</td>\n",
       "      <td>58</td>\n",
       "      <td>105</td>\n",
       "      <td>2.0</td>\n",
       "      <td>8</td>\n",
       "      <td>-2</td>\n",
       "      <td>56</td>\n",
       "      <td>0</td>\n",
       "      <td>1</td>\n",
       "      <td>20</td>\n",
       "      <td>127</td>\n",
       "      <td>56</td>\n",
       "      <td>0.440945</td>\n",
       "    </tr>\n",
       "    <tr>\n",
       "      <th>3</th>\n",
       "      <td>107-2.cha</td>\n",
       "      <td>a girls reaching for a cookie .  the boys taking a cookie outof the cookie jar .  the bench is tumbling .  the sink is running over water .  the mothers wiping the plate .  shes also looking out the window .  and shes standing in water .  and thats it .</td>\n",
       "      <td>na</td>\n",
       "      <td>59</td>\n",
       "      <td>107</td>\n",
       "      <td>2.0</td>\n",
       "      <td>8</td>\n",
       "      <td>-2</td>\n",
       "      <td>57</td>\n",
       "      <td>1</td>\n",
       "      <td>2</td>\n",
       "      <td>12</td>\n",
       "      <td>52</td>\n",
       "      <td>23</td>\n",
       "      <td>0.442308</td>\n",
       "    </tr>\n",
       "    <tr>\n",
       "      <th>4</th>\n",
       "      <td>109-4.cha</td>\n",
       "      <td>the boy is taking  cookies .   the girl is  is saying .   quiet .  hes  hes  the boy is falling off the stool .   the mother is drying dishes .  the water is running over the sink .   the curtains are blowing in the breeze .   hm  hm  hm .    the girl is putting her hand up to have him pass the cookies .   shes drying the dishes .  the waters running over .  its splashing on the floor .  . well the windows open but thats not action .  thats the curtain blowing right ?    I guess thats it .    hes passing her the cookies .  did I say that ?    and hes taking them out of the jar .</td>\n",
       "      <td>30</td>\n",
       "      <td>64</td>\n",
       "      <td>109</td>\n",
       "      <td>4.0</td>\n",
       "      <td>8</td>\n",
       "      <td>-2</td>\n",
       "      <td>60</td>\n",
       "      <td>0</td>\n",
       "      <td>1</td>\n",
       "      <td>12</td>\n",
       "      <td>121</td>\n",
       "      <td>44</td>\n",
       "      <td>0.363636</td>\n",
       "    </tr>\n",
       "  </tbody>\n",
       "</table>\n",
       "</div>"
      ],
      "text/plain": [
       "   File Name  \\\n",
       "0  001-2.cha   \n",
       "1  010-4.cha   \n",
       "2  105-2.cha   \n",
       "3  107-2.cha   \n",
       "4  109-4.cha   \n",
       "\n",
       "                                                                                                                                                                                                                                                                                                                                                                                                                                                                                                                                                                                                                       Transcript  \\\n",
       "0                                                          mhm .  theres a young boy  going in a cookie jar .  and theres a  lit a girl  young girl .  and Im saying hes a boy because you can  rd its  and hes  hes in the   cookie jar .  and theres a  stool that he is on and it already is starting to and so is the water in the sink  is ev overflowing in the sink hm I  I dont know about the  this hickey here I   like it  the wife or g Imean   the  the and shes     h she has   has .  oh  I  I cant think of the ...  she has  the shes trying to wipe   wipe dishes .  oh  and stop the water from going out .      \n",
       "1                                                                                                                                                                                                                                                                                                                                                    kids are trying to get a       ...  its full of  its full of  mistakes .  its full of mistakes .  its full of mistakes .  hes changing  surret  taking cookie jar . thats all .    the mothers just drying the dishes .  n n n n n n   n   from the from  .  this is  ...      \n",
       "2  what do I tell you when I see it ?     as I see it ?     is there something going on here or  ..?    oh its just ...    well the first bad thing I see is the water running outof the and the little boy up stealing cookies and giving one to his and mamas drying the dishes and standing in the water .  shes looking the other direction .  and the little boys falling off the stool  standing up on hes gonna get hurt . when he hits that sink .   like an airplane going crazy .    hmhunh no .    . you can see out the window . out into the yard .  and you can see  a window over there on the other side of the     \n",
       "3                                                                                                                                                                                                                                                                                                                                                              a girls reaching for a cookie .  the boys taking a cookie outof the cookie jar .  the bench is tumbling .  the sink is running over water .  the mothers wiping the plate .  shes also looking out the window .  and shes standing in water .  and thats it .        \n",
       "4                    the boy is taking  cookies .   the girl is  is saying .   quiet .  hes  hes  the boy is falling off the stool .   the mother is drying dishes .  the water is running over the sink .   the curtains are blowing in the breeze .   hm  hm  hm .    the girl is putting her hand up to have him pass the cookies .   shes drying the dishes .  the waters running over .  its splashing on the floor .  . well the windows open but thats not action .  thats the curtain blowing right ?    I guess thats it .    hes passing her the cookies .  did I say that ?    and hes taking them out of the jar .      \n",
       "\n",
       "  MSS Score Age   id  Meet Num basedx  dx2 onsetage sex race  educ  \\\n",
       "0        11  59    1       2.0      1  NaN       54   1    1    14   \n",
       "1        na  70   10       4.0      1  730       63   1    1    12   \n",
       "2        na  58  105       2.0      8   -2       56   0    1    20   \n",
       "3        na  59  107       2.0      8   -2       57   1    2    12   \n",
       "4        30  64  109       4.0      8   -2       60   0    1    12   \n",
       "\n",
       "   Total Word Count  Unique_Word_Count       TTR  \n",
       "0               122                 40  0.327869  \n",
       "1                56                 20  0.357143  \n",
       "2               127                 56  0.440945  \n",
       "3                52                 23  0.442308  \n",
       "4               121                 44  0.363636  "
      ]
     },
     "execution_count": 45,
     "metadata": {},
     "output_type": "execute_result"
    }
   ],
   "source": [
    "df.head()"
   ]
  },
  {
   "cell_type": "code",
   "execution_count": 46,
   "id": "ae0f511c",
   "metadata": {
    "scrolled": true
   },
   "outputs": [
    {
     "data": {
      "text/html": [
       "<div>\n",
       "<style scoped>\n",
       "    .dataframe tbody tr th:only-of-type {\n",
       "        vertical-align: middle;\n",
       "    }\n",
       "\n",
       "    .dataframe tbody tr th {\n",
       "        vertical-align: top;\n",
       "    }\n",
       "\n",
       "    .dataframe thead th {\n",
       "        text-align: right;\n",
       "    }\n",
       "</style>\n",
       "<table border=\"1\" class=\"dataframe tex2jax_ignore\">\n",
       "  <thead>\n",
       "    <tr style=\"text-align: right;\">\n",
       "      <th></th>\n",
       "      <th>File Name</th>\n",
       "      <th>Transcript</th>\n",
       "      <th>MSS Score</th>\n",
       "      <th>Age</th>\n",
       "      <th>id</th>\n",
       "      <th>Meet Num</th>\n",
       "      <th>basedx</th>\n",
       "      <th>dx2</th>\n",
       "      <th>onsetage</th>\n",
       "      <th>sex</th>\n",
       "      <th>race</th>\n",
       "      <th>educ</th>\n",
       "      <th>Total Word Count</th>\n",
       "      <th>Unique_Word_Count</th>\n",
       "      <th>TTR</th>\n",
       "    </tr>\n",
       "  </thead>\n",
       "  <tbody>\n",
       "    <tr>\n",
       "      <th>0</th>\n",
       "      <td>001-2.cha</td>\n",
       "      <td>mhm .  theres a young boy  going in a cookie jar .  and theres a  lit a girl  young girl .  and Im saying hes a boy because you can  rd its  and hes  hes in the   cookie jar .  and theres a  stool that he is on and it already is starting to and so is the water in the sink  is ev overflowing in the sink hm I  I dont know about the  this hickey here I   like it  the wife or g Imean   the  the and shes     h she has   has .  oh  I  I cant think of the ...  she has  the shes trying to wipe   wipe dishes .  oh  and stop the water from going out .</td>\n",
       "      <td>11</td>\n",
       "      <td>59</td>\n",
       "      <td>1</td>\n",
       "      <td>2.0</td>\n",
       "      <td>1</td>\n",
       "      <td>NaN</td>\n",
       "      <td>54</td>\n",
       "      <td>1</td>\n",
       "      <td>1</td>\n",
       "      <td>14</td>\n",
       "      <td>122</td>\n",
       "      <td>40</td>\n",
       "      <td>0.327869</td>\n",
       "    </tr>\n",
       "    <tr>\n",
       "      <th>1</th>\n",
       "      <td>010-4.cha</td>\n",
       "      <td>kids are trying to get a       ...  its full of  its full of  mistakes .  its full of mistakes .  its full of mistakes .  hes changing  surret  taking cookie jar . thats all .    the mothers just drying the dishes .  n n n n n n   n   from the from  .  this is  ...</td>\n",
       "      <td>na</td>\n",
       "      <td>70</td>\n",
       "      <td>10</td>\n",
       "      <td>4.0</td>\n",
       "      <td>1</td>\n",
       "      <td>730</td>\n",
       "      <td>63</td>\n",
       "      <td>1</td>\n",
       "      <td>1</td>\n",
       "      <td>12</td>\n",
       "      <td>56</td>\n",
       "      <td>20</td>\n",
       "      <td>0.357143</td>\n",
       "    </tr>\n",
       "    <tr>\n",
       "      <th>2</th>\n",
       "      <td>105-2.cha</td>\n",
       "      <td>what do I tell you when I see it ?     as I see it ?     is there something going on here or  ..?    oh its just ...    well the first bad thing I see is the water running outof the and the little boy up stealing cookies and giving one to his and mamas drying the dishes and standing in the water .  shes looking the other direction .  and the little boys falling off the stool  standing up on hes gonna get hurt . when he hits that sink .   like an airplane going crazy .    hmhunh no .    . you can see out the window . out into the yard .  and you can see  a window over there on the other side of the</td>\n",
       "      <td>na</td>\n",
       "      <td>58</td>\n",
       "      <td>105</td>\n",
       "      <td>2.0</td>\n",
       "      <td>8</td>\n",
       "      <td>-2</td>\n",
       "      <td>56</td>\n",
       "      <td>0</td>\n",
       "      <td>1</td>\n",
       "      <td>20</td>\n",
       "      <td>127</td>\n",
       "      <td>56</td>\n",
       "      <td>0.440945</td>\n",
       "    </tr>\n",
       "    <tr>\n",
       "      <th>3</th>\n",
       "      <td>109-4.cha</td>\n",
       "      <td>the boy is taking  cookies .   the girl is  is saying .   quiet .  hes  hes  the boy is falling off the stool .   the mother is drying dishes .  the water is running over the sink .   the curtains are blowing in the breeze .   hm  hm  hm .    the girl is putting her hand up to have him pass the cookies .   shes drying the dishes .  the waters running over .  its splashing on the floor .  . well the windows open but thats not action .  thats the curtain blowing right ?    I guess thats it .    hes passing her the cookies .  did I say that ?    and hes taking them out of the jar .</td>\n",
       "      <td>30</td>\n",
       "      <td>64</td>\n",
       "      <td>109</td>\n",
       "      <td>4.0</td>\n",
       "      <td>8</td>\n",
       "      <td>-2</td>\n",
       "      <td>60</td>\n",
       "      <td>0</td>\n",
       "      <td>1</td>\n",
       "      <td>12</td>\n",
       "      <td>121</td>\n",
       "      <td>44</td>\n",
       "      <td>0.363636</td>\n",
       "    </tr>\n",
       "    <tr>\n",
       "      <th>4</th>\n",
       "      <td>113-3.cha</td>\n",
       "      <td>little boy getting in the cookie jar .    and the little girl holding out her hand for some cookies .  and a stool the boy is on is about to tip over .  and a lady is drying a dish .  and the water is running over overflowing from the sink .   you said just the action ?     the lady is stepping in the water on the floor .  hm I dont know whats going on outside the window .</td>\n",
       "      <td>30</td>\n",
       "      <td>50</td>\n",
       "      <td>113</td>\n",
       "      <td>3.0</td>\n",
       "      <td>8</td>\n",
       "      <td>-2</td>\n",
       "      <td>47</td>\n",
       "      <td>0</td>\n",
       "      <td>1</td>\n",
       "      <td>14</td>\n",
       "      <td>80</td>\n",
       "      <td>36</td>\n",
       "      <td>0.450000</td>\n",
       "    </tr>\n",
       "    <tr>\n",
       "      <th>...</th>\n",
       "      <td>...</td>\n",
       "      <td>...</td>\n",
       "      <td>...</td>\n",
       "      <td>...</td>\n",
       "      <td>...</td>\n",
       "      <td>...</td>\n",
       "      <td>...</td>\n",
       "      <td>...</td>\n",
       "      <td>...</td>\n",
       "      <td>...</td>\n",
       "      <td>...</td>\n",
       "      <td>...</td>\n",
       "      <td>...</td>\n",
       "      <td>...</td>\n",
       "      <td>...</td>\n",
       "    </tr>\n",
       "    <tr>\n",
       "      <th>234</th>\n",
       "      <td>092-3.cha</td>\n",
       "      <td>the girls reaching for a cookie .  the boy is reaching in the cookie jar .  hes standing on the stool .  the stool is tipping over .  sho the girl with her finger to her mouth .    the mother is drying a dish .  the sink is overflowing with water .  the things that are doing, not things that are going on ?    thats it .</td>\n",
       "      <td>na</td>\n",
       "      <td>65</td>\n",
       "      <td>92</td>\n",
       "      <td>3.0</td>\n",
       "      <td>8</td>\n",
       "      <td>-2</td>\n",
       "      <td>62</td>\n",
       "      <td>0</td>\n",
       "      <td>1</td>\n",
       "      <td>12</td>\n",
       "      <td>67</td>\n",
       "      <td>26</td>\n",
       "      <td>0.388060</td>\n",
       "    </tr>\n",
       "    <tr>\n",
       "      <th>235</th>\n",
       "      <td>093-1.cha</td>\n",
       "      <td>well I see the mother doing the dishes .  the sink  the water running over in the sink .    the boys taking cookies from the cookie jar .  and he  l the stool is falling over .  and the little girl has her hands up to her mouth in other words to  and the stools falling .  yeah thats it .    she has her hand up for him to pass her a cookie then be quiet .  mothers ...  the dishes in the sink  .  yeah okay .</td>\n",
       "      <td>28</td>\n",
       "      <td>65</td>\n",
       "      <td>93</td>\n",
       "      <td>1.0</td>\n",
       "      <td>8</td>\n",
       "      <td>NaN</td>\n",
       "      <td>64</td>\n",
       "      <td>0</td>\n",
       "      <td>1</td>\n",
       "      <td>12</td>\n",
       "      <td>88</td>\n",
       "      <td>37</td>\n",
       "      <td>0.420455</td>\n",
       "    </tr>\n",
       "    <tr>\n",
       "      <th>236</th>\n",
       "      <td>094-3.cha</td>\n",
       "      <td>mother son and daughter .    the waters spilling outof the sink .   .   shes drying the dishes .  the  the kids are into the cookie jar  .  am I going too fast ?    how many you got  ?    how many you need ?    oh .     you got the water running over .   and the little boys  gonna fall because its already what thing hes standing on .  cir    stool .    is that all ?</td>\n",
       "      <td>na</td>\n",
       "      <td>76</td>\n",
       "      <td>94</td>\n",
       "      <td>3.0</td>\n",
       "      <td>1</td>\n",
       "      <td>NaN</td>\n",
       "      <td>70</td>\n",
       "      <td>0</td>\n",
       "      <td>1</td>\n",
       "      <td>12</td>\n",
       "      <td>74</td>\n",
       "      <td>42</td>\n",
       "      <td>0.567568</td>\n",
       "    </tr>\n",
       "    <tr>\n",
       "      <th>237</th>\n",
       "      <td>096-2.cha</td>\n",
       "      <td>what do I see going on ?    just  just start to describe it ?    the girl wants a cookie .  and the boys  trying to get a cookie outof the cookie jar .  and the stools falling over .  and the water  spigots turned on .  the waters overflowing .  and the mothers doing the dishes .  and  the windows open .  and  . its spring outside somethings growing .  the windows open .  anything else ?    shes drying the dishes .  has a dress on .    her feets  ma in the water .    . the lids off the cookie jar .  and the kid has a hand on  one hand  in the right hand hes giving  gonna give it to the sister .</td>\n",
       "      <td>na</td>\n",
       "      <td>73</td>\n",
       "      <td>96</td>\n",
       "      <td>2.0</td>\n",
       "      <td>8</td>\n",
       "      <td>NaN</td>\n",
       "      <td>71</td>\n",
       "      <td>1</td>\n",
       "      <td>1</td>\n",
       "      <td>18</td>\n",
       "      <td>124</td>\n",
       "      <td>45</td>\n",
       "      <td>0.362903</td>\n",
       "    </tr>\n",
       "    <tr>\n",
       "      <th>238</th>\n",
       "      <td>097-1.cha</td>\n",
       "      <td>all the action .    whats going on in this picture ?    oh the boy is up trying to take  pw .  and the womans sink is running over .  and these are curtains .  and his stool is tumbling over .  anything else wrong with the picture ?</td>\n",
       "      <td>10</td>\n",
       "      <td>79</td>\n",
       "      <td>97</td>\n",
       "      <td>1.0</td>\n",
       "      <td>1</td>\n",
       "      <td>730</td>\n",
       "      <td>75</td>\n",
       "      <td>0</td>\n",
       "      <td>1</td>\n",
       "      <td>9</td>\n",
       "      <td>48</td>\n",
       "      <td>27</td>\n",
       "      <td>0.562500</td>\n",
       "    </tr>\n",
       "  </tbody>\n",
       "</table>\n",
       "<p>239 rows × 15 columns</p>\n",
       "</div>"
      ],
      "text/plain": [
       "     File Name  \\\n",
       "0    001-2.cha   \n",
       "1    010-4.cha   \n",
       "2    105-2.cha   \n",
       "3    109-4.cha   \n",
       "4    113-3.cha   \n",
       "..         ...   \n",
       "234  092-3.cha   \n",
       "235  093-1.cha   \n",
       "236  094-3.cha   \n",
       "237  096-2.cha   \n",
       "238  097-1.cha   \n",
       "\n",
       "                                                                                                                                                                                                                                                                                                                                                                                                                                                                                                                                                                                                                         Transcript  \\\n",
       "0                                                            mhm .  theres a young boy  going in a cookie jar .  and theres a  lit a girl  young girl .  and Im saying hes a boy because you can  rd its  and hes  hes in the   cookie jar .  and theres a  stool that he is on and it already is starting to and so is the water in the sink  is ev overflowing in the sink hm I  I dont know about the  this hickey here I   like it  the wife or g Imean   the  the and shes     h she has   has .  oh  I  I cant think of the ...  she has  the shes trying to wipe   wipe dishes .  oh  and stop the water from going out .      \n",
       "1                                                                                                                                                                                                                                                                                                                                                      kids are trying to get a       ...  its full of  its full of  mistakes .  its full of mistakes .  its full of mistakes .  hes changing  surret  taking cookie jar . thats all .    the mothers just drying the dishes .  n n n n n n   n   from the from  .  this is  ...      \n",
       "2    what do I tell you when I see it ?     as I see it ?     is there something going on here or  ..?    oh its just ...    well the first bad thing I see is the water running outof the and the little boy up stealing cookies and giving one to his and mamas drying the dishes and standing in the water .  shes looking the other direction .  and the little boys falling off the stool  standing up on hes gonna get hurt . when he hits that sink .   like an airplane going crazy .    hmhunh no .    . you can see out the window . out into the yard .  and you can see  a window over there on the other side of the     \n",
       "3                      the boy is taking  cookies .   the girl is  is saying .   quiet .  hes  hes  the boy is falling off the stool .   the mother is drying dishes .  the water is running over the sink .   the curtains are blowing in the breeze .   hm  hm  hm .    the girl is putting her hand up to have him pass the cookies .   shes drying the dishes .  the waters running over .  its splashing on the floor .  . well the windows open but thats not action .  thats the curtain blowing right ?    I guess thats it .    hes passing her the cookies .  did I say that ?    and hes taking them out of the jar .      \n",
       "4                                                                                                                                                                                                                                      little boy getting in the cookie jar .    and the little girl holding out her hand for some cookies .  and a stool the boy is on is about to tip over .  and a lady is drying a dish .  and the water is running over overflowing from the sink .   you said just the action ?     the lady is stepping in the water on the floor .  hm I dont know whats going on outside the window .        \n",
       "..                                                                                                                                                                                                                                                                                                                                                                                                                                                                                                                                                                                                                              ...   \n",
       "234                                                                                                                                                                                                                                                                                          the girls reaching for a cookie .  the boy is reaching in the cookie jar .  hes standing on the stool .  the stool is tipping over .  sho the girl with her finger to her mouth .    the mother is drying a dish .  the sink is overflowing with water .  the things that are doing, not things that are going on ?    thats it .        \n",
       "235                                                                                                                                                                                                  well I see the mother doing the dishes .  the sink  the water running over in the sink .    the boys taking cookies from the cookie jar .  and he  l the stool is falling over .  and the little girl has her hands up to her mouth in other words to  and the stools falling .  yeah thats it .    she has her hand up for him to pass her a cookie then be quiet .  mothers ...  the dishes in the sink  .  yeah okay .        \n",
       "236                                                                                                                                                                                                                                           mother son and daughter .    the waters spilling outof the sink .   .   shes drying the dishes .  the  the kids are into the cookie jar  .  am I going too fast ?    how many you got  ?    how many you need ?    oh .     you got the water running over .   and the little boys  gonna fall because its already what thing hes standing on .  cir    stool .    is that all ?        \n",
       "237    what do I see going on ?    just  just start to describe it ?    the girl wants a cookie .  and the boys  trying to get a cookie outof the cookie jar .  and the stools falling over .  and the water  spigots turned on .  the waters overflowing .  and the mothers doing the dishes .  and  the windows open .  and  . its spring outside somethings growing .  the windows open .  anything else ?    shes drying the dishes .  has a dress on .    her feets  ma in the water .    . the lids off the cookie jar .  and the kid has a hand on  one hand  in the right hand hes giving  gonna give it to the sister .      \n",
       "238                                                                                                                                                                                                                                                                                                                                                                                   all the action .    whats going on in this picture ?    oh the boy is up trying to take  pw .  and the womans sink is running over .  and these are curtains .  and his stool is tumbling over .  anything else wrong with the picture ?        \n",
       "\n",
       "    MSS Score Age   id  Meet Num basedx  dx2 onsetage sex race  educ  \\\n",
       "0          11  59    1       2.0      1  NaN       54   1    1    14   \n",
       "1          na  70   10       4.0      1  730       63   1    1    12   \n",
       "2          na  58  105       2.0      8   -2       56   0    1    20   \n",
       "3          30  64  109       4.0      8   -2       60   0    1    12   \n",
       "4          30  50  113       3.0      8   -2       47   0    1    14   \n",
       "..        ...  ..  ...       ...    ...  ...      ...  ..  ...   ...   \n",
       "234        na  65   92       3.0      8   -2       62   0    1    12   \n",
       "235        28  65   93       1.0      8  NaN       64   0    1    12   \n",
       "236        na  76   94       3.0      1  NaN       70   0    1    12   \n",
       "237        na  73   96       2.0      8  NaN       71   1    1    18   \n",
       "238        10  79   97       1.0      1  730       75   0    1     9   \n",
       "\n",
       "     Total Word Count  Unique_Word_Count       TTR  \n",
       "0                 122                 40  0.327869  \n",
       "1                  56                 20  0.357143  \n",
       "2                 127                 56  0.440945  \n",
       "3                 121                 44  0.363636  \n",
       "4                  80                 36  0.450000  \n",
       "..                ...                ...       ...  \n",
       "234                67                 26  0.388060  \n",
       "235                88                 37  0.420455  \n",
       "236                74                 42  0.567568  \n",
       "237               124                 45  0.362903  \n",
       "238                48                 27  0.562500  \n",
       "\n",
       "[239 rows x 15 columns]"
      ]
     },
     "execution_count": 46,
     "metadata": {},
     "output_type": "execute_result"
    }
   ],
   "source": [
    "df = df[df['race'] != '2']\n",
    "df.reset_index(drop=True)"
   ]
  },
  {
   "cell_type": "code",
   "execution_count": 47,
   "id": "5f404540",
   "metadata": {
    "scrolled": true
   },
   "outputs": [
    {
     "data": {
      "text/html": [
       "<div>\n",
       "<style scoped>\n",
       "    .dataframe tbody tr th:only-of-type {\n",
       "        vertical-align: middle;\n",
       "    }\n",
       "\n",
       "    .dataframe tbody tr th {\n",
       "        vertical-align: top;\n",
       "    }\n",
       "\n",
       "    .dataframe thead th {\n",
       "        text-align: right;\n",
       "    }\n",
       "</style>\n",
       "<table border=\"1\" class=\"dataframe tex2jax_ignore\">\n",
       "  <thead>\n",
       "    <tr style=\"text-align: right;\">\n",
       "      <th></th>\n",
       "      <th>File Name</th>\n",
       "      <th>Transcript</th>\n",
       "      <th>MSS Score</th>\n",
       "      <th>Age</th>\n",
       "      <th>id</th>\n",
       "      <th>Meet Num</th>\n",
       "      <th>basedx</th>\n",
       "      <th>dx2</th>\n",
       "      <th>onsetage</th>\n",
       "      <th>sex</th>\n",
       "      <th>race</th>\n",
       "      <th>educ</th>\n",
       "      <th>Total Word Count</th>\n",
       "      <th>Unique_Word_Count</th>\n",
       "      <th>TTR</th>\n",
       "    </tr>\n",
       "  </thead>\n",
       "  <tbody>\n",
       "    <tr>\n",
       "      <th>0</th>\n",
       "      <td>001-2.cha</td>\n",
       "      <td>mhm . theres a young boy going in a cookie jar . and theres a lit a girl young girl . and Im saying hes a boy because you can rd its and hes hes in the cookie jar . and theres a stool that he is on and it already is starting to and so is the water in the sink is ev overflowing in the sink hm I I dont know about the this hickey here I like it the wife or g Imean the the and shes h she has has . oh I I cant think of the ... she has the shes trying to wipe wipe dishes . oh and stop the water from going out .</td>\n",
       "      <td>11</td>\n",
       "      <td>59</td>\n",
       "      <td>1</td>\n",
       "      <td>2.0</td>\n",
       "      <td>1</td>\n",
       "      <td>NaN</td>\n",
       "      <td>54</td>\n",
       "      <td>1</td>\n",
       "      <td>1</td>\n",
       "      <td>14</td>\n",
       "      <td>122</td>\n",
       "      <td>40</td>\n",
       "      <td>0.327869</td>\n",
       "    </tr>\n",
       "    <tr>\n",
       "      <th>1</th>\n",
       "      <td>010-4.cha</td>\n",
       "      <td>kids are trying to get a ... its full of its full of mistakes . its full of mistakes . its full of mistakes . hes changing surret taking cookie jar . thats all . the mothers just drying the dishes . n n n n n n n from the from . this is ...</td>\n",
       "      <td>na</td>\n",
       "      <td>70</td>\n",
       "      <td>10</td>\n",
       "      <td>4.0</td>\n",
       "      <td>1</td>\n",
       "      <td>730</td>\n",
       "      <td>63</td>\n",
       "      <td>1</td>\n",
       "      <td>1</td>\n",
       "      <td>12</td>\n",
       "      <td>56</td>\n",
       "      <td>20</td>\n",
       "      <td>0.357143</td>\n",
       "    </tr>\n",
       "    <tr>\n",
       "      <th>2</th>\n",
       "      <td>105-2.cha</td>\n",
       "      <td>what do I tell you when I see it ? as I see it ? is there something going on here or ..? oh its just ... well the first bad thing I see is the water running outof the and the little boy up stealing cookies and giving one to his and mamas drying the dishes and standing in the water . shes looking the other direction . and the little boys falling off the stool standing up on hes gonna get hurt . when he hits that sink . like an airplane going crazy . hmhunh no . . you can see out the window . out into the yard . and you can see a window over there on the other side of the</td>\n",
       "      <td>na</td>\n",
       "      <td>58</td>\n",
       "      <td>105</td>\n",
       "      <td>2.0</td>\n",
       "      <td>8</td>\n",
       "      <td>-2</td>\n",
       "      <td>56</td>\n",
       "      <td>0</td>\n",
       "      <td>1</td>\n",
       "      <td>20</td>\n",
       "      <td>127</td>\n",
       "      <td>56</td>\n",
       "      <td>0.440945</td>\n",
       "    </tr>\n",
       "    <tr>\n",
       "      <th>4</th>\n",
       "      <td>109-4.cha</td>\n",
       "      <td>the boy is taking cookies . the girl is is saying . quiet . hes hes the boy is falling off the stool . the mother is drying dishes . the water is running over the sink . the curtains are blowing in the breeze . hm hm hm . the girl is putting her hand up to have him pass the cookies . shes drying the dishes . the waters running over . its splashing on the floor . . well the windows open but thats not action . thats the curtain blowing right ? I guess thats it . hes passing her the cookies . did I say that ? and hes taking them out of the jar .</td>\n",
       "      <td>30</td>\n",
       "      <td>64</td>\n",
       "      <td>109</td>\n",
       "      <td>4.0</td>\n",
       "      <td>8</td>\n",
       "      <td>-2</td>\n",
       "      <td>60</td>\n",
       "      <td>0</td>\n",
       "      <td>1</td>\n",
       "      <td>12</td>\n",
       "      <td>121</td>\n",
       "      <td>44</td>\n",
       "      <td>0.363636</td>\n",
       "    </tr>\n",
       "    <tr>\n",
       "      <th>5</th>\n",
       "      <td>113-3.cha</td>\n",
       "      <td>little boy getting in the cookie jar . and the little girl holding out her hand for some cookies . and a stool the boy is on is about to tip over . and a lady is drying a dish . and the water is running over overflowing from the sink . you said just the action ? the lady is stepping in the water on the floor . hm I dont know whats going on outside the window .</td>\n",
       "      <td>30</td>\n",
       "      <td>50</td>\n",
       "      <td>113</td>\n",
       "      <td>3.0</td>\n",
       "      <td>8</td>\n",
       "      <td>-2</td>\n",
       "      <td>47</td>\n",
       "      <td>0</td>\n",
       "      <td>1</td>\n",
       "      <td>14</td>\n",
       "      <td>80</td>\n",
       "      <td>36</td>\n",
       "      <td>0.450000</td>\n",
       "    </tr>\n",
       "    <tr>\n",
       "      <th>...</th>\n",
       "      <td>...</td>\n",
       "      <td>...</td>\n",
       "      <td>...</td>\n",
       "      <td>...</td>\n",
       "      <td>...</td>\n",
       "      <td>...</td>\n",
       "      <td>...</td>\n",
       "      <td>...</td>\n",
       "      <td>...</td>\n",
       "      <td>...</td>\n",
       "      <td>...</td>\n",
       "      <td>...</td>\n",
       "      <td>...</td>\n",
       "      <td>...</td>\n",
       "      <td>...</td>\n",
       "    </tr>\n",
       "    <tr>\n",
       "      <th>240</th>\n",
       "      <td>092-3.cha</td>\n",
       "      <td>the girls reaching for a cookie . the boy is reaching in the cookie jar . hes standing on the stool . the stool is tipping over . sho the girl with her finger to her mouth . the mother is drying a dish . the sink is overflowing with water . the things that are doing, not things that are going on ? thats it .</td>\n",
       "      <td>na</td>\n",
       "      <td>65</td>\n",
       "      <td>92</td>\n",
       "      <td>3.0</td>\n",
       "      <td>8</td>\n",
       "      <td>-2</td>\n",
       "      <td>62</td>\n",
       "      <td>0</td>\n",
       "      <td>1</td>\n",
       "      <td>12</td>\n",
       "      <td>67</td>\n",
       "      <td>26</td>\n",
       "      <td>0.388060</td>\n",
       "    </tr>\n",
       "    <tr>\n",
       "      <th>241</th>\n",
       "      <td>093-1.cha</td>\n",
       "      <td>well I see the mother doing the dishes . the sink the water running over in the sink . the boys taking cookies from the cookie jar . and he l the stool is falling over . and the little girl has her hands up to her mouth in other words to and the stools falling . yeah thats it . she has her hand up for him to pass her a cookie then be quiet . mothers ... the dishes in the sink . yeah okay .</td>\n",
       "      <td>28</td>\n",
       "      <td>65</td>\n",
       "      <td>93</td>\n",
       "      <td>1.0</td>\n",
       "      <td>8</td>\n",
       "      <td>NaN</td>\n",
       "      <td>64</td>\n",
       "      <td>0</td>\n",
       "      <td>1</td>\n",
       "      <td>12</td>\n",
       "      <td>88</td>\n",
       "      <td>37</td>\n",
       "      <td>0.420455</td>\n",
       "    </tr>\n",
       "    <tr>\n",
       "      <th>242</th>\n",
       "      <td>094-3.cha</td>\n",
       "      <td>mother son and daughter . the waters spilling outof the sink . . shes drying the dishes . the the kids are into the cookie jar . am I going too fast ? how many you got ? how many you need ? oh . you got the water running over . and the little boys gonna fall because its already what thing hes standing on . cir stool . is that all ?</td>\n",
       "      <td>na</td>\n",
       "      <td>76</td>\n",
       "      <td>94</td>\n",
       "      <td>3.0</td>\n",
       "      <td>1</td>\n",
       "      <td>NaN</td>\n",
       "      <td>70</td>\n",
       "      <td>0</td>\n",
       "      <td>1</td>\n",
       "      <td>12</td>\n",
       "      <td>74</td>\n",
       "      <td>42</td>\n",
       "      <td>0.567568</td>\n",
       "    </tr>\n",
       "    <tr>\n",
       "      <th>243</th>\n",
       "      <td>096-2.cha</td>\n",
       "      <td>what do I see going on ? just just start to describe it ? the girl wants a cookie . and the boys trying to get a cookie outof the cookie jar . and the stools falling over . and the water spigots turned on . the waters overflowing . and the mothers doing the dishes . and the windows open . and . its spring outside somethings growing . the windows open . anything else ? shes drying the dishes . has a dress on . her feets ma in the water . . the lids off the cookie jar . and the kid has a hand on one hand in the right hand hes giving gonna give it to the sister .</td>\n",
       "      <td>na</td>\n",
       "      <td>73</td>\n",
       "      <td>96</td>\n",
       "      <td>2.0</td>\n",
       "      <td>8</td>\n",
       "      <td>NaN</td>\n",
       "      <td>71</td>\n",
       "      <td>1</td>\n",
       "      <td>1</td>\n",
       "      <td>18</td>\n",
       "      <td>124</td>\n",
       "      <td>45</td>\n",
       "      <td>0.362903</td>\n",
       "    </tr>\n",
       "    <tr>\n",
       "      <th>244</th>\n",
       "      <td>097-1.cha</td>\n",
       "      <td>all the action . whats going on in this picture ? oh the boy is up trying to take pw . and the womans sink is running over . and these are curtains . and his stool is tumbling over . anything else wrong with the picture ?</td>\n",
       "      <td>10</td>\n",
       "      <td>79</td>\n",
       "      <td>97</td>\n",
       "      <td>1.0</td>\n",
       "      <td>1</td>\n",
       "      <td>730</td>\n",
       "      <td>75</td>\n",
       "      <td>0</td>\n",
       "      <td>1</td>\n",
       "      <td>9</td>\n",
       "      <td>48</td>\n",
       "      <td>27</td>\n",
       "      <td>0.562500</td>\n",
       "    </tr>\n",
       "  </tbody>\n",
       "</table>\n",
       "<p>239 rows × 15 columns</p>\n",
       "</div>"
      ],
      "text/plain": [
       "     File Name  \\\n",
       "0    001-2.cha   \n",
       "1    010-4.cha   \n",
       "2    105-2.cha   \n",
       "4    109-4.cha   \n",
       "5    113-3.cha   \n",
       "..         ...   \n",
       "240  092-3.cha   \n",
       "241  093-1.cha   \n",
       "242  094-3.cha   \n",
       "243  096-2.cha   \n",
       "244  097-1.cha   \n",
       "\n",
       "                                                                                                                                                                                                                                                                                                                                                                                                                                                                                                                                                                                           Transcript  \\\n",
       "0                                                                      mhm . theres a young boy going in a cookie jar . and theres a lit a girl young girl . and Im saying hes a boy because you can rd its and hes hes in the cookie jar . and theres a stool that he is on and it already is starting to and so is the water in the sink is ev overflowing in the sink hm I I dont know about the this hickey here I like it the wife or g Imean the the and shes h she has has . oh I I cant think of the ... she has the shes trying to wipe wipe dishes . oh and stop the water from going out .   \n",
       "1                                                                                                                                                                                                                                                                                                                                                    kids are trying to get a ... its full of its full of mistakes . its full of mistakes . its full of mistakes . hes changing surret taking cookie jar . thats all . the mothers just drying the dishes . n n n n n n n from the from . this is ...   \n",
       "2    what do I tell you when I see it ? as I see it ? is there something going on here or ..? oh its just ... well the first bad thing I see is the water running outof the and the little boy up stealing cookies and giving one to his and mamas drying the dishes and standing in the water . shes looking the other direction . and the little boys falling off the stool standing up on hes gonna get hurt . when he hits that sink . like an airplane going crazy . hmhunh no . . you can see out the window . out into the yard . and you can see a window over there on the other side of the   \n",
       "4                                the boy is taking cookies . the girl is is saying . quiet . hes hes the boy is falling off the stool . the mother is drying dishes . the water is running over the sink . the curtains are blowing in the breeze . hm hm hm . the girl is putting her hand up to have him pass the cookies . shes drying the dishes . the waters running over . its splashing on the floor . . well the windows open but thats not action . thats the curtain blowing right ? I guess thats it . hes passing her the cookies . did I say that ? and hes taking them out of the jar .   \n",
       "5                                                                                                                                                                                                                          little boy getting in the cookie jar . and the little girl holding out her hand for some cookies . and a stool the boy is on is about to tip over . and a lady is drying a dish . and the water is running over overflowing from the sink . you said just the action ? the lady is stepping in the water on the floor . hm I dont know whats going on outside the window .   \n",
       "..                                                                                                                                                                                                                                                                                                                                                                                                                                                                                                                                                                                                ...   \n",
       "240                                                                                                                                                                                                                                                                             the girls reaching for a cookie . the boy is reaching in the cookie jar . hes standing on the stool . the stool is tipping over . sho the girl with her finger to her mouth . the mother is drying a dish . the sink is overflowing with water . the things that are doing, not things that are going on ? thats it .   \n",
       "241                                                                                                                                                                                          well I see the mother doing the dishes . the sink the water running over in the sink . the boys taking cookies from the cookie jar . and he l the stool is falling over . and the little girl has her hands up to her mouth in other words to and the stools falling . yeah thats it . she has her hand up for him to pass her a cookie then be quiet . mothers ... the dishes in the sink . yeah okay .   \n",
       "242                                                                                                                                                                                                                                                     mother son and daughter . the waters spilling outof the sink . . shes drying the dishes . the the kids are into the cookie jar . am I going too fast ? how many you got ? how many you need ? oh . you got the water running over . and the little boys gonna fall because its already what thing hes standing on . cir stool . is that all ?   \n",
       "243            what do I see going on ? just just start to describe it ? the girl wants a cookie . and the boys trying to get a cookie outof the cookie jar . and the stools falling over . and the water spigots turned on . the waters overflowing . and the mothers doing the dishes . and the windows open . and . its spring outside somethings growing . the windows open . anything else ? shes drying the dishes . has a dress on . her feets ma in the water . . the lids off the cookie jar . and the kid has a hand on one hand in the right hand hes giving gonna give it to the sister .   \n",
       "244                                                                                                                                                                                                                                                                                                                                                                     all the action . whats going on in this picture ? oh the boy is up trying to take pw . and the womans sink is running over . and these are curtains . and his stool is tumbling over . anything else wrong with the picture ?   \n",
       "\n",
       "    MSS Score Age   id  Meet Num basedx  dx2 onsetage sex race  educ  \\\n",
       "0          11  59    1       2.0      1  NaN       54   1    1    14   \n",
       "1          na  70   10       4.0      1  730       63   1    1    12   \n",
       "2          na  58  105       2.0      8   -2       56   0    1    20   \n",
       "4          30  64  109       4.0      8   -2       60   0    1    12   \n",
       "5          30  50  113       3.0      8   -2       47   0    1    14   \n",
       "..        ...  ..  ...       ...    ...  ...      ...  ..  ...   ...   \n",
       "240        na  65   92       3.0      8   -2       62   0    1    12   \n",
       "241        28  65   93       1.0      8  NaN       64   0    1    12   \n",
       "242        na  76   94       3.0      1  NaN       70   0    1    12   \n",
       "243        na  73   96       2.0      8  NaN       71   1    1    18   \n",
       "244        10  79   97       1.0      1  730       75   0    1     9   \n",
       "\n",
       "     Total Word Count  Unique_Word_Count       TTR  \n",
       "0                 122                 40  0.327869  \n",
       "1                  56                 20  0.357143  \n",
       "2                 127                 56  0.440945  \n",
       "4                 121                 44  0.363636  \n",
       "5                  80                 36  0.450000  \n",
       "..                ...                ...       ...  \n",
       "240                67                 26  0.388060  \n",
       "241                88                 37  0.420455  \n",
       "242                74                 42  0.567568  \n",
       "243               124                 45  0.362903  \n",
       "244                48                 27  0.562500  \n",
       "\n",
       "[239 rows x 15 columns]"
      ]
     },
     "execution_count": 47,
     "metadata": {},
     "output_type": "execute_result"
    }
   ],
   "source": [
    "def keep_first_150_words(text):\n",
    "    words = text.split()[:150]\n",
    "    return ' '.join(words)\n",
    "\n",
    "df['Transcript'] = df['Transcript'].apply(keep_first_150_words)\n",
    "df"
   ]
  },
  {
   "cell_type": "code",
   "execution_count": 48,
   "id": "f2a9f26d",
   "metadata": {},
   "outputs": [
    {
     "name": "stdout",
     "output_type": "stream",
     "text": [
      "Maximum value of 'TTR' in rows with basedx=8: 21\n"
     ]
    }
   ],
   "source": [
    "df_basedx_8 = df[df['basedx'] == '8']\n",
    "\n",
    "max_TTR_basedx_8 = df_basedx_8['educ'].max()\n",
    "\n",
    "print(\"Maximum value of 'TTR' in rows with basedx=8:\", max_TTR_basedx_8)"
   ]
  },
  {
   "cell_type": "code",
   "execution_count": 49,
   "id": "b5ff01cc",
   "metadata": {},
   "outputs": [],
   "source": [
    "file_path = 'AlzheimersSpeaks_.csv'\n",
    "df.to_csv(file_path, index=False)"
   ]
  },
  {
   "cell_type": "markdown",
   "id": "c123a647",
   "metadata": {},
   "source": [
    "# Age and education matching"
   ]
  },
  {
   "cell_type": "code",
   "execution_count": 50,
   "id": "bf34b869",
   "metadata": {},
   "outputs": [
    {
     "name": "stdout",
     "output_type": "stream",
     "text": [
      "Number of rows dropped: 103\n"
     ]
    }
   ],
   "source": [
    "rows_before_drop = len(df)\n",
    "\n",
    "df['Age'] = df['Age'].astype(int)\n",
    "df = df.drop(df[(df['basedx'] == '1') & (df['Age']> 75 )].index)\n",
    "df = df.drop(df[(df['basedx'] == '8') & (df['educ'] >= 15)].index)\n",
    "df = df.drop(df[(df['basedx'] == '1') & (df['educ'] <=8)].index)\n",
    "df = df.drop(df[(df['basedx'] == '1') & (df['educ'] >=18)].index)\n",
    "\n",
    "rows_after_drop = len(df)\n",
    "\n",
    "\n",
    "rows_dropped = rows_before_drop - rows_after_drop\n",
    "\n",
    "print(\"Number of rows dropped:\", rows_dropped)\n",
    "\n",
    "\n",
    "df.reset_index(drop=True, inplace=True)"
   ]
  },
  {
   "cell_type": "code",
   "execution_count": 51,
   "id": "6ff48426",
   "metadata": {},
   "outputs": [],
   "source": [
    "df['Age'] = df['Age'].astype(int)\n",
    "df = df.drop(df[(df['basedx'] == '1') & (df['Age']> 75 )].index)\n",
    "df.reset_index(drop=True, inplace=True)"
   ]
  },
  {
   "cell_type": "code",
   "execution_count": 52,
   "id": "cc69a432",
   "metadata": {},
   "outputs": [
    {
     "name": "stdout",
     "output_type": "stream",
     "text": [
      "\n",
      "T-statistic: 0.9485800078472169\n",
      "P-value: 0.3445418608492834\n",
      "There is no significant difference between the groups.\n"
     ]
    }
   ],
   "source": [
    "ad = df[df['basedx'] == '1']['Age']\n",
    "hc = df[df['basedx'] == '8']['Age']\n",
    "\n",
    "\n",
    "\n",
    "t_statistic, p_value = ttest_ind(ad, hc, nan_policy='omit')\n",
    "\n",
    "print(f'\\nT-statistic: {t_statistic}')\n",
    "print(f'P-value: {p_value}')\n",
    "\n",
    "if p_value < 0.05:\n",
    "    print('The difference between the groups is statistically significant.')\n",
    "else:\n",
    "    print('There is no significant difference between the groups.')"
   ]
  },
  {
   "cell_type": "code",
   "execution_count": 53,
   "id": "a54b1fe9",
   "metadata": {},
   "outputs": [
    {
     "name": "stderr",
     "output_type": "stream",
     "text": [
      "C:\\Users\\kaiso\\AppData\\Roaming\\Python\\Python310\\site-packages\\researchpy\\ttest.py:38: FutureWarning: The series.append method is deprecated and will be removed from pandas in a future version. Use pandas.concat instead.\n",
      "  groups = group1.append(group2, ignore_index= True)\n"
     ]
    },
    {
     "data": {
      "text/plain": [
       "(   Variable      N       Mean        SD        SE  95% Conf.   Interval\n",
       " 0       Age   78.0  66.346154  5.521686  0.625208  65.101206  67.591102\n",
       " 1       Age   58.0  65.241379  8.055314  1.057715  63.123342  67.359416\n",
       " 2  combined  136.0  65.875000  6.714757  0.575786  64.736273  67.013727,\n",
       "         Satterthwaite t-test  results\n",
       " 0  Difference (Age - Age) =    1.1048\n",
       " 1      Degrees of freedom =   95.1871\n",
       " 2                       t =    0.8992\n",
       " 3   Two side test p value =    0.3708\n",
       " 4  Difference < 0 p value =    0.8146\n",
       " 5  Difference > 0 p value =    0.1854\n",
       " 6               Cohen's d =    0.1645\n",
       " 7               Hedge's g =    0.1635\n",
       " 8          Glass's delta1 =    0.2001\n",
       " 9        Point-Biserial r =    0.0918)"
      ]
     },
     "execution_count": 53,
     "metadata": {},
     "output_type": "execute_result"
    }
   ],
   "source": [
    "ad = df[df['basedx'] == '1']['Age']\n",
    "hc = df[df['basedx'] == '8']['Age']\n",
    "\n",
    "\n",
    "huh = rp(ad, hc, equal_variances=False)\n",
    "huh"
   ]
  },
  {
   "cell_type": "code",
   "execution_count": 54,
   "id": "6a5cadde",
   "metadata": {},
   "outputs": [
    {
     "data": {
      "image/png": "[encoded data removed]",
      "text/plain": [
       "<Figure size 1000x600 with 1 Axes>"
      ]
     },
     "metadata": {},
     "output_type": "display_data"
    }
   ],
   "source": [
    "plt.figure(figsize=(10, 6))  \n",
    "\n",
    "\n",
    "sns.boxplot(x='basedx', y='Age', data=df, showfliers=True)\n",
    "\n",
    "\n",
    "plt.xlabel('Group')\n",
    "plt.ylabel('Age')\n",
    "plt.title('Age of Participants With and Without AD')\n",
    "\n",
    "\n",
    "plt.xticks([0, 1], ['AD', 'Control'])\n",
    "plt.show()"
   ]
  },
  {
   "cell_type": "code",
   "execution_count": 55,
   "id": "6b311793",
   "metadata": {
    "scrolled": true
   },
   "outputs": [
    {
     "name": "stdout",
     "output_type": "stream",
     "text": [
      "\n",
      "T-statistic: 0.421049202728896\n",
      "P-value: 0.674393712223285\n",
      "There is no significant difference between the groups.\n"
     ]
    }
   ],
   "source": [
    "ad = df[df['basedx'] == '1']['educ']\n",
    "hc = df[df['basedx'] == '8']['educ']\n",
    "\n",
    "\n",
    "\n",
    "t_statistic, p_value = ttest_ind(ad, hc, nan_policy='omit')\n",
    "\n",
    "\n",
    "print(f'\\nT-statistic: {t_statistic}')\n",
    "print(f'P-value: {p_value}')\n",
    "\n",
    "\n",
    "if p_value < 0.05:\n",
    "    print('The difference between the groups is statistically significant.')\n",
    "else:\n",
    "    print('There is no significant difference between the groups.')"
   ]
  },
  {
   "cell_type": "code",
   "execution_count": 56,
   "id": "807864f2",
   "metadata": {},
   "outputs": [
    {
     "name": "stdout",
     "output_type": "stream",
     "text": [
      "Correlation between TTR and educ for all rows: 0.028067527750340875\n",
      "P-value: 0.7456628766044454\n"
     ]
    }
   ],
   "source": [
    "correlation, p_value = pearsonr(df['TTR'], df['educ'])\n",
    "\n",
    "print(\"Correlation between TTR and educ for all rows:\", correlation)\n",
    "print(\"P-value:\", p_value)"
   ]
  },
  {
   "cell_type": "code",
   "execution_count": 57,
   "id": "0d186a0b",
   "metadata": {},
   "outputs": [
    {
     "name": "stdout",
     "output_type": "stream",
     "text": [
      "Correlation between TTR and educ for all rows: -0.10911360789589561\n",
      "P-value: 0.20604836242514687\n"
     ]
    }
   ],
   "source": [
    "correlation, p_value = pearsonr(df['TTR'], df['Age'])\n",
    "\n",
    "print(\"Correlation between TTR and educ for all rows:\", correlation)\n",
    "print(\"P-value:\", p_value)"
   ]
  },
  {
   "cell_type": "code",
   "execution_count": 58,
   "id": "e83a1453",
   "metadata": {},
   "outputs": [
    {
     "name": "stderr",
     "output_type": "stream",
     "text": [
      "C:\\Users\\kaiso\\AppData\\Roaming\\Python\\Python310\\site-packages\\researchpy\\ttest.py:38: FutureWarning: The series.append method is deprecated and will be removed from pandas in a future version. Use pandas.concat instead.\n",
      "  groups = group1.append(group2, ignore_index= True)\n"
     ]
    },
    {
     "data": {
      "text/plain": [
       "(   Variable      N       Mean        SD        SE  95% Conf.   Interval\n",
       " 0      educ   78.0  12.461538  1.870428  0.211784  12.039822  12.883255\n",
       " 1      educ   58.0  12.344828  1.132483  0.148702  12.047056  12.642599\n",
       " 2  combined  136.0  12.411765  1.593833  0.136670  12.141473  12.682056,\n",
       "           Satterthwaite t-test   results\n",
       " 0  Difference (educ - educ) =     0.1167\n",
       " 1        Degrees of freedom =   129.2125\n",
       " 2                         t =     0.4510\n",
       " 3     Two side test p value =     0.6527\n",
       " 4    Difference < 0 p value =     0.6736\n",
       " 5    Difference > 0 p value =     0.3264\n",
       " 6                 Cohen's d =     0.0730\n",
       " 7                 Hedge's g =     0.0726\n",
       " 8            Glass's delta1 =     0.0624\n",
       " 9          Point-Biserial r =     0.0396)"
      ]
     },
     "execution_count": 58,
     "metadata": {},
     "output_type": "execute_result"
    }
   ],
   "source": [
    "ad = df[df['basedx'] == '1']['educ']\n",
    "hc = df[df['basedx'] == '8']['educ']\n",
    "\n",
    "\n",
    "huh = rp(ad, hc, equal_variances=False)\n",
    "huh"
   ]
  },
  {
   "cell_type": "code",
   "execution_count": 59,
   "id": "c6c16e55",
   "metadata": {},
   "outputs": [
    {
     "name": "stdout",
     "output_type": "stream",
     "text": [
      "1.8704281591393717\n"
     ]
    }
   ],
   "source": [
    "\n",
    "std = ad.std()\n",
    "print(std)"
   ]
  },
  {
   "cell_type": "code",
   "execution_count": 60,
   "id": "ebd60637",
   "metadata": {},
   "outputs": [
    {
     "data": {
      "image/png": "[encoded data removed]",
      "text/plain": [
       "<Figure size 1000x600 with 1 Axes>"
      ]
     },
     "metadata": {},
     "output_type": "display_data"
    }
   ],
   "source": [
    "plt.figure(figsize=(10, 6))  \n",
    "\n",
    "\n",
    "sns.boxplot(x='basedx', y='educ', data=df, showfliers=True)\n",
    "\n",
    "\n",
    "plt.xlabel('Group')\n",
    "plt.ylabel('Education Level')\n",
    "plt.title('Level of Education of Participants With and Without AD')\n",
    "plt.xticks([0, 1], ['AD', 'Control'])\n",
    "\n",
    "plt.show()\n"
   ]
  },
  {
   "cell_type": "code",
   "execution_count": 61,
   "id": "6e4c8200",
   "metadata": {},
   "outputs": [
    {
     "name": "stdout",
     "output_type": "stream",
     "text": [
      "Number of rows with sex = 1: 48\n"
     ]
    }
   ],
   "source": [
    "count_rows = len(df[df['sex'] == '1'])\n",
    "\n",
    "print(\"Number of rows with sex = 1:\", count_rows)"
   ]
  },
  {
   "cell_type": "code",
   "execution_count": 62,
   "id": "04c8997a",
   "metadata": {},
   "outputs": [
    {
     "name": "stdout",
     "output_type": "stream",
     "text": [
      "Number of rows with sex = 1: 88\n"
     ]
    }
   ],
   "source": [
    "count_rows = len(df[df['sex'] == '0'])\n",
    "\n",
    "print(\"Number of rows with sex = 1:\", count_rows)"
   ]
  },
  {
   "cell_type": "code",
   "execution_count": 63,
   "id": "cc0c3728",
   "metadata": {},
   "outputs": [
    {
     "name": "stdout",
     "output_type": "stream",
     "text": [
      "Number of rows with basedx = 1 and sex: 52\n"
     ]
    }
   ],
   "source": [
    "count_rows = len(df[(df['basedx'] == '1') & (df['sex'] == '0')])\n",
    "\n",
    "print(\"Number of rows with basedx = 1 and sex:\", count_rows)"
   ]
  },
  {
   "cell_type": "code",
   "execution_count": 64,
   "id": "b6dce256",
   "metadata": {},
   "outputs": [
    {
     "name": "stdout",
     "output_type": "stream",
     "text": [
      "Number of rows with basedx = 1 and sex: 26\n"
     ]
    }
   ],
   "source": [
    "count_rows = len(df[(df['basedx'] == '1') & (df['sex'] == '1')])\n",
    "\n",
    "print(\"Number of rows with basedx = 1 and sex:\", count_rows)"
   ]
  },
  {
   "cell_type": "code",
   "execution_count": 65,
   "id": "0e999d88",
   "metadata": {},
   "outputs": [
    {
     "name": "stdout",
     "output_type": "stream",
     "text": [
      "Number of rows with basedx = 1 and sex: 36\n"
     ]
    }
   ],
   "source": [
    "count_rows = len(df[(df['basedx'] == '8') & (df['sex'] == '0')])\n",
    "\n",
    "print(\"Number of rows with basedx = 1 and sex:\", count_rows)"
   ]
  },
  {
   "cell_type": "code",
   "execution_count": 66,
   "id": "5fec1b65",
   "metadata": {},
   "outputs": [
    {
     "name": "stdout",
     "output_type": "stream",
     "text": [
      "Number of rows with basedx = 1 and sex: 22\n"
     ]
    }
   ],
   "source": [
    "count_rows = len(df[(df['basedx'] == '8') & (df['sex'] == '1')])\n",
    "\n",
    "print(\"Number of rows with basedx = 1 and sex:\", count_rows)"
   ]
  },
  {
   "cell_type": "code",
   "execution_count": 67,
   "id": "627b0bb2",
   "metadata": {},
   "outputs": [],
   "source": [
    "df = df.drop(df[(df['basedx'] == '8') & (df['TTR'] >= 0.7111111111111111)].index)\n",
    "df.reset_index(drop=True, inplace=True)"
   ]
  },
  {
   "cell_type": "code",
   "execution_count": 68,
   "id": "efc106d2",
   "metadata": {},
   "outputs": [
    {
     "name": "stdout",
     "output_type": "stream",
     "text": [
      "Class: 1\n",
      "Shapiro-Wilk Test Statistic: 0.9941\n",
      "P-value: 0.9791\n",
      "Class: 8\n",
      "Shapiro-Wilk Test Statistic: 0.9647\n",
      "P-value: 0.0948\n"
     ]
    }
   ],
   "source": [
    "classes = df['basedx'].unique()\n",
    "\n",
    "for class_label in classes:\n",
    "    class_data = df.loc[df['basedx'] == class_label, 'TTR']\n",
    "    \n",
    "    \n",
    "    statistic, p_value = shapiro(class_data)\n",
    "    \n",
    "    \n",
    "    print(f\"Class: {class_label}\")\n",
    "    print(f\"Shapiro-Wilk Test Statistic: {statistic:.4f}\")\n",
    "    print(f\"P-value: {p_value:.4f}\")"
   ]
  },
  {
   "cell_type": "code",
   "execution_count": 69,
   "id": "ff6ce6d0",
   "metadata": {},
   "outputs": [
    {
     "name": "stdout",
     "output_type": "stream",
     "text": [
      "\n",
      "T-statistic: -1.8382775342430693\n",
      "P-value: 0.06825259372654703\n",
      "There is no significant difference between the groups.\n"
     ]
    }
   ],
   "source": [
    "ad = df[df['basedx'] == '1']['TTR']\n",
    "hc = df[df['basedx'] == '8']['TTR']\n",
    "\n",
    "\n",
    "\n",
    "t_statistic, p_value = ttest_ind(ad, hc, nan_policy='omit')\n",
    "\n",
    "\n",
    "print(f'\\nT-statistic: {t_statistic}')\n",
    "print(f'P-value: {p_value}')\n",
    "\n",
    "if p_value < 0.05:\n",
    "    print('The difference between the groups is statistically significant.')\n",
    "else:\n",
    "    print('There is no significant difference between the groups.')"
   ]
  },
  {
   "cell_type": "code",
   "execution_count": 70,
   "id": "36f4e546",
   "metadata": {
    "scrolled": true
   },
   "outputs": [
    {
     "name": "stderr",
     "output_type": "stream",
     "text": [
      "C:\\Users\\kaiso\\AppData\\Roaming\\Python\\Python310\\site-packages\\researchpy\\ttest.py:38: FutureWarning: The series.append method is deprecated and will be removed from pandas in a future version. Use pandas.concat instead.\n",
      "  groups = group1.append(group2, ignore_index= True)\n"
     ]
    },
    {
     "data": {
      "text/plain": [
       "(   Variable      N      Mean        SD       SE  95% Conf.  Interval\n",
       " 0       TTR   78.0  0.422665  0.105271  0.01192   0.398930  0.446400\n",
       " 1       TTR   57.0  0.456495  0.106073  0.01405   0.428350  0.484640\n",
       " 2  combined  135.0  0.436949  0.106543  0.00917   0.418813  0.455085,\n",
       "         Satterthwaite t-test   results\n",
       " 0  Difference (TTR - TTR) =    -0.0338\n",
       " 1      Degrees of freedom =   120.2994\n",
       " 2                       t =    -1.8361\n",
       " 3   Two side test p value =     0.0688\n",
       " 4  Difference < 0 p value =     0.0344\n",
       " 5  Difference > 0 p value =     0.9656\n",
       " 6               Cohen's d =    -0.3203\n",
       " 7               Hedge's g =    -0.3185\n",
       " 8          Glass's delta1 =    -0.3214\n",
       " 9        Point-Biserial r =    -0.1651)"
      ]
     },
     "execution_count": 70,
     "metadata": {},
     "output_type": "execute_result"
    }
   ],
   "source": [
    "ad = df[df['basedx'] == '1']['TTR']\n",
    "hc = df[df['basedx'] == '8']['TTR']\n",
    "\n",
    "\n",
    "huh = rp(ad, hc, equal_variances=False)\n",
    "huh"
   ]
  },
  {
   "cell_type": "code",
   "execution_count": 71,
   "id": "c5299487",
   "metadata": {},
   "outputs": [
    {
     "data": {
      "image/png": "[encoded data removed]",
      "text/plain": [
       "<Figure size 1000x600 with 1 Axes>"
      ]
     },
     "metadata": {},
     "output_type": "display_data"
    },
    {
     "data": {
      "image/png": "[encoded data removed]",
      "text/plain": [
       "<Figure size 1000x600 with 1 Axes>"
      ]
     },
     "metadata": {},
     "output_type": "display_data"
    }
   ],
   "source": [
    "ad_ddf = df[df['basedx'] == '1']\n",
    "plt.figure(figsize=(10, 6))\n",
    "n, bins, _ = plt.hist(ad_ddf['Age'], edgecolor='black', bins = 10) \n",
    "plt.xlabel('Age (years)')\n",
    "plt.ylabel('Number of Samples')\n",
    "plt.title('Age in participants with AD')\n",
    "plt.grid(True)\n",
    "\n",
    "\n",
    "\n",
    "control_ddf = df[df['basedx'] == '8']\n",
    "plt.figure(figsize=(10, 6))\n",
    "n, bins, _ = plt.hist(control_ddf['Age'],edgecolor='black', bins=10)  \n",
    "plt.xlabel('Age (years)')\n",
    "plt.ylabel('Number of Samples')\n",
    "plt.title('Age in Control participants')\n",
    "plt.grid(True)\n",
    "\n",
    "plt.show()"
   ]
  },
  {
   "cell_type": "code",
   "execution_count": 72,
   "id": "a6d2844f",
   "metadata": {},
   "outputs": [
    {
     "data": {
      "image/png": "[encoded data removed]",
      "text/plain": [
       "<Figure size 1000x600 with 1 Axes>"
      ]
     },
     "metadata": {},
     "output_type": "display_data"
    },
    {
     "data": {
      "image/png": "[encoded data removed]",
      "text/plain": [
       "<Figure size 1000x600 with 1 Axes>"
      ]
     },
     "metadata": {},
     "output_type": "display_data"
    }
   ],
   "source": [
    "ad_ddf = df[df['basedx'] == '1']\n",
    "plt.figure(figsize=(10, 6))\n",
    "n, bins, _ = plt.hist(ad_ddf['educ'], edgecolor='black', bins=10)  \n",
    "plt.xlabel('Years of Education')\n",
    "plt.ylabel('Number of Samples')\n",
    "plt.title('Years of Education in participants with AD')\n",
    "plt.grid(True)\n",
    "\n",
    "\n",
    "control_ddf = df[df['basedx'] == '8']\n",
    "plt.figure(figsize=(10, 6))\n",
    "n, bins, _ = plt.hist(control_ddf['educ'],edgecolor='black', bins=10)  \n",
    "plt.xlabel('Years of Education')\n",
    "plt.ylabel('Number of Samples')\n",
    "plt.title('Years of Education in Control participants')\n",
    "plt.grid(True)\n",
    "\n",
    "plt.show()"
   ]
  },
  {
   "cell_type": "code",
   "execution_count": 73,
   "id": "47794e1f",
   "metadata": {},
   "outputs": [
    {
     "ename": "KeyError",
     "evalue": "'TTR'",
     "output_type": "error",
     "traceback": [
      "\u001b[1;31m---------------------------------------------------------------------------\u001b[0m",
      "\u001b[1;31mKeyError\u001b[0m                                  Traceback (most recent call last)",
      "File \u001b[1;32m~\\AppData\\Roaming\\Python\\Python310\\site-packages\\pandas\\core\\indexes\\base.py:3803\u001b[0m, in \u001b[0;36mIndex.get_loc\u001b[1;34m(self, key, method, tolerance)\u001b[0m\n\u001b[0;32m   3802\u001b[0m \u001b[38;5;28;01mtry\u001b[39;00m:\n\u001b[1;32m-> 3803\u001b[0m     \u001b[38;5;28;01mreturn\u001b[39;00m \u001b[38;5;28;43mself\u001b[39;49m\u001b[38;5;241;43m.\u001b[39;49m\u001b[43m_engine\u001b[49m\u001b[38;5;241;43m.\u001b[39;49m\u001b[43mget_loc\u001b[49m\u001b[43m(\u001b[49m\u001b[43mcasted_key\u001b[49m\u001b[43m)\u001b[49m\n\u001b[0;32m   3804\u001b[0m \u001b[38;5;28;01mexcept\u001b[39;00m \u001b[38;5;167;01mKeyError\u001b[39;00m \u001b[38;5;28;01mas\u001b[39;00m err:\n",
      "File \u001b[1;32m~\\AppData\\Roaming\\Python\\Python310\\site-packages\\pandas\\_libs\\index.pyx:138\u001b[0m, in \u001b[0;36mpandas._libs.index.IndexEngine.get_loc\u001b[1;34m()\u001b[0m\n",
      "File \u001b[1;32m~\\AppData\\Roaming\\Python\\Python310\\site-packages\\pandas\\_libs\\index.pyx:146\u001b[0m, in \u001b[0;36mpandas._libs.index.IndexEngine.get_loc\u001b[1;34m()\u001b[0m\n",
      "File \u001b[1;32mpandas\\_libs\\index_class_helper.pxi:49\u001b[0m, in \u001b[0;36mpandas._libs.index.Int64Engine._check_type\u001b[1;34m()\u001b[0m\n",
      "\u001b[1;31mKeyError\u001b[0m: 'TTR'",
      "\nThe above exception was the direct cause of the following exception:\n",
      "\u001b[1;31mKeyError\u001b[0m                                  Traceback (most recent call last)",
      "Cell \u001b[1;32mIn[73], line 9\u001b[0m\n\u001b[0;32m      5\u001b[0m \u001b[38;5;66;03m#plt.hist(ad_ddf, bins=30, alpha=0.5, color='blue', label='Data 1', density=True)\u001b[39;00m\n\u001b[0;32m      6\u001b[0m \u001b[38;5;66;03m#plt.hist(control_ddf, bins=30, alpha=0.5, color='red', label='Data 2', density=True)\u001b[39;00m\n\u001b[0;32m      8\u001b[0m plt\u001b[38;5;241m.\u001b[39mfigure(figsize\u001b[38;5;241m=\u001b[39m(\u001b[38;5;241m10\u001b[39m, \u001b[38;5;241m6\u001b[39m))\n\u001b[1;32m----> 9\u001b[0m n, bins, _ \u001b[38;5;241m=\u001b[39m plt\u001b[38;5;241m.\u001b[39mhist(\u001b[43mad_ddf\u001b[49m\u001b[43m[\u001b[49m\u001b[38;5;124;43m'\u001b[39;49m\u001b[38;5;124;43mTTR\u001b[39;49m\u001b[38;5;124;43m'\u001b[39;49m\u001b[43m]\u001b[49m, edgecolor\u001b[38;5;241m=\u001b[39m\u001b[38;5;124m'\u001b[39m\u001b[38;5;124mblack\u001b[39m\u001b[38;5;124m'\u001b[39m, bins\u001b[38;5;241m=\u001b[39m\u001b[38;5;241m10\u001b[39m)\n\u001b[0;32m     10\u001b[0m \u001b[38;5;66;03m# Add labels and legend\u001b[39;00m\n\u001b[0;32m     11\u001b[0m plt\u001b[38;5;241m.\u001b[39mxlabel(\u001b[38;5;124m'\u001b[39m\u001b[38;5;124mValue\u001b[39m\u001b[38;5;124m'\u001b[39m)\n",
      "File \u001b[1;32m~\\AppData\\Roaming\\Python\\Python310\\site-packages\\pandas\\core\\series.py:981\u001b[0m, in \u001b[0;36mSeries.__getitem__\u001b[1;34m(self, key)\u001b[0m\n\u001b[0;32m    978\u001b[0m     \u001b[38;5;28;01mreturn\u001b[39;00m \u001b[38;5;28mself\u001b[39m\u001b[38;5;241m.\u001b[39m_values[key]\n\u001b[0;32m    980\u001b[0m \u001b[38;5;28;01melif\u001b[39;00m key_is_scalar:\n\u001b[1;32m--> 981\u001b[0m     \u001b[38;5;28;01mreturn\u001b[39;00m \u001b[38;5;28;43mself\u001b[39;49m\u001b[38;5;241;43m.\u001b[39;49m\u001b[43m_get_value\u001b[49m\u001b[43m(\u001b[49m\u001b[43mkey\u001b[49m\u001b[43m)\u001b[49m\n\u001b[0;32m    983\u001b[0m \u001b[38;5;28;01mif\u001b[39;00m is_hashable(key):\n\u001b[0;32m    984\u001b[0m     \u001b[38;5;66;03m# Otherwise index.get_value will raise InvalidIndexError\u001b[39;00m\n\u001b[0;32m    985\u001b[0m     \u001b[38;5;28;01mtry\u001b[39;00m:\n\u001b[0;32m    986\u001b[0m         \u001b[38;5;66;03m# For labels that don't resolve as scalars like tuples and frozensets\u001b[39;00m\n",
      "File \u001b[1;32m~\\AppData\\Roaming\\Python\\Python310\\site-packages\\pandas\\core\\series.py:1089\u001b[0m, in \u001b[0;36mSeries._get_value\u001b[1;34m(self, label, takeable)\u001b[0m\n\u001b[0;32m   1086\u001b[0m     \u001b[38;5;28;01mreturn\u001b[39;00m \u001b[38;5;28mself\u001b[39m\u001b[38;5;241m.\u001b[39m_values[label]\n\u001b[0;32m   1088\u001b[0m \u001b[38;5;66;03m# Similar to Index.get_value, but we do not fall back to positional\u001b[39;00m\n\u001b[1;32m-> 1089\u001b[0m loc \u001b[38;5;241m=\u001b[39m \u001b[38;5;28;43mself\u001b[39;49m\u001b[38;5;241;43m.\u001b[39;49m\u001b[43mindex\u001b[49m\u001b[38;5;241;43m.\u001b[39;49m\u001b[43mget_loc\u001b[49m\u001b[43m(\u001b[49m\u001b[43mlabel\u001b[49m\u001b[43m)\u001b[49m\n\u001b[0;32m   1090\u001b[0m \u001b[38;5;28;01mreturn\u001b[39;00m \u001b[38;5;28mself\u001b[39m\u001b[38;5;241m.\u001b[39mindex\u001b[38;5;241m.\u001b[39m_get_values_for_loc(\u001b[38;5;28mself\u001b[39m, loc, label)\n",
      "File \u001b[1;32m~\\AppData\\Roaming\\Python\\Python310\\site-packages\\pandas\\core\\indexes\\base.py:3805\u001b[0m, in \u001b[0;36mIndex.get_loc\u001b[1;34m(self, key, method, tolerance)\u001b[0m\n\u001b[0;32m   3803\u001b[0m     \u001b[38;5;28;01mreturn\u001b[39;00m \u001b[38;5;28mself\u001b[39m\u001b[38;5;241m.\u001b[39m_engine\u001b[38;5;241m.\u001b[39mget_loc(casted_key)\n\u001b[0;32m   3804\u001b[0m \u001b[38;5;28;01mexcept\u001b[39;00m \u001b[38;5;167;01mKeyError\u001b[39;00m \u001b[38;5;28;01mas\u001b[39;00m err:\n\u001b[1;32m-> 3805\u001b[0m     \u001b[38;5;28;01mraise\u001b[39;00m \u001b[38;5;167;01mKeyError\u001b[39;00m(key) \u001b[38;5;28;01mfrom\u001b[39;00m \u001b[38;5;21;01merr\u001b[39;00m\n\u001b[0;32m   3806\u001b[0m \u001b[38;5;28;01mexcept\u001b[39;00m \u001b[38;5;167;01mTypeError\u001b[39;00m:\n\u001b[0;32m   3807\u001b[0m     \u001b[38;5;66;03m# If we have a listlike key, _check_indexing_error will raise\u001b[39;00m\n\u001b[0;32m   3808\u001b[0m     \u001b[38;5;66;03m#  InvalidIndexError. Otherwise we fall through and re-raise\u001b[39;00m\n\u001b[0;32m   3809\u001b[0m     \u001b[38;5;66;03m#  the TypeError.\u001b[39;00m\n\u001b[0;32m   3810\u001b[0m     \u001b[38;5;28mself\u001b[39m\u001b[38;5;241m.\u001b[39m_check_indexing_error(key)\n",
      "\u001b[1;31mKeyError\u001b[0m: 'TTR'"
     ]
    },
    {
     "data": {
      "text/plain": [
       "<Figure size 1000x600 with 0 Axes>"
      ]
     },
     "metadata": {},
     "output_type": "display_data"
    }
   ],
   "source": [
    "ad_ddf = pd.to_numeric(df[df['basedx'] == '1']['basedx'], errors='coerce').dropna()\n",
    "control_ddf = pd.to_numeric(df[df['basedx'] == '8']['basedx'], errors='coerce').dropna()\n",
    "import matplotlib.pyplot as plt\n",
    "import numpy as np\n",
    "#plt.hist(ad_ddf, bins=30, alpha=0.5, color='blue', label='Data 1', density=True)\n",
    "#plt.hist(control_ddf, bins=30, alpha=0.5, color='red', label='Data 2', density=True)\n",
    "\n",
    "plt.figure(figsize=(10, 6))\n",
    "n, bins, _ = plt.hist(ad_ddf['TTR'], edgecolor='black', bins=10)\n",
    "plt.xlabel('Value')\n",
    "plt.ylabel('Frequency')\n",
    "plt.title('Overlapping Histograms of Two Datasets')\n",
    "plt.legend()\n",
    "\n",
    "plt.show()\n"
   ]
  },
  {
   "cell_type": "code",
   "execution_count": null,
   "id": "6585035b",
   "metadata": {},
   "outputs": [],
   "source": []
  },
  {
   "cell_type": "code",
   "execution_count": 75,
   "id": "ccab8143",
   "metadata": {},
   "outputs": [
    {
     "data": {
      "image/png": "[encoded data removed]",
      "text/plain": [
       "<Figure size 1000x600 with 1 Axes>"
      ]
     },
     "metadata": {},
     "output_type": "display_data"
    },
    {
     "data": {
      "image/png": "[encoded data removed]",
      "text/plain": [
       "<Figure size 1000x600 with 1 Axes>"
      ]
     },
     "metadata": {},
     "output_type": "display_data"
    }
   ],
   "source": [
    "ad_ddf = df[df['basedx'] == '1']\n",
    "plt.figure(figsize=(10, 6))\n",
    "n, bins, _ = plt.hist(ad_ddf['TTR'], edgecolor='black', bins=10)\n",
    "plt.xlabel('TTR Range')\n",
    "plt.ylabel('Number of Samples')\n",
    "plt.title('Type Token Ratio in Participants with AD')\n",
    "plt.grid(True)\n",
    "\n",
    "\n",
    "control_ddf = df[df['basedx'] == '8']\n",
    "plt.figure(figsize=(10, 6))\n",
    "n, bins, _ = plt.hist(control_ddf['TTR'],edgecolor='black')  \n",
    "plt.xlabel('TTR Range')\n",
    "plt.ylabel('Number of Samples')\n",
    "plt.title('Type Token Ratio in Control Participants')\n",
    "plt.grid(True)\n",
    "\n",
    "plt.show()\n"
   ]
  },
  {
   "cell_type": "code",
   "execution_count": 81,
   "id": "054c4294",
   "metadata": {},
   "outputs": [
    {
     "data": {
      "image/png": "[encoded data removed]",
      "text/plain": [
       "<Figure size 1000x600 with 1 Axes>"
      ]
     },
     "metadata": {},
     "output_type": "display_data"
    }
   ],
   "source": [
    "import matplotlib.pyplot as plt\n",
    "ad_ddf = df[df['basedx'] == '1']\n",
    "control_ddf = df[df['basedx'] == '8']\n",
    "\n",
    "\n",
    "plt.figure(figsize=(10, 6))\n",
    "\n",
    "\n",
    "plt.hist(ad_ddf['TTR'], bins=10, edgecolor='black', alpha=0.7, label='AD Participants')\n",
    "\n",
    "\n",
    "plt.hist(control_ddf['TTR'], bins=10, edgecolor='black', alpha=0.7, label='Control Participants')\n",
    "\n",
    "\n",
    "plt.xlabel('TTR Range')\n",
    "plt.ylabel('Number of Samples')\n",
    "#plt.title('Type Token Ratio Comparison')\n",
    "plt.grid(True)\n",
    "\n",
    "plt.legend()\n",
    "plt.show()\n"
   ]
  },
  {
   "cell_type": "code",
   "execution_count": 77,
   "id": "6a599a66",
   "metadata": {
    "scrolled": true
   },
   "outputs": [
    {
     "name": "stderr",
     "output_type": "stream",
     "text": [
      "C:\\Users\\kaiso\\AppData\\Local\\Temp\\ipykernel_7832\\722833870.py:2: FutureWarning: \n",
      "\n",
      "Passing `palette` without assigning `hue` is deprecated and will be removed in v0.14.0. Assign the `x` variable to `hue` and set `legend=False` for the same effect.\n",
      "\n",
      "  sns.boxplot(x='basedx', y='TTR', data=df, palette='coolwarm')\n"
     ]
    },
    {
     "data": {
      "image/png": "[encoded data removed]",
      "text/plain": [
       "<Figure size 800x600 with 1 Axes>"
      ]
     },
     "metadata": {},
     "output_type": "display_data"
    }
   ],
   "source": [
    "plt.figure(figsize=(8, 6))\n",
    "sns.boxplot(x='basedx', y='TTR', data=df, palette='coolwarm')\n",
    "\n",
    "#plt.title('TTR Distribution for Individuals With and Without AD')\n",
    "plt.xlabel('Participant Group')\n",
    "plt.ylabel('TTR')\n",
    "plt.xticks([0, 1], ['AD Group', 'Control Group'])\n",
    "p_value = 0.04 \n",
    "\n",
    "if p_value < 0.05:\n",
    "    ylim = plt.gca().get_ylim() \n",
    "    offset = 0.06 * (ylim[1] - ylim[0]) \n",
    "    plt.text(0, ylim[1] - offset, '*', ha='center', va='bottom', fontsize=16) \n",
    "    plt.text(1, ylim[1] - offset, '*', ha='center', va='bottom', fontsize=16)"
   ]
  },
  {
   "cell_type": "code",
   "execution_count": null,
   "id": "4f0eb82e",
   "metadata": {},
   "outputs": [],
   "source": []
  },
  {
   "cell_type": "code",
   "execution_count": 78,
   "id": "d530be82",
   "metadata": {
    "scrolled": true
   },
   "outputs": [
    {
     "name": "stdout",
     "output_type": "stream",
     "text": [
      "    File Name  \\\n",
      "20  158-3.cha   \n",
      "21  164-3.cha   \n",
      "22  168-1.cha   \n",
      "23  171-1.cha   \n",
      "24  172-3.cha   \n",
      "25  173-1.cha   \n",
      "26  018-0.cha   \n",
      "27  182-3.cha   \n",
      "28  183-3.cha   \n",
      "29  184-2.cha   \n",
      "30  192-2.cha   \n",
      "31  196-1.cha   \n",
      "32  203-1.cha   \n",
      "33  207-0.cha   \n",
      "34  208-2.cha   \n",
      "35  209-3.cha   \n",
      "36  021-4.cha   \n",
      "37  210-2.cha   \n",
      "38  211-2.cha   \n",
      "39  213-3.cha   \n",
      "40  218-1.cha   \n",
      "\n",
      "                                                                                                                                                                                                                                                                                                                                                                                                                                                                                                                                                                                                                                                                                                                                            Transcript  \\\n",
      "20                                                                                                                                                                                                                                                                                                                                              well the stool pwret is fa the stool the boy is taking cookies outof the cookie jar . the little girl is reaching for a cookie . and holding her arm up the mother is drying is doing dishes . the water is spilling outof the sink . and the mothers standing in the water . the mother is looking outof the window . the waters coming outof the faucet . thats about all I can . , get outof that .   \n",
      "21                                                                                                                                                                                                                                                                                                                                                                                                                                                              okay the boys in the cookie jar . hes . hes gonna fall off his stool . the mothers . tubs running over .. on the floor . kids gonna hit on the floor . wheres the girl at there ? and shes she reaching for a cookie . . poor old mom gotta g get her grunts ... thats about it, huh ?   \n",
      "22                                                                                                                                                                                                                                                                                                                                                                                                                      okay . theres a cook a b a boys a boy is . and she wants one . I dont know . the mothers washing dishes . she spilled it . . shes washing dishes . and . I can I can dance outside to you ? huh ? alright everything that you see happening . oh . ... oh hes gonna fall . and and shes laughing at them there . I dont know .   \n",
      "23                                                                                                                                                                                                                                                                                                                                                                                                                                                                                  well lets see . the boy is taking cookies outof the cookie jar . and the little girl is laughing . and the boy is falling off the stool . and the mothers washing dishes . and the water is running over . and .. I dont know whether the wind is blowing or not .   \n",
      "24                                                                                                                                                                                                                                                                                                                                          okay . little boy is reaching for the cookie jar . in so doing hes tipping over the and hes handing them so doing hes tipping over the stool in the in front of the mother is washing dishes . and at that time water is overflowing from the sink . shes wiping a dish at the time . and thats what I . her feet are in the water . and thats as much as I see . her back is to the boy and to the girl .   \n",
      "25                                                                                                                                                                                                                                                                                                                                                                                                                                                                                                                          clearsthroat . lets see whats this this ? well the kælgal and the little boy . lay it down . pants and clothes and ... the little boys the little boys just sitting there . is this one getting through there ? I cant ...   \n",
      "26                                                  clearsthroat well clearsthroat the kids are are theyre grading they they are going and the mother does not see it because shes inside and the kids then just ... and I guess in the the picture here that the mother thats and all of a sudden somebody stepped in and all over the floor . ept that it did did not dry it up . it didnt splash from the it splashed from the no thats no thats no . Im too too trying to get too much outof it . and one one one one of the kids is gonna get a and maybe he has ... man ! this is its so ... some of the sometimes I I see it very clear and , a weak image, so to speak . and sometimes I have I just have this po . youre what what is in here   \n",
      "27                                                                                                                                                                                                                                                                                                                                                                                   well Johnnys falling off the stool . the boys falling off a stool after trying to steal cookies gonna give them to his sister . the mother is washing dishes . the waters running on the floor . windows open . the waters running . cant think of anything ... theyre in the kitchen . the little girls whispering or motioning to be quiet . I guess thats it .   \n",
      "28                                                                                                                                                                                                                                                                                                                                                                                                                                               theres alotof things going on in the picture . the boys falling off . d and hes touching the guh cookie getting cookies up the ladys washing dishes . the spigots opened . waters overflowing the sink . the windows open . shes walking in the water . cups on the counter and dish on the counter .   \n",
      "29                                                                                                                                                                                                                                                                                                                                                                                                                             clearsthroat okay Juniors in the kɪkɪcookie pnret and hes just about to go have himself an accident . his sisters standing down below waiting for a handful of and his moms washing sh drying the dishes I think and shes having problems because the sinks running over and as far as the action thats just about it .   \n",
      "30                                                                                                                                         okay . the little boy is climbing up in the getting cookies out the stools falling over . and the little girl has her hand up that she wants a cookie and and the door to the cabinet is open . and the mother is washing dishes . and the dishwash the dish water is overflowing in the sink and and theres shes drying a plate or washing it . whatever . and theres two cups and a plate on the counter top . and it looks like the window is open . and it has curtains pulled back at the window . and theres a little lane going around the house towards the back I and you can see another window .   \n",
      "31                                                                                                                                                                                                                                   mhm . sighs the little boy is reaching for a cookie . and hes falling at the same time because the stool has tipped over his little sister is reaching for a cookie and I think beginning to the sink is running over and dripping water on the floor while the the window is open . and the curtains are blowing in the breeze coming in from outside . the water is running in the sink . thats why its overflowing . .. I also believe that the mother is daydreaming .. possibly thats it . thats all I see .   \n",
      "32                                                                                                                                                                                                                                                                                                                                                                                                    the girls in the . trying ... ... hm did I get that ? and girl that clearsthroat . is drying does dishes right ? shes bʌʃɪŋwashing nkret gushing washing and theres two boys . one one is get a hoc cookies cookies jar .. in the and the the girls crying for the she and the girl ... whats it always say that ? upset the water up the sink .   \n",
      "33                                                             yes and tell me everything that you see going on in that the water ? well lets see . theres something hasta be where the water goes down over . theres probably something thats ... or they dont have it open or or something might have . I dont know . what ..? when the water goes down fingertap what what do you call this here . right here . this . what what do you call that ? what is that ? what is that ? I dont know ! thats what Im saying . I I dont know what that is . thewhat what its called ? a pipe . oh oh oh water pipe ! oh yeah . okay . well then maybe the water pipe is broke er not I dont know . huh ? whats happening to the water ? well the water is g   \n",
      "34                                                                                                                                                             can I start ? there is a boy on the stool . the stool is tipping over . the boy is taking cookies outof the jar . the cupboard is open . the girl is saying putting her finger to her mouth and also the mother is washing dishes . water is spilling over from the sink onto the floor . and the the window is open, the drapes are open . theres two cups and a saucer on the sink . and the she is stepping on the water on the floor . and she is drying the dishes . and she is looking outside at the wow at the shrubbery . the boy is handing the girl a cookie . that is all .   \n",
      "35                                   the sinks running over . the waters going all over the floor . here the boy the stepstool is and shes begging for cookies the girl is . coming back to the sink lets see here . aw mamas stepping in the water . and I clearsthroat I said the sink was running over . shes drying dishes . wait a minute . what the devil is ? . there is something but I dont know what it is written on what is that ? and . the curtains . thats a pl pl something there . es hm ... coughs lets see . I dont see anything else there . shes stepping in the water . the sinks running over . .. that spells something down there but I cant see it . coughs so far . and hes on a a stool thats gonna fall over while theyre   \n",
      "36                                                                                                                                                                                                                                                                                                                                                                                                                                                                                                                alright . a little girl is reaching for the cookie cookie that the the mother is drying the dish while the water is running outof the lets see . action action action action . no birds, geese . .. its all I can see . thats fine .   \n",
      "37  young boy is up at the cookie jar . he has the cookie jar opened . hes reaching for one for himself . hes handing one down to his sister . the three legged stool is coming down with him . theyre nicely dressed kids but the boy needs his socks mm thats all I see there . mother I presume its mother is at the sink . the water is running over outof sink . shes drying a dish . shes looking out the window . there are two cups and a dish, I presume thats a dish, that are nicely groomed . nice curtains pulled back . its apparently summer outside because the windows open and it you can see a window in the other part of the house . I presume thats still their house . and theres a driveway bordered with grass . and theres a   \n",
      "38                                                                                                                                                                                                                                                                                           a little girl is reaching for her brother to give her a cookie . the stool is falling over . the boy has taken the lid off the cookie jar, has a cookie in his the mother is drying the dishes . the water is flowing o running and flowing outof the sink . . mother is frowning . . theres nothing going on outside theres just bushes bushes the door is open . . the girl has looks like shes laughing . . a a ladys standing in the water . . okay ?   \n",
      "39                                                                                                                                                                                                                                                                                                                                                                                                                okay . its kindof shiny there . I ... mhm . . okay it looks like somebodys raiding the cookie jar . . theres a woman . working in the kitchen . . and theres this little girl here with something but I dont yeah Im trying to identify this thing . dɛdɪkxn trying to see . is that a table leg ? okay . Id say thats a table leg .   \n",
      "40                                                                                                                                                                                                                                                                                                                                                                  this is a clause copy copy cl by his ... yeah uhhuh . a mɪndəu nukret mɪdəu nukret the sun . mhm . his kɜu . jar ample rice clearsthroat discharged . jar charged . flexible . flexible . . jar my husband and ... is there somebody else there ? her too her . Lastname yeah . yeah . a lovely girl . a do guess getting older I see I so . jar oh no . this is oh I can just ...   \n",
      "\n",
      "   MSS Score  Age   id  Meet Num basedx  dx2 onsetage sex race  educ  \\\n",
      "20        28   81  158       3.0      8   -2       78   0    1    13   \n",
      "21        18   56  164       3.0      1   -2       49   1    1    14   \n",
      "22        14   68  168       1.0      1  730       64   0    1    11   \n",
      "23        30   66  171       1.0      8   -2       65   0    1    12   \n",
      "24        na   75  172       3.0      8   -2       72   0    1    12   \n",
      "25       NaN   71  173       1.0      1  NaN       66   0    1    13   \n",
      "26        11   66   18       0.0      1  730       63   1    1    15   \n",
      "27        na   66  182       3.0      8   -2       63   1    1    14   \n",
      "28        na   66  183       3.0      1  NaN       60   1    1    15   \n",
      "29        na   65  184       2.0      1  NaN       60   1    1    12   \n",
      "30        na   53  192       2.0      8  NaN       51   0    1    13   \n",
      "31        29   63  196       1.0      8  NaN       62   1    1    12   \n",
      "32        13   72  203       1.0      1  NaN       68   1    1    10   \n",
      "33        13   61  207       0.0      1  NaN       58   1    1     9   \n",
      "34        30   69  208       2.0      8   -2       67   1    1    12   \n",
      "35        30   69  209       3.0      8   -2       66   0    1    12   \n",
      "36        na   77   21       4.0      8   -2       73   0    1    12   \n",
      "37        29   69  210       2.0      8  NaN       67   1    1    13   \n",
      "38        30   68  211       2.0      8  NaN       66   0    1    13   \n",
      "39        na   66  213       3.0      1   -2       59   1    1    16   \n",
      "40       NaN   66  218       1.0      1  730       61   0    1    12   \n",
      "\n",
      "    Total Word Count  Unique_Word_Count       TTR  \n",
      "20                82                 37  0.451220  \n",
      "21                64                 38  0.593750  \n",
      "22                76                 30  0.394737  \n",
      "23                56                 29  0.517857  \n",
      "24                90                 29  0.322222  \n",
      "25                45                 20  0.444444  \n",
      "26               175                 52  0.297143  \n",
      "27                70                 40  0.571429  \n",
      "28                58                 31  0.534483  \n",
      "29                58                 40  0.689655  \n",
      "30               123                 50  0.406504  \n",
      "31               101                 42  0.415842  \n",
      "32                72                 32  0.444444  \n",
      "33               385                 55  0.142857  \n",
      "34               126                 40  0.317460  \n",
      "35               172                 45  0.261628  \n",
      "36                48                 25  0.520833  \n",
      "37               176                 54  0.306818  \n",
      "38                95                 38  0.400000  \n",
      "39                72                 37  0.513889  \n",
      "40                85                 34  0.400000  \n"
     ]
    }
   ],
   "source": [
    "ddf1 = df[df['basedx'] == '1']\n",
    "ddf1 = ddf1['Transcript']\n",
    "df_subset = df.iloc[20:41]\n",
    "\n",
    "print(df_subset)"
   ]
  },
  {
   "cell_type": "code",
   "execution_count": 92,
   "id": "81258cda",
   "metadata": {},
   "outputs": [
    {
     "data": {
      "image/png": "[encoded data removed]",
      "text/plain": [
       "<Figure size 800x600 with 1 Axes>"
      ]
     },
     "metadata": {},
     "output_type": "display_data"
    }
   ],
   "source": [
    "import matplotlib.pyplot as plt\n",
    "import seaborn as sns\n",
    "\n",
    "group_stats = df.groupby('basedx')['TTR'].agg(['mean', 'sem']).reset_index()\n",
    "group_stats.columns = ['basedx', 'mean', 'sem']\n",
    "\n",
    "plt.figure(figsize=(8, 6))\n",
    "bars = plt.bar(group_stats['basedx'], group_stats['mean'], yerr=group_stats['sem'], capsize=5, color=sns.color_palette('coolwarm', n_colors=len(group_stats['basedx'])), alpha=0.7, width=0.3)\n",
    "\n",
    "plt.xlabel('Participant Group')\n",
    "plt.ylabel('TTR')\n",
    "plt.xticks(ticks=group_stats['basedx'], labels=['AD Group', 'Control Group'])\n",
    "\n",
    "p_value = 0.04\n",
    "if p_value < 0.05:\n",
    "    ylim = plt.ylim() \n",
    "    offset = 0.01 * (ylim[1] - ylim[0]) \n",
    "\n",
    "    x_center = (plt.xlim()[0] + plt.xlim()[1]) / 2\n",
    "    y_center = max(group_stats['mean']) - 0.5 * max(group_stats['sem']\n",
    "    plt.text(x_center, y_center, '*', ha='center', va='bottom', fontsize=16) \n",
    "\n",
    "#plt.title('TTR Distribution for Individuals With and Without AD')\n",
    "\n",
    "plt.show()\n"
   ]
  },
  {
   "cell_type": "code",
   "execution_count": 79,
   "id": "c8f37265",
   "metadata": {
    "scrolled": true
   },
   "outputs": [
    {
     "data": {
      "text/plain": [
       "2                                                                                                                                                                                    the boy is taking cookies . the girl is is saying . quiet . hes hes the boy is falling off the stool . the mother is drying dishes . the water is running over the sink . the curtains are blowing in the breeze . hm hm hm . the girl is putting her hand up to have him pass the cookies . shes drying the dishes . the waters running over . its splashing on the floor . . well the windows open but thats not action . thats the curtain blowing right ? I guess thats it . hes passing her the cookies . did I say that ? and hes taking them out of the jar .\n",
       "3                                                                                                                                                                                                                                                                                                                                                                              little boy getting in the cookie jar . and the little girl holding out her hand for some cookies . and a stool the boy is on is about to tip over . and a lady is drying a dish . and the water is running over overflowing from the sink . you said just the action ? the lady is stepping in the water on the floor . hm I dont know whats going on outside the window .\n",
       "4                                                                                                                                                                                                                                                                                                                                                                                                                                                  everything that you see ? that I see them ? alright . the mother is drying dishes . the water is running outof the sink . the boy is going to fall off the stool . hes getting cookies . and the girl is waiting for a cookie from her is there more ? hm . I dont I dont see any other action there .\n",
       "5                                                                                                                                                                                                                                                                                                                                                    well the waters running over out of the sink . and the little boy is stealing a cookie . and hes about to fall off the stool . and the girl has her hand up to her mouth so she didnt want and the windows open . and it must be nice weather because the grass is pretty high and and sighs . the mother is daydreaming or shed see that the and the curtains seem to blowing brisk in the breeze .\n",
       "7                              okay . water running outof the sink . lady drying a plate . and a child getting cookies outof the cookie jar standing on a and a little girl reaching up for a cookie . and . curtains at the window . a path outside . a tree . a window into another room . shrubbery . grass . lets get back to the room again . theres a cup two cups and a plate sitting on the countertop cupboards . the lady has a apron on, dress, slippers . and the boy has on a short sleeve shirt, short pants, socks, and little girl has on a dress, socks, strap slippers . .. did I mention everything ? sink . faucet . with water running outof it . an open window behind the . the sink . tieback curtains . .. and thats all I see .\n",
       "9                                                                                                                                                                                                                                                      the little girls saying . dont tell my mother . shes reaching for a cookie . the boys getting cookies out of the cookie jar . the lid fell off the cookie jar . the stools ready to fall . its slanted . the ladys drying dishes . waters running outof the sink . faucets are running . dishes are sitting on the counter . the windows open . waters going on the floor . the lady has her back to the kids . looks like the drapes are blowing in the wind . thats about all there is isnt it ?\n",
       "10                                                                                                                                                                                                                                                                                                                                                                                                                                                                                                                                                     well the kids stealing cookies out of the jar and on a and his sisters waiting for him to hand her a cookie or the mother is looking out the window and the dishes are and Id say thats about it .\n",
       "11                                                                                                                                                                                                                                                                                                                                                                                                                                                                                                                 . okay . .. anywhere ? the little girls laughing . the little boys getting cookies and hes falling . I guess the mother would be doing dishes and the waters the windows open and I would say the wind is blowing . I guess thats it .\n",
       "12                                                                                                                                                                                                                                                    well the little girl is saying to be quiet to her brother . and her brothers in the cookie jar . and hes falling off the stool . the mothers oblivious to all . shes washing her dishes and the waters coming outof her sink . I dont know what shes thinking of . lets see what we have . anything outside ? . I guess those are bushes . I dont know . okay . nothing out there . these are okay . the dishes are okay . lets see . how are their shoes ? their socks are alright . I dont know .\n",
       "13                                                                                                                                                                                                                                                                                                                                                                                                                                                                                                          mhm . well the waters running over on the floor . the stool is tilting . the boy is into the cookie jar . and his sister is reaching for a cookie . the mothers drying dishes . do you want action or just want anything I see ? okay . mhm .\n",
       "14                                                                                                                                                                                                                                                                                                                                                                            well this little boy is up on the stool taking cookies and shes telling him to be quiet . and the stool is tipping over . the mother is washing or drying dishes . the water is running into the sink and running over down onto the the wind must be blowing because the curtains look like kitchen door the cabinet door is open . mothers standing in water . thats it .\n",
       "17                                                                                                                       okay the kid on the bench whos got his hand in the cookie jar and his mother is standing in a puddle of water because she didnt she oughta dry her feet instead . the window is open . well the sink is overflowing . its obviously summer because the window as I said was open . theres supposedly leaves on the trees . anything else that Im sposta pick up ? well the kids gonna fall off . and it . the lid is off the cookie jar . and hes got one in his hand and handing it to his sister . and one and hes sneaking another one . not sneaking . the water is still running in the sink . and splashing on the floor .\n",
       "19                                                                                                                                                                                                                                                                                                                                                                               well the mothers washing the dishes . the waters running out of the sink . .. the boy is . falling off the stool . while he takes the girl is gesturing . for him to be quiet . . the womans standing in water . shes looking out of the window, drying the dish . .. the . lid is off the cookie jar whether that means anything I think thats all I can see in there .\n",
       "20                                                                                                                                                                                                                                                                                                                                                 well the stool pwret is fa the stool the boy is taking cookies outof the cookie jar . the little girl is reaching for a cookie . and holding her arm up the mother is drying is doing dishes . the water is spilling outof the sink . and the mothers standing in the water . the mother is looking outof the window . the waters coming outof the faucet . thats about all I can . , get outof that .\n",
       "23                                                                                                                                                                                                                                                                                                                                                                                                                                                                                     well lets see . the boy is taking cookies outof the cookie jar . and the little girl is laughing . and the boy is falling off the stool . and the mothers washing dishes . and the water is running over . and .. I dont know whether the wind is blowing or not .\n",
       "24                                                                                                                                                                                                                                                                                                                                             okay . little boy is reaching for the cookie jar . in so doing hes tipping over the and hes handing them so doing hes tipping over the stool in the in front of the mother is washing dishes . and at that time water is overflowing from the sink . shes wiping a dish at the time . and thats what I . her feet are in the water . and thats as much as I see . her back is to the boy and to the girl .\n",
       "27                                                                                                                                                                                                                                                                                                                                                                                      well Johnnys falling off the stool . the boys falling off a stool after trying to steal cookies gonna give them to his sister . the mother is washing dishes . the waters running on the floor . windows open . the waters running . cant think of anything ... theyre in the kitchen . the little girls whispering or motioning to be quiet . I guess thats it .\n",
       "30                                                                                                                                            okay . the little boy is climbing up in the getting cookies out the stools falling over . and the little girl has her hand up that she wants a cookie and and the door to the cabinet is open . and the mother is washing dishes . and the dishwash the dish water is overflowing in the sink and and theres shes drying a plate or washing it . whatever . and theres two cups and a plate on the counter top . and it looks like the window is open . and it has curtains pulled back at the window . and theres a little lane going around the house towards the back I and you can see another window .\n",
       "31                                                                                                                                                                                                                                      mhm . sighs the little boy is reaching for a cookie . and hes falling at the same time because the stool has tipped over his little sister is reaching for a cookie and I think beginning to the sink is running over and dripping water on the floor while the the window is open . and the curtains are blowing in the breeze coming in from outside . the water is running in the sink . thats why its overflowing . .. I also believe that the mother is daydreaming .. possibly thats it . thats all I see .\n",
       "34                                                                                                                                                                can I start ? there is a boy on the stool . the stool is tipping over . the boy is taking cookies outof the jar . the cupboard is open . the girl is saying putting her finger to her mouth and also the mother is washing dishes . water is spilling over from the sink onto the floor . and the the window is open, the drapes are open . theres two cups and a saucer on the sink . and the she is stepping on the water on the floor . and she is drying the dishes . and she is looking outside at the wow at the shrubbery . the boy is handing the girl a cookie . that is all .\n",
       "35                                      the sinks running over . the waters going all over the floor . here the boy the stepstool is and shes begging for cookies the girl is . coming back to the sink lets see here . aw mamas stepping in the water . and I clearsthroat I said the sink was running over . shes drying dishes . wait a minute . what the devil is ? . there is something but I dont know what it is written on what is that ? and . the curtains . thats a pl pl something there . es hm ... coughs lets see . I dont see anything else there . shes stepping in the water . the sinks running over . .. that spells something down there but I cant see it . coughs so far . and hes on a a stool thats gonna fall over while theyre\n",
       "36                                                                                                                                                                                                                                                                                                                                                                                                                                                                                                                   alright . a little girl is reaching for the cookie cookie that the the mother is drying the dish while the water is running outof the lets see . action action action action . no birds, geese . .. its all I can see . thats fine .\n",
       "37     young boy is up at the cookie jar . he has the cookie jar opened . hes reaching for one for himself . hes handing one down to his sister . the three legged stool is coming down with him . theyre nicely dressed kids but the boy needs his socks mm thats all I see there . mother I presume its mother is at the sink . the water is running over outof sink . shes drying a dish . shes looking out the window . there are two cups and a dish, I presume thats a dish, that are nicely groomed . nice curtains pulled back . its apparently summer outside because the windows open and it you can see a window in the other part of the house . I presume thats still their house . and theres a driveway bordered with grass . and theres a\n",
       "38                                                                                                                                                                                                                                                                                              a little girl is reaching for her brother to give her a cookie . the stool is falling over . the boy has taken the lid off the cookie jar, has a cookie in his the mother is drying the dishes . the water is flowing o running and flowing outof the sink . . mother is frowning . . theres nothing going on outside theres just bushes bushes the door is open . . the girl has looks like shes laughing . . a a ladys standing in the water . . okay ?\n",
       "41                                                                                                                                                                                                                                                                                                                                                                                                oh goody . that boys climbed on a stool thats falling over to get a cookie . and the little girl is standing below him trying to get the and the mother is washing dishes while the waters running over and the window is the suns shining . theres two cups and this plate on the counter . and maybe the mother is drying a plate . thats all I see .\n",
       "44                                                                                                       okay . the mother is washing or drying the dishes . the water is overflowing onto the floor . the little boy is almost falling off of the stool and is getting a and hes giving it to his little sister . and . you can see the walk out the window . the the curtains are seem to be shaking in the wind . the window is open . and .. alotof water splashing on the floor . ... a woman is standing in the water . a wet floor . . the little girl is sort of motioning . her brother and shes reaching up to get the cookie that hes handing her .. the woman has a dish cloth in her hand wiping the dishes . thats about as much as I see .\n",
       "46                                                                                                                                       okay is there a number of things ? Imean eh eh do I hafta come up with a certain amount ? oh okay . okay . number one the boy is stealing some cookies and hes falling over and the sink is overflowing . you wanna know everything thats wrong with the picture or eh ..? everything thats happening . okay . it looks like its a nice summer day outside . and the ladys drying the dishes . and everything thats happening . and shes standing in the water . better get out of there . .. the girl seems to be giggling . looks like the mother is a little popissed off . and . thats about all I can see .\n",
       "47                                                                                                                                                                                                                                                                                                                                                                                                                              theres a child reaching for a cookie . the stool is tilted . the girl is possibly moving her finger towards her mouth and waters running outof the sink . the mothers drying dishes . somebodys gonna be screaming when the kid falls . I dont know if its action but mom was standing in water . thats about all I see .\n",
       "48                         okay . the waters running outof the sink overflowing . the mothers doing the dishes . the boy is falling off of the stool stealing the cookies out the young lady is holding her hand up ready to receive one of the there is a cup and a saucer on the sink board . and theres the drapes on the kitchen the and the top cabinets, the door is open and the cookie jar is in the the boy is up there reaching for it . and it looks like hes gonna fall off of the stool . and outside is a nice garden with the path leading around the house she has a dish towel in her hand doing drying one of the and she has her hairdo . shes wearing an apron . and the kids were wearing shoes . and h shes wearing shoes . and the\n",
       "52                                                                                                                                                                                                                                             .. . tell me . oh . oh by looking at the ... okay the boy the boy is standing on a h stool hes taking cookies outof the cookie cookie jar . the girl is like snickering at whats happening to him in a sense . so shes reaching up to take a cookie from his hand . the woman the mother is drying a dish . and the sink is flooding over overflowing . and theres water coming outof the spigot . and theres well actually happening or .. l ? well thats thats all thats in a way of movement but theres\n",
       "54                                                                                                                                                                                                                                                                                                                                                                                                                           well lets see . we have the water coming outof the spigot and the sink is stopped apparently the mother is drying a dish . we have the boy standing on a stool trying to get cookies outof and hes about to fall as the stool is tipping over . and the grass is growing and probably . but I guess thats about the action .\n",
       "55                                                                                                                                                                                                                                                                                                                                                                                                                                                                                            I see this woman whos standing by the sink washing dishes . and the waters spilling out over the sink . and I see a little this little boy standing on a stool and he looks like hes ready to fall . .. as far as action goes I dont know if I see any more\n",
       "56                                                      the boys the girls making fun of the boy . she made fun of him so much while he was stealing a cookie out and it made him trip . and hes going to fall . the mothers listening to the kids . shes drying dishes . she got the window open against a mirror . shes isnt paying attention to the sink . the sinks spilling water onto the floor . its getting her feet wet . the curtains are open to allow fresh air to come in the house theres two cups on the t a dish on the sink . and the faucets are open and the cupboard door is open . looks like it might be u spring or summer out because things she has shoes on . she has shoes on . he has shoes on . she has shoes on . she has a\n",
       "58                             its a kitchen scene . and the mother is doing the dishes . the children are trying to get into the cookie jar . the stool is falling over . the water is running over in the sink . the in it looks as though the window is open . and there . is grass and what have you, grass and trees looks like the curtains might be billowing a little . the little girl is asking the boy for a cookie . and lets see . the mothers drying the dishes . and .. shes standing in the water . looks like there are a couple dishes that have already been dried .. I guess thats all I see . pardon me ? I might have missed it what you said . oh I said the little boys trying to get some cookies outof the and the little girls\n",
       "63                                                                                                                                                                                                                                                                                                         everything thats going on okay . mothers wiping dishes . the sink is overflowing . the mothers looking out the window . the little boy is getting cookies outof the cookie jar . the stool on which he is standing is tipping and the little girl I think is asking for a cookie . . I did say the sinks overflowing . why isnt anything do anybody doing anything about that ? theres dishes on the on the ou on the counter . isnt that it ?\n",
       "69                                                                                                                                                                                                                                                                                             girl is reaching up . the boy is is taking cookies outof the cookie jar . the stool is tilting . mother is washing the dishes . the waters running over . the wind is blowing the curtains . . the mother is drying the dishes . the boy is reaching down to I guess his sister . the boy is climbing but hes gonna fall . . and the mothers drying the dishes . I think I said that . the waters running and running down . and thats all I see on that .\n",
       "70                                                                                                                                                                                                                                                                                                                 okay . the boy is standing up trying to get the cookie jar and the the girl is reaching up to get a cookie outof his hand . the mother is at the window washing dishes . the sink is overflowing on getting on her shoes . and there are saucers and a plate on the ... oh you wanna know what is going on ? you want me to tell you whats on the sink too and everything oh . well that is thats all I see happening plus stuff going\n",
       "71                                                                                                                                                                                                                                                                                                                                                                                                                                                                                     the kids are swiping some cookies . and and a stool is upsetting . and the kid the girls telling him to be quiet so his and the windows up . and I dont see much more than that . shes drying dishes . did you say action ? I about it . cookie jar lids falling .\n",
       "73                                                                                                                                                                                                                                                                                                                                                                                                                                                                                                        little girl with her finger to her lips . the boy on the stool . stool tipping over . getting cookies outof the cookie jar . mother washing dishes . water running . sink overflowing . those curtains are blowing or not . .. thats about it .\n",
       "74                                                                                                                                                                                                                                                                                                                                                   the water is running outof the sink . and the kids falling off of the stool . hes stealing some cookies . and the little girl says dont tell your mother who is standing washing dishes I guess maybe drying them I dont know . and guess the waters splashing all over the floor . that kid dont fall out fall off that stool hes gonna break and getting the cookies . thats about all I can see .\n",
       "77                                                                                                                                                                                                                                                                                                                                                                                                                                            oh my . well the stool is falling over . and the boy is reaching for the cookie and is handing it to that and shes telling him to be quiet because the mother is going to and the . sink is splashed over with water as the mother is still and her feet are getting soaking wet . is there more you want ?\n",
       "79                                                                                                                                                                                                      everything, not things that are just bad right ? okay . there are two little kids a boy and a girl . on a the boys on a stool which is falling over getting the cookies are in the cabinet with the lid off . . and its in the kitchen . the mother is washing dishes at the window with a curtain on the a walk outside with trees and grass . the water is running over in the sink onto the floor . the mother is drying a dish, and stepping in the water . theres a plate and two cups sitting on the cabinet . the mother has an apron on .\n",
       "81                                                                                                                                                                                                                                                                                                                                                                                                                                                                                                                                    the waters running on the floor . boys taking cookies outof cookie outof the cookie jar . the stool is falling over srret over . the girl was asking for a cookie . the wife is wiping a dish plate . I guess not .\n",
       "82                                                                                                                                                                                                                                                                                                                                       ... inside the room or every place ? sighs . oh I can oh you dont want me to memorize it ! oh . okay, the the little girl asking for the cookie from the boy and shes going I guess shush or give me one . the mothers we dont think she might be on drugs and its summer outside because the windows open and the and .. shes drying dishes with her apron on . . and the cookie jars looking full . thats it .\n",
       "84                                                                                                                                                        tell you everything thats going on ? theres a little girl asking her brother for a cookie . he is on a step hes on a high stepstool reaching up high and the stool is going out from under him . he is going to fall . the mother is washing dishes and not paying attention . the sink the water in the sink is overflowing . she doesnt seem to be aware of it . the through the window we can see a walkway then a grassy area theres two au two cups and a plate on a kitchen counter . .. the cookie jar is full . and the boy has the lid off and has one cookie in his hand . thats it .\n",
       "85                                                                                                                                                                                            okay . the sink is running over . shes standing in the sink . the mother is . the mother is also drying dishes . the little boy is getting cookies outof the cookie jar handing it outside you can see the outside window . I dont know if thats a little bit of action I guess . the cookie jar lid is has fallen over to the side . okay . it looks like the curtains are blowing . and it looks like the mother has completed washing at least process of doing the other ones . okay . and . action would be the door hanging open where the cookie jar\n",
       "93                                                                                                                                                                                                                                                                                                                                                                                                                                                                                                   the sink is overflowing . mother is drying a dish . okay the boy is falling off the stool while hes getting a the girl is reaching up for a cookie . lets see . dishes on the counter but theres no action with them I guess guess thats all I see .\n",
       "104                                                                                                                                                                                                                                                                                                                                                                                                                                                                                                                                                                                 I see a young boy falling off a stool stealing cookies . the mother drying dishes . the sink overflowing . .. a little girl saying be quiet to her brother . ready to\n",
       "107                                                                                                                                                                                                                                                                                                                     clearsthroat a girl and a boy and a stool . cookies . cookie jar . open closet . curtains . oh the little boys reaching for the cookies and the stools shes laughing I think i waiting for a cookie . the mothers drying dishes . the waters spilling over . theres two tea coffee cups, a saucer a plate . let me see . the . view from the outside . a tree and some shrubs . .. the plate shes wiping . tea towel . any more ?\n",
       "114                                                                                                                                                                                                                                      well for one thing the boy is stealing cookies . and the girl is asking for a cookie . and the boy is standing on a . stool which is tipping over . and the ladys drying a plate . and the . water is running in the sink and overflowing on the and the window is open . and . I dont know that theres anything special going on outside seems to me that thats essentially the things that are the girl is picking her nose . the boy is handing her a cookie . . really those are the only activities I see .\n",
       "118                                                                                                                                                                                                                                        well the boys trying to get in this cookie jar . and the stool overturns . and the little girl is expecting to hand her a cookie . the mother is her sink is running over . and shes standing in some of the water . and shes drying a dish or wiping a dish . and . you said everything is happening . .. well the water is still running in the sink . and I said its its overflowing . and shes standing in the water . and thats ... I guess . look somebody laying in the lawn out there . but I cant ...\n",
       "121                                          the boy is reaching into the cookie jar . hes falling off the stool . the little girl is reaching for a cookie . mother is drying the dishes . the sink is running over . mothers getting her feet wet . they all have shoes on . theres a cup two cups and a saucer on the sink . the window has draw drawn drapes . you look out on the driveway . theres kitchen cabinets . oh whats happening . mother is looking out the window . the girl is touching her lips . the boy is standing on his right foot . his left foot is sortof up in the air . mothers right foot is flat on the floor and her left shes shes holding the dish cloth in her right hand and the plate I think Ive run out of . yeah .\n",
       "122                                                                                                                                                                                                                                                                                                                       mhm . mhm alotof things are happening . yes the waters going over . the waters overflowing . and the little boy is slipping off the stool while hes and the little girl is laughing at him and shes not happy in and the lady is drying the dishes and looking out the window . its beautiful out there . it must be June . I dont know but it anyhow it looks like its not winter clearsthroat and thats about all I can see .\n",
       "124                                  alright . the little boy girls reaching up there . and shes got her finger to her lips . and the boys on a stool standing on a stool but its gonna hes reaching for cookies . and the mother has her back to them . she doesnt see them but her she hasnt payed any attention to its running all over the place . her window is open . and theres a nice garden and a garage out back . shes drying some dishes . she has an apron on . her dress is sleeveless . has a pretty nice kitchen like pretty nice curtains on it . and the jar the cookie jar lid is off . she has a couple cups and she has a couple plates but she better the little girl has socks and shoes on and a short dress and long and the boy\n",
       "130                                                                                                                                                                             the woman is the the mother is washing and the sink the the faucets on and the sink is running and the the boy is taking cookies outof the cookie jar and the girl is saying . be quiet . and shes put her hand up ready to take a cookie that hes gonna and . the window is open . hm hm hm hm .. the mothers standing in the . shes doesnt . oh whats whats going on . you dont want any of the whats in the picture right ? inhales theres a cup and shes already dried two cups and a dish and .. thats it . the lid is off the cookie jar . I guess thats about it .\n",
       "133                                                                                                                                                                                                                                                                                                                                                                                                                                 the girls reaching for a cookie . the boy is reaching in the cookie jar . hes standing on the stool . the stool is tipping over . sho the girl with her finger to her mouth . the mother is drying a dish . the sink is overflowing with water . the things that are doing, not things that are going on ? thats it .\n",
       "134                                                                                                                                                                                                                                                                                                                                              well I see the mother doing the dishes . the sink the water running over in the sink . the boys taking cookies from the cookie jar . and he l the stool is falling over . and the little girl has her hands up to her mouth in other words to and the stools falling . yeah thats it . she has her hand up for him to pass her a cookie then be quiet . mothers ... the dishes in the sink . yeah okay .\n",
       "Name: Transcript, dtype: object"
      ]
     },
     "execution_count": 79,
     "metadata": {},
     "output_type": "execute_result"
    }
   ],
   "source": [
    "ddf = df[df['basedx'] == '8']\n",
    "ddf = ddf['Transcript']\n",
    "ddf"
   ]
  },
  {
   "cell_type": "code",
   "execution_count": 80,
   "id": "29f22df2",
   "metadata": {},
   "outputs": [
    {
     "ename": "NameError",
     "evalue": "name 'nltk' is not defined",
     "output_type": "error",
     "traceback": [
      "\u001b[1;31m---------------------------------------------------------------------------\u001b[0m",
      "\u001b[1;31mNameError\u001b[0m                                 Traceback (most recent call last)",
      "Cell \u001b[1;32mIn[80], line 1\u001b[0m\n\u001b[1;32m----> 1\u001b[0m \u001b[43mnltk\u001b[49m\u001b[38;5;241m.\u001b[39mdownload(\u001b[38;5;124m'\u001b[39m\u001b[38;5;124mpunkt\u001b[39m\u001b[38;5;124m'\u001b[39m)\n\u001b[0;32m      2\u001b[0m \u001b[38;5;28;01mdef\u001b[39;00m \u001b[38;5;21mcount_pronouns\u001b[39m(text):\n\u001b[0;32m      3\u001b[0m     tokens \u001b[38;5;241m=\u001b[39m nltk\u001b[38;5;241m.\u001b[39mword_tokenize(text)\n",
      "\u001b[1;31mNameError\u001b[0m: name 'nltk' is not defined"
     ]
    }
   ],
   "source": [
    "nltk.download('punkt')\n",
    "def count_pronouns(text):\n",
    "    tokens = nltk.word_tokenize(text)\n",
    "    pos_tags = nltk.pos_tag(tokens)\n",
    "    pronouns = [word for word, tag in pos_tags if tag in ['PRP', 'PRP$', 'WP', 'WP$']]\n",
    "    return len(pronouns)\n",
    "\n",
    "df['Pronoun Count'] = df['Transcript'].apply(lambda x: count_pronouns(x))\n",
    "df['Pronoun Index'] = df['Total Word Count'] / df['Pronoun Count']\n",
    "df"
   ]
  },
  {
   "cell_type": "code",
   "execution_count": null,
   "id": "e5ea370e",
   "metadata": {},
   "outputs": [],
   "source": [
    "ad = df[df['basedx'] == '1']['Pronoun Index']\n",
    "hc = df[df['basedx'] == '8']['Pronoun Index']\n",
    "ad = ad[~ad.isin([np.inf, -np.inf])]\n",
    "hc = hc[~hc.isin([np.inf, -np.inf])]\n",
    "t_statistic, p_value = ttest_ind(ad, hc, nan_policy='omit')\n",
    "\n",
    "print(f'\\nT-statistic: {t_statistic}')\n",
    "print(f'P-value: {p_value}')\n",
    "if p_value < 0.05:\n",
    "    print('The difference between the groups is statistically significant.')\n",
    "else:\n",
    "    print('There is no significant difference between the groups.')"
   ]
  },
  {
   "cell_type": "code",
   "execution_count": null,
   "id": "c09a1756",
   "metadata": {
    "scrolled": true
   },
   "outputs": [],
   "source": [
    "nltk.download('punkt')\n",
    "\n",
    "\n",
    "def average_words_per_sentence(transcript):\n",
    "    sentences = nltk.sent_tokenize(transcript)\n",
    "    words_per_sentence = [len(nltk.word_tokenize(sentence)) for sentence in sentences]\n",
    "    if words_per_sentence:\n",
    "        average_words = sum(words_per_sentence) / len(words_per_sentence)\n",
    "    else:\n",
    "        average_words = 0 \n",
    "    return average_words\n",
    "\n",
    "df['Average Words per Sentence'] = df['Transcript'].apply(average_words_per_sentence)\n",
    "\n",
    "df_filtered = df[(df['basedx'] == '1') & (df['educ'] >= 16)]\n",
    "\n",
    "df_filtered['Average Words per Sentence'] = df_filtered['Transcript'].apply(average_words_per_sentence)\n",
    "\n",
    "mean_mean_words_per_sentence = df_filtered['Average Words per Sentence'].mean()\n",
    "print(\"Mean mean words per sentence for rows with basedx=1 and educ < 16:\", mean_mean_words_per_sentence)\n"
   ]
  }
 ],
 "metadata": {
  "kernelspec": {
   "display_name": "Python 3 (ipykernel)",
   "language": "python",
   "name": "python3"
  },
  "language_info": {
   "codemirror_mode": {
    "name": "ipython",
    "version": 3
   },
   "file_extension": ".py",
   "mimetype": "text/x-python",
   "name": "python",
   "nbconvert_exporter": "python",
   "pygments_lexer": "ipython3",
   "version": "3.10.9"
  }
 },
 "nbformat": 4,
 "nbformat_minor": 5
}
