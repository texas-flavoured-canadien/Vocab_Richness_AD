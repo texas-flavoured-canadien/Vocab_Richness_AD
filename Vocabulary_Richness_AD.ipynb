{
 "cells": [
  {
   "cell_type": "code",
   "execution_count": 1,
   "id": "3005704a",
   "metadata": {},
   "outputs": [],
   "source": [
    "# Please email macw@cmu.edu to gain access to the Pitt corpus from DementiaBank. Made by Andi Liu"
   ]
  },
  {
   "cell_type": "markdown",
   "id": "99f191dc",
   "metadata": {},
   "source": [
    "# Preprocessing"
   ]
  },
  {
   "cell_type": "code",
   "execution_count": 2,
   "id": "4b32ea4a",
   "metadata": {},
   "outputs": [],
   "source": [
    "import pandas as pd\n",
    "import zipfile\n",
    "import io\n",
    "\n",
    "import re\n",
    "import numpy as np\\\n",
    "\n",
    "from collections import Counter\n",
    "from scipy.stats import ttest_ind\n",
    "from scipy.stats import pearsonr\n",
    "from scipy.stats import shapiro\n",
    "from scipy import stats\n",
    "from researchpy import ttest as rp\n",
    "import matplotlib.pyplot as plt\n",
    "import seaborn as sns"
   ]
  },
  {
   "cell_type": "code",
   "execution_count": 3,
   "id": "a9b404da",
   "metadata": {
    "scrolled": true
   },
   "outputs": [],
   "source": [
    "data = []\n",
    "\n",
    "zip_filename = 'Pitt.zip'\n",
    "with zipfile.ZipFile(zip_filename, 'r') as zip_ref:\n",
    "    cha_files = [file for file in zip_ref.namelist() if file.endswith('.cha')]\n",
    "\n",
    "    for file_name in cha_files:\n",
    "        with zip_ref.open(file_name) as file:\n",
    "            lines = io.TextIOWrapper(file, 'utf-8', newline='', line_buffering=True).readlines()\n",
    "\n",
    "        participant_id = None\n",
    "        transcript = []\n",
    "        patient_data = None\n",
    "\n",
    "        for line in lines:\n",
    "            if line.startswith('@ID:') and 'PAR' in line: \n",
    "                if participant_id and transcript:\n",
    "                    data.append({'Participant ID': participant_id, 'Transcript': ' '.join(transcript), 'Patient Data': patient_data, 'File Name': file_name})\n",
    "                    transcript = []\n",
    "                participant_id = line.strip().split()[-1]\n",
    "                patient_data = line.strip() \n",
    "            elif line.startswith('*'):\n",
    "                transcript.append(line.strip())\n",
    "\n",
    "        if participant_id and transcript:\n",
    "            data.append({'File Name': file_name,'Patient Demographic': patient_data, 'Transcript': ' '.join(transcript)})\n",
    "\n",
    "\n",
    "pd.set_option('display.max_colwidth', None)\n",
    "df = pd.DataFrame(data)\n",
    "\n",
    "def process_transcript(text):\n",
    "    return re.sub(r'(\\w+)\\s*:\\[(\\w+)]', r'[\\2]', text)"
   ]
  },
  {
   "cell_type": "code",
   "execution_count": 4,
   "id": "76c89e39",
   "metadata": {},
   "outputs": [],
   "source": [
    "def extract_word_after_format(text):\n",
    "    pattern = r'\\w+\\s+\\[: ([^\\]]+?)\\]'\n",
    "    replacement = r'\\1'\n",
    "    return re.sub(pattern, replacement, text)\n",
    "\n",
    "df['Transcript'] = df['Transcript'].apply(extract_word_after_format)"
   ]
  },
  {
   "cell_type": "code",
   "execution_count": 5,
   "id": "8c5d17a5",
   "metadata": {},
   "outputs": [],
   "source": [
    "df['Transcript'] = df['Transcript'].str.replace(r'&\\+hp|&\\+s|&\\+c|&\\+wa|&\\+m|&\\+w|&\\+t|&\\+a|&\\+prob|&\\+house|&\\+k|&\\+fauc|&\\+r|&\\+pa|&\\+th|&\\+sh|&\\+y|&\\+diffi|&\\+ree|&\\+laun|&\\+het|&\\+fri|&\\+liv|&\\+op|&\\+des|&\\+go|&\\+i|&\\+ha', '', regex=True)\n",
    "df['Transcript'] = df['Transcript'].str.replace(r'&=laughs|&=mumbles', '', regex=True)\n"
   ]
  },
  {
   "cell_type": "code",
   "execution_count": 6,
   "id": "ff6752b4",
   "metadata": {},
   "outputs": [
    {
     "name": "stderr",
     "output_type": "stream",
     "text": [
      "C:\\Users\\kaiso\\AppData\\Local\\Temp\\ipykernel_20600\\33270281.py:8: FutureWarning: The default value of regex will change from True to False in a future version.\n",
      "  df['Transcript'] = df['Transcript'].str.replace(r'[\\d_]', '') # remove numbers and underscores\n"
     ]
    }
   ],
   "source": [
    "df['Transcript'] = df['Transcript'].str.replace(r'\\[* p:n\\]', '', regex=True)\n",
    "df['Transcript'] = df['Transcript'].str.replace(r'\\[* p:n]', '', regex=True)\n",
    "df['Transcript'] = df['Transcript'].str.replace(r'\\[* s:r]', '', regex=True)\n",
    "df['Transcript'] = df['Transcript'].str.replace(r'\\[* s:uk]', '', regex=True)\n",
    "df['Transcript'] = df['Transcript'].str.replace(r'\\[* n:uk]', '', regex=True)\n",
    "df['Transcript'] = df['Transcript'].str.replace(r'&-(um|uh)\\b', '', regex=True)\n",
    "df['Transcript'] = df['Transcript'].str.replace(r'[^\\w\\s\\.,?!;]', '', regex=True)# remove punctuation expect .,!?;\n",
    "df['Transcript'] = df['Transcript'].str.replace(r'[\\d_]', '') # remove numbers and underscores\n",
    "df['Transcript'] = df['Transcript'].str.replace(r'INV.*?PAR', '', regex=True) # remove interviewer dialoge\n",
    "df['Transcript'] = df['Transcript'].str.replace(r'PAR\\t', '', regex=True)# remove PAR tag\n",
    "df['Transcript'] = df['Transcript'].str.replace(r'\\t', '', regex=True)# remove /t tag\n",
    "df['Transcript'] = df['Transcript'].str.replace(r'xxx', '', regex=True)# remove xxx\n",
    "df['Transcript'] = df['Transcript'].str.replace(r'exc', '', regex=True)# remove exe"
   ]
  },
  {
   "cell_type": "code",
   "execution_count": 7,
   "id": "0d863621",
   "metadata": {},
   "outputs": [],
   "source": [
    "def remove_words_after_inv(text):\n",
    "    pattern = r'INV.*'\n",
    "    replaced_text = re.sub(pattern, 'INV ', text)\n",
    "    return replaced_text\n",
    "\n",
    "df['Transcript'] = df['Transcript'].apply(remove_words_after_inv)\n",
    "df['Transcript'] = df['Transcript'].str.replace(r'INV\\t', '', regex=True)"
   ]
  },
  {
   "cell_type": "code",
   "execution_count": 8,
   "id": "12856612",
   "metadata": {},
   "outputs": [],
   "source": [
    "df['Transcript'] = df['Transcript'].str.replace(r'\\bINV\\b', '', regex=True)\n",
    "df['Transcript'] = df['Transcript'].str.replace(r'\\b&=coughs\\b', '', regex=True)"
   ]
  },
  {
   "cell_type": "code",
   "execution_count": 9,
   "id": "1d9d1349",
   "metadata": {},
   "outputs": [],
   "source": [
    "pd.set_option('display.html.use_mathjax', False)"
   ]
  },
  {
   "cell_type": "code",
   "execution_count": 10,
   "id": "881296da",
   "metadata": {},
   "outputs": [],
   "source": [
    "regex_dementia = r'Pitt/Dementia/cookie/'\n",
    "regex_control = r'Pitt/Control/cookie/'\n",
    "\n",
    "\n",
    "df['File Name'] = df['File Name'].str.replace(regex_dementia, '', regex=True)\n",
    "df['File Name'] = df['File Name'].str.replace(regex_control, '', regex=True)\n"
   ]
  },
  {
   "cell_type": "code",
   "execution_count": 11,
   "id": "1659fc7f",
   "metadata": {},
   "outputs": [],
   "source": [
    "#MSS score\n",
    "regex_last_number = r'(\\d{2})(?=[^\\d]*$)'\n",
    "\n",
    "df['MSS Score'] = df['Patient Demographic'].str.extract(regex_last_number)"
   ]
  },
  {
   "cell_type": "code",
   "execution_count": 12,
   "id": "82b9dcc4",
   "metadata": {},
   "outputs": [],
   "source": [
    "#Age\n",
    "regex_last_number = r'\\|(\\d{2})(?=;|\\.\\|)'\n",
    "\n",
    "df['Age'] = df['Patient Demographic'].str.extract(regex_last_number)"
   ]
  },
  {
   "cell_type": "code",
   "execution_count": 13,
   "id": "29de42da",
   "metadata": {},
   "outputs": [],
   "source": [
    "#id\n",
    "regex_last_number = r'(\\d{3})'\n",
    "\n",
    "df['id'] = df['File Name'].str.extract(regex_last_number)"
   ]
  },
  {
   "cell_type": "code",
   "execution_count": 14,
   "id": "9a873932",
   "metadata": {},
   "outputs": [],
   "source": [
    "#meet number\n",
    "pattern = r'-(\\d+)\\.cha'\n",
    "\n",
    "df['Meet Num'] = df['File Name'].str.extract(pattern)\n",
    "df['Meet Num'] = pd.to_numeric(df['Meet Num'])"
   ]
  },
  {
   "cell_type": "code",
   "execution_count": 15,
   "id": "7efff0e3",
   "metadata": {
    "scrolled": false
   },
   "outputs": [
    {
     "name": "stdout",
     "output_type": "stream",
     "text": [
      "There are rows with the same value in column 'A':\n",
      "     File Name                                         Patient Demographic  \\\n",
      "1    007-3.cha  @ID:\\teng|Pitt|PAR|75;|female|ProbableAD||Participant|15||   \n",
      "2    001-0.cha    @ID:\\teng|Pitt|PAR|57;|male|ProbableAD||Participant|18||   \n",
      "4    134-0.cha  @ID:\\teng|Pitt|PAR|77;|female|ProbableAD||Participant|24||   \n",
      "5    057-1.cha  @ID:\\teng|Pitt|PAR|84;|female|ProbableAD||Participant|24||   \n",
      "6    356-1.cha  @ID:\\teng|Pitt|PAR|58;|female|ProbableAD||Participant|18||   \n",
      "..         ...                                                         ...   \n",
      "544  056-4.cha      @ID:\\teng|Pitt|PAR|78;00.|male|Control||Participant|||   \n",
      "545  015-2.cha     @ID:\\teng|Pitt|PAR|68;|female|Control||Participant|30||   \n",
      "546  128-3.cha     @ID:\\teng|Pitt|PAR|73;|female|Control||Participant|29||   \n",
      "547  132-0.cha       @ID:\\teng|Pitt|PAR|58;|male|Control||Participant|30||   \n",
      "548  140-0.cha     @ID:\\teng|Pitt|PAR|58;|female|Control||Participant|30||   \n",
      "\n",
      "                                                                                                                                                                                                                                                                                                                                                                                                                                                                                                                                                                                                                                                                                                                                                                                                                                                                                                                                                                                                                                                                                                                                                                                                                                                                                                                                                                                                                                                                                                                                                                                                                                                                                                                                                                                                                                                                                                                                                                                                                                              Transcript  \\\n",
      "1                                                                                                                                                                                                                                                                                                                                                                                                                                                                                                                                                                                                                                                                                                                                                                                                                                                                                                                                                                                                                                                                                                                                                                                                                                                                                                                                                                                                                                                                                                                                                                                                          well the girl is telling the boy to get the cookies down but dont and the boy is also falling over off the stool .  and the mother is letting the water run outof the sink .  and shes drying dishes .  I dont quite get that but then  ...     she has water on the floor and  and basically its kindof everythings going haywire .  she needs to turn off the water .  if she turned off the water shed be a hundred percent better off .     \n",
      "2                                                                                                                                                                                                                                                                                                                                                                                                                                                                                                                                                                                                                                                                                                                                                                                                                                                                                                                                                                                                                                                                                                                                                                                                                                                                                                                                                                                                                                                                                                                                                                                                               mhm .     alright .    theres  a young boy thats getting a cookie jar .  and it  hes  in bad shape because  the thing is and in the picture the mother is washing dishes and doesnt see and so is the  the water is overflowing in the sink .  and the dishes might get falled  ed over if you dont  and it  there  its a picture of a kitchen window .  and the curtains are very  distinct .  but the water is flow still flowing .      \n",
      "4                                                                                                                                                                                                                                                                                                                                                                                                                                                                                                                                                                                                                                                                                                                                                                                                                                                                                                                                                                                                                                                                                                                                                                                                                                                                                                                                                                                                                                                                                                                                                                                                      well  theres a boy trying to get some cookies in  from the and then the little girl has her hand up for one .  and . theres  a stool thats ready to fall  that hes and theres a lady washing dishes .  and she spilled  and her sink is filled up full of water and shes standing by the window .   .   see the grass and the shrubbery outside .  and the two is  two cups and a plate to be   thats I dont know if its to be dried or what .      \n",
      "5                                                                                                                                                                                                                                                                                                                                                                                                                                                                                                                                                                                                                                                                                                                                                                                                                                                                                                                                                                                                                                                                                                                                                                                                                                                                                                                                                                                                                                                                                     you ready ?    the little girls going shh .  and shes also  reaching up to get a  cookie .  and the  l the little boy is reaching for a cookie .  and hes going to  his  the   the stool and hes holding a   a cookie in his  left hand .  and  the mothers drying dishes .  and  the water  the dish water is on and its pouring and  . the curtains are blowing .  the  the windows up .  ee let me see .    .. shes drying the dishes .  I dont know whether I said that or not .    ... I cant see any other  ...     the leaves are blowing on the trees .      \n",
      "6                                                                                                                                                                                                                                                                                                                                                                                                                                                                                                                                                                                                                                                                                                                                                                                                                                                                                                                                                                                                                                                                                                                                                                                                                                                                                                                                                                                                                                                                                                                                                                                                                                                                                 a cookie jar .  gram  and the kids  the boys going to get from the cookie jar .  and the mothers washing  drying dishes .  ohboy !    and then in here what happens  ?    where all that waters coming outof there  .  gram ohgosh .    and the little one I dont know what heshes  srret oy oy .    . hm that was it .    oh .    okay  what do I hafta do now ?        \n",
      "..                                                                                                                                                                                                                                                                                                                                                                                                                                                                                                                                                                                                                                                                                                                                                                                                                                                                                                                                                                                                                                                                                                                                                                                                                                                                                                                                                                                                                                                                                                                                                                                                                                                                                                                                                                                                                                                                                                                                                                                                                                                   ...   \n",
      "544                                                                                                                                                                                                                                                                                                                                                                                                                                                                                                                                                                                                                                                                                                                                                                                                                                                                                                                                                                                                                                                                                                                                                                                                                                                                                                                                                                                                                                                                                                                                                                                                                                                                                                well the wife is  letting the sink overflow and slop on the shes wiping a dish .   shes apparently looking out the window .  the kid thats  reaching for  the boy thats reaching  the sister is reaching up for a cookie .  shes got her finger pointed sort of at her nose .   . outside I see nothing thats going on, action .   .. thats it .        \n",
      "545                                                                                                                                                                                                                                                                                                                                                                                                                                                                                                                                                                                                                                                                                                                                                                                                                                                                                                                                                                 this is the one where I insisted the tree doesnt have a trunk and okay what do you want me to do ?    tell a  ?    this is a tree and it  d if it had a trunk it would continue . this is the top sash of the window and it hasta have a trunk down  so what ?    well whats this ?     isnt that a tree ?    looks like a tree to me .    okay what do you want me to ?    do you  all the action ?     okay .    theres a little boy in short pants with short sleeves who is and the lid is falling off the cookie jar .  and the stool is upsetting .  and its a three legged stool .  and the little girl is shushing because the mother is standing and shes wiping a dish instead of the mess .  and shes wearing an apron and she has on sleeveless clothes .    I dont know .    I could go on .    there are two cups and a plate and shes drying another plate .  and  she has short hair thats parted on the left hand side .  and the little boy has a high pompadour .  and the little girl has long hair and a long  low waisted dress how long should I go on ?        \n",
      "546  oh  its the same picture .    you should give me a different one .    why  ?    it would be more fun if you had some variety .    okay .    we have here a scene in a kitchen .  and it looks as though thats a mama who is working at the sink and and the two children are hoping that mama will not notice because so  the boy climbs up on a stool to reach the cookie jar .  and as hes getting up there the   the stool and he looks as though he were about to fall over .  and the little girl is telling him to be quiet by putting her he has one cookie in his hand, is reaching for another one .  the lid is off the cookie jar .  the cupboard door is open .  hes supposedly going to hand one cookie it looks as though he is on the other  around the corner of the kitchen   there are cupboards below the counter and above the counter where then when you get over and have turned a corner in the kitchen you and then you have a window above that which is looking out into there are things growing out there .  theres a walk .  theres   some shrubbery underneath another window that theres a tree beyond .  there are tie back curtains at the window .  the mother is working at the sink .  and the faucet is left on .  and apparently theres no overflow in the sink .  so  its overflowing right onto the floor splasho  splasho . and  she has on a sleeveless dress which also indicates that and it looks though she has an apron on .  she has short hair .   she is drying a dish with a tea towel  a plate with a  beside the sink there are two cups and a plate .  looks as though theres some suds and some dishes in the sink . and two faucets with xl type handles one on either side and a she has shoes on with no ties, just sort of slipon shoes .  theres a little scallop valance across the top of the curtains .  hm . I think thats all Im gonna tell you .    well  the handles on the door are the kind that are just  and whats really strange is that you cant see any handles on the     \n",
      "547                                                                                                                                                                                                                                                                                                                                                                                                                                                                                                                                                                                                                                                                                                                                                                                                                                                                                                                                                                                                                                                                                                                                                                                                                                                                                                                                                                                                                                                                                              thats it .    okay  the boy is in the cookie jar and giving them to his sister mothers washing the dishes .  the waters overflowing in the sink .  the boy is falling off the stool .   the girl is eating a cookie asking for another .   the covers off the cookie jar .  door to the cabinet is open .  gram   the window outside is open .  the yard .  gram  the mother is impervious of whats going on .  shes unconscious just standing in the water and wiping the dishes . thats about it .    the wind might be blowing near the curtain .      \n",
      "548                                                                                                                                                                                                                                                                                                                                                                                                                                                                                                                                                                                                                                                                                                                                                                                                                                                                                                                                                                                                                                                                                                                                                                                                                                          doesnt matter where you start then right ?    alright .    theres  a little boy on a  stepstool which is tilted .  and hes getting some cookies .  now do you want descriptive as far as the cookie lids or  or how  just the action .    okay .    and looks like hes trying to hand a cookie to his sister .  she kindof has her finger up towards her mouth or something like  the mothers drying dishes but the water is overflowing onto .  .. I dont know, the silk  pwret  the .. now we should call the   the  au the cup and the thats not action right is it ?      the breeze might be blowing .  the curtains look like they might be ...  . any other action .    I dont see anything else .    I just see into the outdoors but I dont see anything moving .   thats about it  I guess .        \n",
      "\n",
      "    MSS Score Age   id  Meet Num  \n",
      "1          15  75  007         3  \n",
      "2          18  57  001         0  \n",
      "4          24  77  134         0  \n",
      "5          24  84  057         1  \n",
      "6          18  58  356         1  \n",
      "..        ...  ..  ...       ...  \n",
      "544        00  78  056         4  \n",
      "545        30  68  015         2  \n",
      "546        29  73  128         3  \n",
      "547        30  58  132         0  \n",
      "548        30  58  140         0  \n",
      "\n",
      "[407 rows x 7 columns]\n"
     ]
    }
   ],
   "source": [
    "duplicates = df.duplicated(subset=['id'], keep=False)\n",
    "\n",
    "if duplicates.any():\n",
    "    print(\"There are rows with the same value in column 'A':\")\n",
    "    print(df[duplicates])\n",
    "else:\n",
    "    print(\"There are no rows with the same value in column 'A'.\")"
   ]
  },
  {
   "cell_type": "code",
   "execution_count": 16,
   "id": "60cfea6e",
   "metadata": {},
   "outputs": [],
   "source": [
    "demo = pd.read_csv(\"PItt-demo.csv\")\n",
    "\n",
    "demo.columns = demo.iloc[1] \n",
    "demo = demo.drop(df.index[1])\n",
    "demo = demo.drop(df.index[0])"
   ]
  },
  {
   "cell_type": "code",
   "execution_count": 17,
   "id": "cf35b37b",
   "metadata": {},
   "outputs": [],
   "source": [
    "df['id'] = df['id'].astype(str).str.lstrip('0')\n",
    "\n",
    "demo['id'] = demo['id'].astype(str).str.lstrip('0')\n",
    "\n",
    "df1 = pd.merge(df, demo, on='id', how='outer')"
   ]
  },
  {
   "cell_type": "code",
   "execution_count": 18,
   "id": "a534b221",
   "metadata": {},
   "outputs": [],
   "source": [
    "df1 = df1.dropna(subset=['File Name'])\n",
    "\n",
    "df1.reset_index(drop=True, inplace=True)"
   ]
  },
  {
   "cell_type": "code",
   "execution_count": 19,
   "id": "18235cbc",
   "metadata": {},
   "outputs": [],
   "source": [
    "df1.loc[df1['MSS Score'] == '00', 'MSS Score'] = 'na'"
   ]
  },
  {
   "cell_type": "code",
   "execution_count": 23,
   "id": "7136a743",
   "metadata": {
    "scrolled": false
   },
   "outputs": [
    {
     "name": "stderr",
     "output_type": "stream",
     "text": [
      "C:\\Users\\kaiso\\AppData\\Local\\Temp\\ipykernel_20600\\2424404988.py:5: SettingWithCopyWarning: \n",
      "A value is trying to be set on a copy of a slice from a DataFrame.\n",
      "Try using .loc[row_indexer,col_indexer] = value instead\n",
      "\n",
      "See the caveats in the documentation: https://pandas.pydata.org/pandas-docs/stable/user_guide/indexing.html#returning-a-view-versus-a-copy\n",
      "  df['Transcript'] = df['Transcript'].str.replace('gram', '')\n"
     ]
    }
   ],
   "source": [
    "df1 = df1.dropna(subset=['File Name'])\n",
    "columns_to_keep = ['File Name', 'id', 'Transcript', 'MSS Score', 'Age', 'educ', 'sex','race', 'onsetage', 'basedx', 'dx2','Meet Num']\n",
    "\n",
    "df = df1[df1.columns.intersection(columns_to_keep)]\n",
    "df['Transcript'] = df['Transcript'].str.replace('gram', '')\n",
    "#df.head()"
   ]
  },
  {
   "cell_type": "code",
   "execution_count": 24,
   "id": "5bd3a3a3",
   "metadata": {
    "scrolled": false
   },
   "outputs": [
    {
     "name": "stdout",
     "output_type": "stream",
     "text": [
      "No rows with the same id found.\n",
      "\n",
      "DataFrame after reindexing:\n"
     ]
    }
   ],
   "source": [
    "df = df.sort_values(by=['id', 'Meet Num'], ascending=[True, False])\n",
    "df = df.drop_duplicates(subset='id', keep='first')\n",
    "df = df.reset_index(drop=True)\n",
    "\n",
    "duplicated_ids = df[df.duplicated(subset='id', keep=False)]\n",
    "\n",
    "if not duplicated_ids.empty:\n",
    "    print(\"Rows with the same id found:\")\n",
    "    print(duplicated_ids)\n",
    "else:\n",
    "    print(\"No rows with the same id found.\")\n",
    "\n",
    "print(\"\\nDataFrame after reindexing:\")"
   ]
  },
  {
   "cell_type": "code",
   "execution_count": 25,
   "id": "44098813",
   "metadata": {},
   "outputs": [],
   "source": [
    "#Total word count\n",
    "def count_total_words(sentence):\n",
    "    if isinstance(sentence, str):\n",
    "        \n",
    "        words = sentence.split()\n",
    "        return len(words)\n",
    "    else:\n",
    "        return 0  \n",
    "\n",
    "df['Total Word Count'] = df['Transcript'].apply(count_total_words)\n",
    "\n",
    "#Unique words\n",
    "\n",
    "def count_unique_words(text):\n",
    "    words = text.split()\n",
    "    word_counts = Counter(words)\n",
    "    unique_word_count = sum(1 for word, count in word_counts.items() if count == 1)\n",
    "    return unique_word_count\n",
    "df['Unique_Word_Count'] = df['Transcript'].apply(count_unique_words)\n",
    "#TTR\n",
    "\n",
    "df['TTR'] = df['Unique_Word_Count']/df['Total Word Count']"
   ]
  },
  {
   "cell_type": "code",
   "execution_count": 26,
   "id": "acb4a784",
   "metadata": {},
   "outputs": [],
   "source": [
    "df = df[df['basedx'].isin(['1', '8'])]\n",
    "\n",
    "df.reset_index(drop=True, inplace=True)"
   ]
  },
  {
   "cell_type": "code",
   "execution_count": 27,
   "id": "ae0f511c",
   "metadata": {
    "scrolled": true
   },
   "outputs": [
    {
     "data": {
      "text/html": [
       "<div>\n",
       "<style scoped>\n",
       "    .dataframe tbody tr th:only-of-type {\n",
       "        vertical-align: middle;\n",
       "    }\n",
       "\n",
       "    .dataframe tbody tr th {\n",
       "        vertical-align: top;\n",
       "    }\n",
       "\n",
       "    .dataframe thead th {\n",
       "        text-align: right;\n",
       "    }\n",
       "</style>\n",
       "<table border=\"1\" class=\"dataframe tex2jax_ignore\">\n",
       "  <thead>\n",
       "    <tr style=\"text-align: right;\">\n",
       "      <th></th>\n",
       "      <th>File Name</th>\n",
       "      <th>Transcript</th>\n",
       "      <th>MSS Score</th>\n",
       "      <th>Age</th>\n",
       "      <th>id</th>\n",
       "      <th>Meet Num</th>\n",
       "      <th>basedx</th>\n",
       "      <th>dx2</th>\n",
       "      <th>onsetage</th>\n",
       "      <th>sex</th>\n",
       "      <th>race</th>\n",
       "      <th>educ</th>\n",
       "      <th>Total Word Count</th>\n",
       "      <th>Unique_Word_Count</th>\n",
       "      <th>TTR</th>\n",
       "    </tr>\n",
       "  </thead>\n",
       "  <tbody>\n",
       "    <tr>\n",
       "      <th>0</th>\n",
       "      <td>001-2.cha</td>\n",
       "      <td>mhm .  theres a young boy  going in a cookie jar .  and theres a  lit a girl  young girl .  and Im saying hes a boy because you can  rd its  and hes  hes in the   cookie jar .  and theres a  stool that he is on and it already is starting to and so is the water in the sink  is ev overflowing in the sink hm I  I dont know about the  this hickey here I   like it  the wife or g Imean   the  the and shes     h she has   has .  oh  I  I cant think of the ...  she has  the shes trying to wipe   wipe dishes .  oh  and stop the water from going out .</td>\n",
       "      <td>11</td>\n",
       "      <td>59</td>\n",
       "      <td>1</td>\n",
       "      <td>2.0</td>\n",
       "      <td>1</td>\n",
       "      <td>NaN</td>\n",
       "      <td>54</td>\n",
       "      <td>1</td>\n",
       "      <td>1</td>\n",
       "      <td>14</td>\n",
       "      <td>122</td>\n",
       "      <td>40</td>\n",
       "      <td>0.327869</td>\n",
       "    </tr>\n",
       "    <tr>\n",
       "      <th>1</th>\n",
       "      <td>010-4.cha</td>\n",
       "      <td>kids are trying to get a       ...  its full of  its full of  mistakes .  its full of mistakes .  its full of mistakes .  hes changing  surret  taking cookie jar . thats all .    the mothers just drying the dishes .  n n n n n n   n   from the from  .  this is  ...</td>\n",
       "      <td>na</td>\n",
       "      <td>70</td>\n",
       "      <td>10</td>\n",
       "      <td>4.0</td>\n",
       "      <td>1</td>\n",
       "      <td>730</td>\n",
       "      <td>63</td>\n",
       "      <td>1</td>\n",
       "      <td>1</td>\n",
       "      <td>12</td>\n",
       "      <td>56</td>\n",
       "      <td>20</td>\n",
       "      <td>0.357143</td>\n",
       "    </tr>\n",
       "    <tr>\n",
       "      <th>2</th>\n",
       "      <td>105-2.cha</td>\n",
       "      <td>what do I tell you when I see it ?     as I see it ?     is there something going on here or  ..?    oh its just ...    well the first bad thing I see is the water running outof the and the little boy up stealing cookies and giving one to his and mamas drying the dishes and standing in the water .  shes looking the other direction .  and the little boys falling off the stool  standing up on hes gonna get hurt . when he hits that sink .   like an airplane going crazy .    hmhunh no .    . you can see out the window . out into the yard .  and you can see  a window over there on the other side of the</td>\n",
       "      <td>na</td>\n",
       "      <td>58</td>\n",
       "      <td>105</td>\n",
       "      <td>2.0</td>\n",
       "      <td>8</td>\n",
       "      <td>-2</td>\n",
       "      <td>56</td>\n",
       "      <td>0</td>\n",
       "      <td>1</td>\n",
       "      <td>20</td>\n",
       "      <td>127</td>\n",
       "      <td>56</td>\n",
       "      <td>0.440945</td>\n",
       "    </tr>\n",
       "    <tr>\n",
       "      <th>3</th>\n",
       "      <td>109-4.cha</td>\n",
       "      <td>the boy is taking  cookies .   the girl is  is saying .   quiet .  hes  hes  the boy is falling off the stool .   the mother is drying dishes .  the water is running over the sink .   the curtains are blowing in the breeze .   hm  hm  hm .    the girl is putting her hand up to have him pass the cookies .   shes drying the dishes .  the waters running over .  its splashing on the floor .  . well the windows open but thats not action .  thats the curtain blowing right ?    I guess thats it .    hes passing her the cookies .  did I say that ?    and hes taking them out of the jar .</td>\n",
       "      <td>30</td>\n",
       "      <td>64</td>\n",
       "      <td>109</td>\n",
       "      <td>4.0</td>\n",
       "      <td>8</td>\n",
       "      <td>-2</td>\n",
       "      <td>60</td>\n",
       "      <td>0</td>\n",
       "      <td>1</td>\n",
       "      <td>12</td>\n",
       "      <td>121</td>\n",
       "      <td>44</td>\n",
       "      <td>0.363636</td>\n",
       "    </tr>\n",
       "    <tr>\n",
       "      <th>4</th>\n",
       "      <td>113-3.cha</td>\n",
       "      <td>little boy getting in the cookie jar .    and the little girl holding out her hand for some cookies .  and a stool the boy is on is about to tip over .  and a lady is drying a dish .  and the water is running over overflowing from the sink .   you said just the action ?     the lady is stepping in the water on the floor .  hm I dont know whats going on outside the window .</td>\n",
       "      <td>30</td>\n",
       "      <td>50</td>\n",
       "      <td>113</td>\n",
       "      <td>3.0</td>\n",
       "      <td>8</td>\n",
       "      <td>-2</td>\n",
       "      <td>47</td>\n",
       "      <td>0</td>\n",
       "      <td>1</td>\n",
       "      <td>14</td>\n",
       "      <td>80</td>\n",
       "      <td>36</td>\n",
       "      <td>0.450000</td>\n",
       "    </tr>\n",
       "    <tr>\n",
       "      <th>...</th>\n",
       "      <td>...</td>\n",
       "      <td>...</td>\n",
       "      <td>...</td>\n",
       "      <td>...</td>\n",
       "      <td>...</td>\n",
       "      <td>...</td>\n",
       "      <td>...</td>\n",
       "      <td>...</td>\n",
       "      <td>...</td>\n",
       "      <td>...</td>\n",
       "      <td>...</td>\n",
       "      <td>...</td>\n",
       "      <td>...</td>\n",
       "      <td>...</td>\n",
       "      <td>...</td>\n",
       "    </tr>\n",
       "    <tr>\n",
       "      <th>234</th>\n",
       "      <td>092-3.cha</td>\n",
       "      <td>the girls reaching for a cookie .  the boy is reaching in the cookie jar .  hes standing on the stool .  the stool is tipping over .  sho the girl with her finger to her mouth .    the mother is drying a dish .  the sink is overflowing with water .  the things that are doing, not things that are going on ?    thats it .</td>\n",
       "      <td>na</td>\n",
       "      <td>65</td>\n",
       "      <td>92</td>\n",
       "      <td>3.0</td>\n",
       "      <td>8</td>\n",
       "      <td>-2</td>\n",
       "      <td>62</td>\n",
       "      <td>0</td>\n",
       "      <td>1</td>\n",
       "      <td>12</td>\n",
       "      <td>67</td>\n",
       "      <td>26</td>\n",
       "      <td>0.388060</td>\n",
       "    </tr>\n",
       "    <tr>\n",
       "      <th>235</th>\n",
       "      <td>093-1.cha</td>\n",
       "      <td>well I see the mother doing the dishes .  the sink  the water running over in the sink .    the boys taking cookies from the cookie jar .  and he  l the stool is falling over .  and the little girl has her hands up to her mouth in other words to  and the stools falling .  yeah thats it .    she has her hand up for him to pass her a cookie then be quiet .  mothers ...  the dishes in the sink  .  yeah okay .</td>\n",
       "      <td>28</td>\n",
       "      <td>65</td>\n",
       "      <td>93</td>\n",
       "      <td>1.0</td>\n",
       "      <td>8</td>\n",
       "      <td>NaN</td>\n",
       "      <td>64</td>\n",
       "      <td>0</td>\n",
       "      <td>1</td>\n",
       "      <td>12</td>\n",
       "      <td>88</td>\n",
       "      <td>37</td>\n",
       "      <td>0.420455</td>\n",
       "    </tr>\n",
       "    <tr>\n",
       "      <th>236</th>\n",
       "      <td>094-3.cha</td>\n",
       "      <td>mother son and daughter .    the waters spilling outof the sink .   .   shes drying the dishes .  the  the kids are into the cookie jar  .  am I going too fast ?    how many you got  ?    how many you need ?    oh .     you got the water running over .   and the little boys  gonna fall because its already what thing hes standing on .  cir    stool .    is that all ?</td>\n",
       "      <td>na</td>\n",
       "      <td>76</td>\n",
       "      <td>94</td>\n",
       "      <td>3.0</td>\n",
       "      <td>1</td>\n",
       "      <td>NaN</td>\n",
       "      <td>70</td>\n",
       "      <td>0</td>\n",
       "      <td>1</td>\n",
       "      <td>12</td>\n",
       "      <td>74</td>\n",
       "      <td>42</td>\n",
       "      <td>0.567568</td>\n",
       "    </tr>\n",
       "    <tr>\n",
       "      <th>237</th>\n",
       "      <td>096-2.cha</td>\n",
       "      <td>what do I see going on ?    just  just start to describe it ?    the girl wants a cookie .  and the boys  trying to get a cookie outof the cookie jar .  and the stools falling over .  and the water  spigots turned on .  the waters overflowing .  and the mothers doing the dishes .  and  the windows open .  and  . its spring outside somethings growing .  the windows open .  anything else ?    shes drying the dishes .  has a dress on .    her feets  ma in the water .    . the lids off the cookie jar .  and the kid has a hand on  one hand  in the right hand hes giving  gonna give it to the sister .</td>\n",
       "      <td>na</td>\n",
       "      <td>73</td>\n",
       "      <td>96</td>\n",
       "      <td>2.0</td>\n",
       "      <td>8</td>\n",
       "      <td>NaN</td>\n",
       "      <td>71</td>\n",
       "      <td>1</td>\n",
       "      <td>1</td>\n",
       "      <td>18</td>\n",
       "      <td>124</td>\n",
       "      <td>45</td>\n",
       "      <td>0.362903</td>\n",
       "    </tr>\n",
       "    <tr>\n",
       "      <th>238</th>\n",
       "      <td>097-1.cha</td>\n",
       "      <td>all the action .    whats going on in this picture ?    oh the boy is up trying to take  pw .  and the womans sink is running over .  and these are curtains .  and his stool is tumbling over .  anything else wrong with the picture ?</td>\n",
       "      <td>10</td>\n",
       "      <td>79</td>\n",
       "      <td>97</td>\n",
       "      <td>1.0</td>\n",
       "      <td>1</td>\n",
       "      <td>730</td>\n",
       "      <td>75</td>\n",
       "      <td>0</td>\n",
       "      <td>1</td>\n",
       "      <td>9</td>\n",
       "      <td>48</td>\n",
       "      <td>27</td>\n",
       "      <td>0.562500</td>\n",
       "    </tr>\n",
       "  </tbody>\n",
       "</table>\n",
       "<p>239 rows × 15 columns</p>\n",
       "</div>"
      ],
      "text/plain": [
       "     File Name  \\\n",
       "0    001-2.cha   \n",
       "1    010-4.cha   \n",
       "2    105-2.cha   \n",
       "3    109-4.cha   \n",
       "4    113-3.cha   \n",
       "..         ...   \n",
       "234  092-3.cha   \n",
       "235  093-1.cha   \n",
       "236  094-3.cha   \n",
       "237  096-2.cha   \n",
       "238  097-1.cha   \n",
       "\n",
       "                                                                                                                                                                                                                                                                                                                                                                                                                                                                                                                                                                                                                         Transcript  \\\n",
       "0                                                            mhm .  theres a young boy  going in a cookie jar .  and theres a  lit a girl  young girl .  and Im saying hes a boy because you can  rd its  and hes  hes in the   cookie jar .  and theres a  stool that he is on and it already is starting to and so is the water in the sink  is ev overflowing in the sink hm I  I dont know about the  this hickey here I   like it  the wife or g Imean   the  the and shes     h she has   has .  oh  I  I cant think of the ...  she has  the shes trying to wipe   wipe dishes .  oh  and stop the water from going out .      \n",
       "1                                                                                                                                                                                                                                                                                                                                                      kids are trying to get a       ...  its full of  its full of  mistakes .  its full of mistakes .  its full of mistakes .  hes changing  surret  taking cookie jar . thats all .    the mothers just drying the dishes .  n n n n n n   n   from the from  .  this is  ...      \n",
       "2    what do I tell you when I see it ?     as I see it ?     is there something going on here or  ..?    oh its just ...    well the first bad thing I see is the water running outof the and the little boy up stealing cookies and giving one to his and mamas drying the dishes and standing in the water .  shes looking the other direction .  and the little boys falling off the stool  standing up on hes gonna get hurt . when he hits that sink .   like an airplane going crazy .    hmhunh no .    . you can see out the window . out into the yard .  and you can see  a window over there on the other side of the     \n",
       "3                      the boy is taking  cookies .   the girl is  is saying .   quiet .  hes  hes  the boy is falling off the stool .   the mother is drying dishes .  the water is running over the sink .   the curtains are blowing in the breeze .   hm  hm  hm .    the girl is putting her hand up to have him pass the cookies .   shes drying the dishes .  the waters running over .  its splashing on the floor .  . well the windows open but thats not action .  thats the curtain blowing right ?    I guess thats it .    hes passing her the cookies .  did I say that ?    and hes taking them out of the jar .      \n",
       "4                                                                                                                                                                                                                                      little boy getting in the cookie jar .    and the little girl holding out her hand for some cookies .  and a stool the boy is on is about to tip over .  and a lady is drying a dish .  and the water is running over overflowing from the sink .   you said just the action ?     the lady is stepping in the water on the floor .  hm I dont know whats going on outside the window .        \n",
       "..                                                                                                                                                                                                                                                                                                                                                                                                                                                                                                                                                                                                                              ...   \n",
       "234                                                                                                                                                                                                                                                                                          the girls reaching for a cookie .  the boy is reaching in the cookie jar .  hes standing on the stool .  the stool is tipping over .  sho the girl with her finger to her mouth .    the mother is drying a dish .  the sink is overflowing with water .  the things that are doing, not things that are going on ?    thats it .        \n",
       "235                                                                                                                                                                                                  well I see the mother doing the dishes .  the sink  the water running over in the sink .    the boys taking cookies from the cookie jar .  and he  l the stool is falling over .  and the little girl has her hands up to her mouth in other words to  and the stools falling .  yeah thats it .    she has her hand up for him to pass her a cookie then be quiet .  mothers ...  the dishes in the sink  .  yeah okay .        \n",
       "236                                                                                                                                                                                                                                           mother son and daughter .    the waters spilling outof the sink .   .   shes drying the dishes .  the  the kids are into the cookie jar  .  am I going too fast ?    how many you got  ?    how many you need ?    oh .     you got the water running over .   and the little boys  gonna fall because its already what thing hes standing on .  cir    stool .    is that all ?        \n",
       "237    what do I see going on ?    just  just start to describe it ?    the girl wants a cookie .  and the boys  trying to get a cookie outof the cookie jar .  and the stools falling over .  and the water  spigots turned on .  the waters overflowing .  and the mothers doing the dishes .  and  the windows open .  and  . its spring outside somethings growing .  the windows open .  anything else ?    shes drying the dishes .  has a dress on .    her feets  ma in the water .    . the lids off the cookie jar .  and the kid has a hand on  one hand  in the right hand hes giving  gonna give it to the sister .      \n",
       "238                                                                                                                                                                                                                                                                                                                                                                                   all the action .    whats going on in this picture ?    oh the boy is up trying to take  pw .  and the womans sink is running over .  and these are curtains .  and his stool is tumbling over .  anything else wrong with the picture ?        \n",
       "\n",
       "    MSS Score Age   id  Meet Num basedx  dx2 onsetage sex race  educ  \\\n",
       "0          11  59    1       2.0      1  NaN       54   1    1    14   \n",
       "1          na  70   10       4.0      1  730       63   1    1    12   \n",
       "2          na  58  105       2.0      8   -2       56   0    1    20   \n",
       "3          30  64  109       4.0      8   -2       60   0    1    12   \n",
       "4          30  50  113       3.0      8   -2       47   0    1    14   \n",
       "..        ...  ..  ...       ...    ...  ...      ...  ..  ...   ...   \n",
       "234        na  65   92       3.0      8   -2       62   0    1    12   \n",
       "235        28  65   93       1.0      8  NaN       64   0    1    12   \n",
       "236        na  76   94       3.0      1  NaN       70   0    1    12   \n",
       "237        na  73   96       2.0      8  NaN       71   1    1    18   \n",
       "238        10  79   97       1.0      1  730       75   0    1     9   \n",
       "\n",
       "     Total Word Count  Unique_Word_Count       TTR  \n",
       "0                 122                 40  0.327869  \n",
       "1                  56                 20  0.357143  \n",
       "2                 127                 56  0.440945  \n",
       "3                 121                 44  0.363636  \n",
       "4                  80                 36  0.450000  \n",
       "..                ...                ...       ...  \n",
       "234                67                 26  0.388060  \n",
       "235                88                 37  0.420455  \n",
       "236                74                 42  0.567568  \n",
       "237               124                 45  0.362903  \n",
       "238                48                 27  0.562500  \n",
       "\n",
       "[239 rows x 15 columns]"
      ]
     },
     "execution_count": 27,
     "metadata": {},
     "output_type": "execute_result"
    }
   ],
   "source": [
    "df = df[df['race'] != '2']\n",
    "df.reset_index(drop=True)"
   ]
  },
  {
   "cell_type": "code",
   "execution_count": 28,
   "id": "5f404540",
   "metadata": {
    "scrolled": true
   },
   "outputs": [],
   "source": [
    "def keep_first_150_words(text):\n",
    "    words = text.split()[:150]\n",
    "    return ' '.join(words)\n",
    "\n",
    "df['Transcript'] = df['Transcript'].apply(keep_first_150_words)"
   ]
  },
  {
   "cell_type": "code",
   "execution_count": 29,
   "id": "f2a9f26d",
   "metadata": {},
   "outputs": [
    {
     "name": "stdout",
     "output_type": "stream",
     "text": [
      "Maximum value of 'TTR' in rows with basedx=8: 21\n"
     ]
    }
   ],
   "source": [
    "df_basedx_8 = df[df['basedx'] == '8']\n",
    "\n",
    "max_TTR_basedx_8 = df_basedx_8['educ'].max()\n",
    "\n",
    "print(\"Maximum value of 'TTR' in rows with basedx=8:\", max_TTR_basedx_8)"
   ]
  },
  {
   "cell_type": "markdown",
   "id": "80b4d36c",
   "metadata": {},
   "source": [
    "# outliers"
   ]
  },
  {
   "cell_type": "code",
   "execution_count": 30,
   "id": "7d84445b",
   "metadata": {
    "scrolled": false
   },
   "outputs": [],
   "source": [
    "df['z_score'] = stats.zscore(df['TTR'])\n",
    "\n",
    "df = df[abs(df['z_score']) <= 3.0]\n",
    "#df = df.drop(columns=['z_score'])"
   ]
  },
  {
   "cell_type": "markdown",
   "id": "c123a647",
   "metadata": {},
   "source": [
    "# Age and education matching"
   ]
  },
  {
   "cell_type": "code",
   "execution_count": 32,
   "id": "6bcd4942",
   "metadata": {},
   "outputs": [],
   "source": [
    "df['Age'] = df['Age'].astype(int)"
   ]
  },
  {
   "cell_type": "code",
   "execution_count": 36,
   "id": "e83a1453",
   "metadata": {
    "scrolled": false
   },
   "outputs": [
    {
     "name": "stderr",
     "output_type": "stream",
     "text": [
      "C:\\Users\\kaiso\\AppData\\Roaming\\Python\\Python310\\site-packages\\researchpy\\ttest.py:38: FutureWarning: The series.append method is deprecated and will be removed from pandas in a future version. Use pandas.concat instead.\n",
      "  groups = group1.append(group2, ignore_index= True)\n"
     ]
    },
    {
     "data": {
      "text/plain": [
       "(   Variable      N       Mean        SD        SE  95% Conf.   Interval\n",
       " 0      educ   61.0  12.934426  2.308454  0.295567  12.343204  13.525649\n",
       " 1      educ   62.0  13.709677  2.391152  0.303677  13.102438  14.316916\n",
       " 2  combined  123.0  13.325203  2.372990  0.213965  12.901638  13.748769,\n",
       "           Satterthwaite t-test   results\n",
       " 0  Difference (educ - educ) =    -0.7753\n",
       " 1        Degrees of freedom =   120.9573\n",
       " 2                         t =    -1.8294\n",
       " 3     Two side test p value =     0.0698\n",
       " 4    Difference < 0 p value =     0.0349\n",
       " 5    Difference > 0 p value =     0.9651\n",
       " 6                 Cohen's d =    -0.3298\n",
       " 7                 Hedge's g =    -0.3278\n",
       " 8            Glass's delta1 =    -0.3358\n",
       " 9          Point-Biserial r =    -0.1641)"
      ]
     },
     "execution_count": 36,
     "metadata": {},
     "output_type": "execute_result"
    }
   ],
   "source": [
    "ad = df[df['basedx'] == '1']['educ']\n",
    "hc = df[df['basedx'] == '8']['educ']\n",
    "\n",
    "\n",
    "huh = rp(ad, hc, equal_variances=False)\n",
    "huh"
   ]
  },
  {
   "cell_type": "code",
   "execution_count": 37,
   "id": "a54b1fe9",
   "metadata": {
    "scrolled": false
   },
   "outputs": [
    {
     "name": "stderr",
     "output_type": "stream",
     "text": [
      "C:\\Users\\kaiso\\AppData\\Roaming\\Python\\Python310\\site-packages\\researchpy\\ttest.py:38: FutureWarning: The series.append method is deprecated and will be removed from pandas in a future version. Use pandas.concat instead.\n",
      "  groups = group1.append(group2, ignore_index= True)\n"
     ]
    },
    {
     "data": {
      "text/plain": [
       "(   Variable      N       Mean        SD        SE  95% Conf.   Interval\n",
       " 0       Age   61.0  70.049180  7.761929  0.993813  68.061258  72.037103\n",
       " 1       Age   62.0  68.467742  6.390869  0.811641  66.844765  70.090719\n",
       " 2  combined  123.0  69.252033  7.119119  0.641909  67.981309  70.522756,\n",
       "         Satterthwaite t-test   results\n",
       " 0  Difference (Age - Age) =     1.5814\n",
       " 1      Degrees of freedom =   115.9803\n",
       " 2                       t =     1.2325\n",
       " 3   Two side test p value =     0.2203\n",
       " 4  Difference < 0 p value =     0.8899\n",
       " 5  Difference > 0 p value =     0.1101\n",
       " 6               Cohen's d =     0.2226\n",
       " 7               Hedge's g =     0.2212\n",
       " 8          Glass's delta1 =     0.2037\n",
       " 9        Point-Biserial r =     0.1137)"
      ]
     },
     "execution_count": 37,
     "metadata": {},
     "output_type": "execute_result"
    }
   ],
   "source": [
    "df['Age'] = df['Age'].astype(int)\n",
    "ad = df[df['basedx'] == '1']['Age']\n",
    "hc = df[df['basedx'] == '8']['Age']\n",
    "\n",
    "\n",
    "huh = rp(ad, hc, equal_variances=False)\n",
    "huh"
   ]
  },
  {
   "cell_type": "code",
   "execution_count": 52,
   "id": "e90b376f",
   "metadata": {},
   "outputs": [
    {
     "name": "stdout",
     "output_type": "stream",
     "text": [
      "Number of rows where 'basedx' and 'sex' are both 1: 73\n"
     ]
    }
   ],
   "source": [
    "bru = df[(df['sex'] == '0')]\n",
    "\n",
    "# Count the number of rows in the filtered DataFrame\n",
    "count = len(bru)\n",
    "\n",
    "# Print the result\n",
    "print(bru)"
   ]
  },
  {
   "cell_type": "code",
   "execution_count": 38,
   "id": "36f4e546",
   "metadata": {
    "scrolled": true
   },
   "outputs": [
    {
     "name": "stderr",
     "output_type": "stream",
     "text": [
      "C:\\Users\\kaiso\\AppData\\Roaming\\Python\\Python310\\site-packages\\researchpy\\ttest.py:38: FutureWarning: The series.append method is deprecated and will be removed from pandas in a future version. Use pandas.concat instead.\n",
      "  groups = group1.append(group2, ignore_index= True)\n"
     ]
    },
    {
     "data": {
      "text/plain": [
       "(   Variable      N      Mean        SD        SE  95% Conf.  Interval\n",
       " 0       TTR   61.0  0.373267  0.108395  0.013879   0.345505  0.401028\n",
       " 1       TTR   62.0  0.463747  0.085791  0.010895   0.441960  0.485533\n",
       " 2  combined  123.0  0.418874  0.107339  0.009678   0.399715  0.438034,\n",
       "         Satterthwaite t-test   results\n",
       " 0  Difference (TTR - TTR) =    -0.0905\n",
       " 1      Degrees of freedom =   114.1135\n",
       " 2                       t =    -5.1280\n",
       " 3   Two side test p value =     0.0000\n",
       " 4  Difference < 0 p value =     0.0000\n",
       " 5  Difference > 0 p value =     1.0000\n",
       " 6               Cohen's d =    -0.9265\n",
       " 7               Hedge's g =    -0.9208\n",
       " 8          Glass's delta1 =    -0.8347\n",
       " 9        Point-Biserial r =    -0.4328)"
      ]
     },
     "execution_count": 38,
     "metadata": {},
     "output_type": "execute_result"
    }
   ],
   "source": [
    "ad = df[df['basedx'] == '1']['TTR']\n",
    "hc = df[df['basedx'] == '8']['TTR']\n",
    "\n",
    "\n",
    "huh = rp(ad, hc, equal_variances=False)\n",
    "huh"
   ]
  },
  {
   "cell_type": "code",
   "execution_count": 39,
   "id": "efc106d2",
   "metadata": {},
   "outputs": [
    {
     "name": "stdout",
     "output_type": "stream",
     "text": [
      "Class: 1\n",
      "Shapiro-Wilk Test Statistic: 0.9695\n",
      "P-value: 0.1315\n",
      "Class: 8\n",
      "Shapiro-Wilk Test Statistic: 0.9828\n",
      "P-value: 0.5360\n"
     ]
    }
   ],
   "source": [
    "####dfrhfj\n",
    "classes = df['basedx'].unique()\n",
    "\n",
    "for class_label in classes:\n",
    "    class_data = df.loc[df['basedx'] == class_label, 'TTR']\n",
    "    \n",
    "    \n",
    "    statistic, p_value = shapiro(class_data)\n",
    "    \n",
    "    \n",
    "    print(f\"Class: {class_label}\")\n",
    "    print(f\"Shapiro-Wilk Test Statistic: {statistic:.4f}\")\n",
    "    print(f\"P-value: {p_value:.4f}\")"
   ]
  },
  {
   "cell_type": "code",
   "execution_count": 40,
   "id": "a0bd8eb1",
   "metadata": {},
   "outputs": [
    {
     "data": {
      "image/png": "[encoded data removed]",
      "text/plain": [
       "<Figure size 1000x600 with 1 Axes>"
      ]
     },
     "metadata": {},
     "output_type": "display_data"
    }
   ],
   "source": [
    "import matplotlib.pyplot as plt\n",
    "ad_ddf = df[df['basedx'] == '1']\n",
    "#ad_ddf = ad_ddf[abs(df['z_score']) <= 2.5]\n",
    "control_ddf = df[df['basedx'] == '8']\n",
    "\n",
    "\n",
    "plt.figure(figsize=(10, 6))\n",
    "\n",
    "\n",
    "plt.hist(ad_ddf['TTR'], bins=10, edgecolor='black', alpha=0.7, label='AD Group')\n",
    "\n",
    "\n",
    "plt.hist(control_ddf['TTR'], bins=10, edgecolor='black', alpha=0.7, label='Control Group')\n",
    "\n",
    "\n",
    "plt.xlabel('TTR Range')\n",
    "plt.ylabel('Number of Samples')\n",
    "#plt.title('Type Token Ratio Comparison')\n",
    "plt.grid(True)\n",
    "\n",
    "plt.legend()\n",
    "plt.show()"
   ]
  },
  {
   "cell_type": "code",
   "execution_count": 41,
   "id": "9d80d81e",
   "metadata": {
    "scrolled": true
   },
   "outputs": [
    {
     "name": "stderr",
     "output_type": "stream",
     "text": [
      "C:\\Users\\kaiso\\AppData\\Local\\Temp\\ipykernel_20600\\1597564020.py:8: FutureWarning: \n",
      "\n",
      "The `ci` parameter is deprecated. Use `errorbar=None` for the same effect.\n",
      "\n",
      "  bar_plot = sns.barplot(x='basedx', y='mean_TTR', data=summary, palette='coolwarm', ci=None, width=0.4)\n",
      "C:\\Users\\kaiso\\AppData\\Local\\Temp\\ipykernel_20600\\1597564020.py:8: FutureWarning: \n",
      "\n",
      "Passing `palette` without assigning `hue` is deprecated and will be removed in v0.14.0. Assign the `x` variable to `hue` and set `legend=False` for the same effect.\n",
      "\n",
      "  bar_plot = sns.barplot(x='basedx', y='mean_TTR', data=summary, palette='coolwarm', ci=None, width=0.4)\n"
     ]
    },
    {
     "data": {
      "image/png": "[encoded data removed]",
      "text/plain": [
       "<Figure size 800x600 with 1 Axes>"
      ]
     },
     "metadata": {},
     "output_type": "display_data"
    }
   ],
   "source": [
    "summary = df.groupby('basedx').agg(\n",
    "    mean_TTR=('TTR', 'mean'),\n",
    "    sem_TTR=('TTR', lambda x: np.std(x, ddof=1) / np.sqrt(len(x)))\n",
    ").reset_index()\n",
    "\n",
    "\n",
    "plt.figure(figsize=(8, 6))\n",
    "bar_plot = sns.barplot(x='basedx', y='mean_TTR', data=summary, palette='coolwarm', ci=None, width=0.4)\n",
    "\n",
    "\n",
    "for index, row in summary.iterrows():\n",
    "    bar_plot.errorbar(\n",
    "        x=index, \n",
    "        y=row['mean_TTR'], \n",
    "        yerr=row['sem_TTR'], \n",
    "        fmt='none', \n",
    "        capsize=5, \n",
    "        color='black'\n",
    "    )\n",
    "\n",
    "plt.xlabel('Participant Group')\n",
    "plt.ylabel('Mean TTR')\n",
    "plt.xticks([0, 1], ['AD Group', 'Control Group'])\n",
    "\n",
    "\n",
    "p_value = 0.04\n",
    "if p_value < 0.05:\n",
    "    ylim = plt.gca().get_ylim()\n",
    "    offset = 0.06 * (ylim[1] - ylim[0])\n",
    "    center_x = (0 + 1) / 2  \n",
    "    plt.text(center_x, ylim[1] - offset, '*', ha='center', va='bottom', fontsize=16)\n",
    "\n",
    "plt.show()\n"
   ]
  },
  {
   "cell_type": "code",
   "execution_count": 42,
   "id": "c92d0de0",
   "metadata": {},
   "outputs": [],
   "source": [
    "file_path = 'AlzheimersSpeaks_.csv'\n",
    "df.to_csv(file_path, index=False)"
   ]
  }
 ],
 "metadata": {
  "kernelspec": {
   "display_name": "Python 3 (ipykernel)",
   "language": "python",
   "name": "python3"
  },
  "language_info": {
   "codemirror_mode": {
    "name": "ipython",
    "version": 3
   },
   "file_extension": ".py",
   "mimetype": "text/x-python",
   "name": "python",
   "nbconvert_exporter": "python",
   "pygments_lexer": "ipython3",
   "version": "3.10.9"
  }
 },
 "nbformat": 4,
 "nbformat_minor": 5
}
